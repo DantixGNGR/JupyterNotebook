{
 "cells": [
  {
   "cell_type": "code",
   "execution_count": 7,
   "id": "782036ca",
   "metadata": {},
   "outputs": [
    {
     "data": {
      "application/vnd.jupyter.widget-view+json": {
       "model_id": "",
       "version_major": 2,
       "version_minor": 0
      },
      "text/plain": [
       "FloatProgress(value=0.0, bar_style='info', description='Progress:', layout=Layout(height='25px', width='50%'),…"
      ]
     },
     "metadata": {},
     "output_type": "display_data"
    }
   ],
   "source": [
    "from pyspark.sql import functions as F\n",
    "from pyspark.sql.types import IntegerType,BooleanType,DateType,FloatType,StringType,DoubleType,DecimalType\n",
    "from pyspark.sql.functions import * \n",
    "\n",
    "from awsglue.transforms import *\n",
    "from awsglue.utils import getResolvedOptions\n",
    "from pyspark.context import SparkContext\n",
    "from awsglue.context import GlueContext\n",
    "\n",
    "sc = SparkContext.getOrCreate()\n",
    "gc = GlueContext(sc)"
   ]
  },
  {
   "cell_type": "code",
   "execution_count": 8,
   "id": "6c12ae1c",
   "metadata": {},
   "outputs": [
    {
     "data": {
      "application/vnd.jupyter.widget-view+json": {
       "model_id": "",
       "version_major": 2,
       "version_minor": 0
      },
      "text/plain": [
       "FloatProgress(value=0.0, bar_style='info', description='Progress:', layout=Layout(height='25px', width='50%'),…"
      ]
     },
     "metadata": {},
     "output_type": "display_data"
    }
   ],
   "source": [
    "# Create dynamic frame\n",
    "source_df = gc.create_data_frame_from_catalog( \n",
    "    database = \"trucapedb\", \n",
    "    table_name = \"trucape_invoices\", \n",
    ")\n",
    "\n",
    "# source_dyf = gc.create_data_frame.from_options(\n",
    "#     connection_type='s3',\n",
    "#     connection_options={'paths': [\"s3://sol-dev-source/Trucape-Invoices\"]},\n",
    "#     format='csv,'\n",
    "# )"
   ]
  },
  {
   "cell_type": "code",
   "execution_count": 15,
   "id": "3c81be79",
   "metadata": {},
   "outputs": [
    {
     "data": {
      "application/vnd.jupyter.widget-view+json": {
       "model_id": "",
       "version_major": 2,
       "version_minor": 0
      },
      "text/plain": [
       "FloatProgress(value=0.0, bar_style='info', description='Progress:', layout=Layout(height='25px', width='50%'),…"
      ]
     },
     "metadata": {},
     "output_type": "display_data"
    },
    {
     "name": "stderr",
     "output_type": "stream",
     "text": [
      "An error was encountered:\n",
      "unexpected character after line continuation character (<stdin>, line 1)\n",
      "  File \"<stdin>\", line 1\n",
      "    df3 = source_df.withColumn(\"add year\", f.concat(col(\"due date\"),F.lit(\"-2022\"))) \\.show()\n",
      "                                                                                            ^\n",
      "SyntaxError: unexpected character after line continuation character\n",
      "\n"
     ]
    }
   ],
   "source": [
    "df3 = source_df.withColumn(\"add year\", f.concat(col(\"due date\"),F.lit(\"-2022\"))) \\.show()"
   ]
  },
  {
   "cell_type": "code",
   "execution_count": 9,
   "id": "89fd10ed",
   "metadata": {},
   "outputs": [
    {
     "data": {
      "application/vnd.jupyter.widget-view+json": {
       "model_id": "",
       "version_major": 2,
       "version_minor": 0
      },
      "text/plain": [
       "FloatProgress(value=0.0, bar_style='info', description='Progress:', layout=Layout(height='25px', width='50%'),…"
      ]
     },
     "metadata": {},
     "output_type": "display_data"
    },
    {
     "name": "stdout",
     "output_type": "stream",
     "text": [
      "+--------+----------------------------+\n",
      "|due date|to_date(`due date`, 'd-MMM')|\n",
      "+--------+----------------------------+\n",
      "|  24-Jan|                  1970-01-24|\n",
      "|  24-Jan|                  1970-01-24|\n",
      "|  24-Jan|                  1970-01-24|\n",
      "|  24-Jan|                  1970-01-24|\n",
      "|  24-Jan|                  1970-01-24|\n",
      "|  24-Jan|                  1970-01-24|\n",
      "|  24-Jan|                  1970-01-24|\n",
      "|   2-Feb|                  1970-02-02|\n",
      "|   2-Feb|                  1970-02-02|\n",
      "|   2-Feb|                  1970-02-02|\n",
      "|   2-Feb|                  1970-02-02|\n",
      "|   2-Feb|                  1970-02-02|\n",
      "|   2-Feb|                  1970-02-02|\n",
      "|   2-Feb|                  1970-02-02|\n",
      "|   4-Mar|                  1970-03-04|\n",
      "|   4-Mar|                  1970-03-04|\n",
      "|   4-Mar|                  1970-03-04|\n",
      "|   4-Mar|                  1970-03-04|\n",
      "|   9-Mar|                  1970-03-09|\n",
      "|   9-Mar|                  1970-03-09|\n",
      "+--------+----------------------------+\n",
      "only showing top 20 rows"
     ]
    }
   ],
   "source": [
    "# DUE DATE FORMATTING\n",
    "df2 = source_df.select(col(\"due date\"),to_date(col(\"due date\"), \"d-MMM\")) \\\n",
    "  .show()\n",
    "\n"
   ]
  },
  {
   "cell_type": "code",
   "execution_count": 12,
   "id": "b731db3d",
   "metadata": {},
   "outputs": [
    {
     "data": {
      "application/vnd.jupyter.widget-view+json": {
       "model_id": "",
       "version_major": 2,
       "version_minor": 0
      },
      "text/plain": [
       "FloatProgress(value=0.0, bar_style='info', description='Progress:', layout=Layout(height='25px', width='50%'),…"
      ]
     },
     "metadata": {},
     "output_type": "display_data"
    },
    {
     "name": "stderr",
     "output_type": "stream",
     "text": [
      "An error was encountered:\n",
      "'NoneType' object has no attribute 'withColumn'\n",
      "Traceback (most recent call last):\n",
      "AttributeError: 'NoneType' object has no attribute 'withColumn'\n",
      "\n"
     ]
    }
   ],
   "source": [
    "df3 = df2.withColumn(\"add year\", f.concat(col(\"due date\"),F.lit(\"-2022\"))) \\\n",
    "# .show()\n",
    "\n",
    "df3 = df2.show()"
   ]
  },
  {
   "cell_type": "code",
   "execution_count": null,
   "id": "8f13264f",
   "metadata": {},
   "outputs": [],
   "source": [
    "# ISSUE DATE FORMATTING\n",
    "df2 = source_df.select(col(\"issue date\"),to_date(col(\"issue date\"),\"yyy-MM-dd\")) \\\n",
    "  .show()"
   ]
  },
  {
   "cell_type": "code",
   "execution_count": null,
   "id": "2a6ec9a8",
   "metadata": {},
   "outputs": [],
   "source": [
    "# # Set decimal places\n",
    "# source_df_decimals = source_df.select( \n",
    "#                 F.round(source_df[\"amount due\"],2),\n",
    "#                 F.round(source_df[\"costing rate\"],4)\n",
    "# ).show()\n",
    "\n",
    "# source_df_decimals = source_df.select(\n",
    "#     round('amount due', 2).alias('r')).show()\n",
    "\n",
    "for c in source_df.columns:\n",
    "    df3 = source_df.withColumn(c, round(c, 2))\n",
    "    \n",
    "df3.show()"
   ]
  },
  {
   "cell_type": "code",
   "execution_count": null,
   "id": "985648a9",
   "metadata": {},
   "outputs": [],
   "source": [
    "# Set column types\n",
    "df2 = source_df.withColumn(\"costing rate\",col(\"costing rate\").cast(StringType())) \\\n",
    "    .withColumn(\"due date\",col(\"due date\").cast(StringType())) \\\n",
    "    .withColumn(\"issue date\",col(\"issue date\").cast(StringType()))\n",
    "df2.printSchema()\n",
    "df2.show()"
   ]
  },
  {
   "cell_type": "code",
   "execution_count": null,
   "id": "38e62014",
   "metadata": {},
   "outputs": [],
   "source": [
    "# source_df_decimals = df2.withColumn(\n",
    "#    format_string(\".04d%\", col( 'costing rate').cast('int')).show()\n",
    "# )\n",
    "\n",
    "source_df_decimals = df2.select(\n",
    "    round('costing rate',4)).show()\n",
    " \n",
    "# source_df_trailingzeros = df2.withColumn(lpad(source_df_trailingzeros.costing_rate,4, '0')).show()\n",
    "\n"
   ]
  },
  {
   "cell_type": "code",
   "execution_count": null,
   "id": "8fbcd6cc",
   "metadata": {},
   "outputs": [],
   "source": [
    "# Data types as they are in the file\n",
    "source_df.printSchema()"
   ]
  },
  {
   "cell_type": "code",
   "execution_count": null,
   "id": "b2877534",
   "metadata": {},
   "outputs": [],
   "source": []
  }
 ],
 "metadata": {
  "kernelspec": {
   "display_name": "Sparkmagic (PySpark)",
   "language": "python",
   "name": "pysparkkernel"
  },
  "language_info": {
   "codemirror_mode": {
    "name": "python",
    "version": 3
   },
   "file_extension": ".py",
   "mimetype": "text/x-python",
   "name": "pyspark",
   "pygments_lexer": "python3"
  }
 },
 "nbformat": 4,
 "nbformat_minor": 5
}
