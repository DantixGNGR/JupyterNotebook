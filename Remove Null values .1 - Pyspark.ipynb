{
 "cells": [
  {
   "cell_type": "code",
   "execution_count": 1,
   "id": "dde91f74",
   "metadata": {},
   "outputs": [
    {
     "name": "stdout",
     "output_type": "stream",
     "text": [
      "Starting Spark application\n"
     ]
    },
    {
     "data": {
      "text/html": [
       "<table>\n",
       "<tr><th>ID</th><th>YARN Application ID</th><th>Kind</th><th>State</th><th>Spark UI</th><th>Driver log</th><th>User</th><th>Current session?</th></tr><tr><td>8</td><td>application_1642400897224_0009</td><td>pyspark</td><td>idle</td><td><a target=\"_blank\" href=\"http://ip-172-31-29-79.eu-central-1.compute.internal:20888/proxy/application_1642400897224_0009/\">Link</a></td><td><a target=\"_blank\" href=\"http://ip-172-31-27-104.eu-central-1.compute.internal:8042/node/containerlogs/container_1642400897224_0009_01_000001/livy\">Link</a></td><td>None</td><td>✔</td></tr></table>"
      ],
      "text/plain": [
       "<IPython.core.display.HTML object>"
      ]
     },
     "metadata": {},
     "output_type": "display_data"
    },
    {
     "data": {
      "application/vnd.jupyter.widget-view+json": {
       "model_id": "",
       "version_major": 2,
       "version_minor": 0
      },
      "text/plain": [
       "FloatProgress(value=0.0, bar_style='info', description='Progress:', layout=Layout(height='25px', width='50%'),…"
      ]
     },
     "metadata": {},
     "output_type": "display_data"
    },
    {
     "name": "stdout",
     "output_type": "stream",
     "text": [
      "SparkSession available as 'spark'.\n"
     ]
    },
    {
     "data": {
      "application/vnd.jupyter.widget-view+json": {
       "model_id": "",
       "version_major": 2,
       "version_minor": 0
      },
      "text/plain": [
       "FloatProgress(value=0.0, bar_style='info', description='Progress:', layout=Layout(height='25px', width='50%'),…"
      ]
     },
     "metadata": {},
     "output_type": "display_data"
    }
   ],
   "source": [
    "from pyspark.sql import functions as F\n",
    "from pyspark.sql.types import IntegerType,BooleanType,DateType,FloatType,StringType,DoubleType,DecimalType\n",
    "from pyspark.sql.functions import * \n",
    "\n",
    "from awsglue.transforms import *\n",
    "from awsglue.utils import getResolvedOptions\n",
    "from pyspark.context import SparkContext\n",
    "from awsglue.context import GlueContext\n",
    "\n",
    "sc = SparkContext.getOrCreate()\n",
    "gc = GlueContext(sc)"
   ]
  },
  {
   "cell_type": "code",
   "execution_count": 15,
   "id": "42d8c659",
   "metadata": {},
   "outputs": [
    {
     "data": {
      "application/vnd.jupyter.widget-view+json": {
       "model_id": "",
       "version_major": 2,
       "version_minor": 0
      },
      "text/plain": [
       "FloatProgress(value=0.0, bar_style='info', description='Progress:', layout=Layout(height='25px', width='50%'),…"
      ]
     },
     "metadata": {},
     "output_type": "display_data"
    }
   ],
   "source": [
    "# Create data frame\n",
    "source_df = gc.create_data_frame_from_catalog( \n",
    "    database = \"invoices_nulldb\", \n",
    "    table_name = \"invoices_null_values\", \n",
    ")\n",
    "\n"
   ]
  },
  {
   "cell_type": "code",
   "execution_count": 16,
   "id": "eeca7a85",
   "metadata": {},
   "outputs": [
    {
     "data": {
      "application/vnd.jupyter.widget-view+json": {
       "model_id": "",
       "version_major": 2,
       "version_minor": 0
      },
      "text/plain": [
       "FloatProgress(value=0.0, bar_style='info', description='Progress:', layout=Layout(height='25px', width='50%'),…"
      ]
     },
     "metadata": {},
     "output_type": "display_data"
    },
    {
     "name": "stdout",
     "output_type": "stream",
     "text": [
      "root\n",
      " |-- col0: string (nullable = true)\n",
      " |-- col1: string (nullable = true)\n",
      " |-- col2: string (nullable = true)\n",
      " |-- col3: string (nullable = true)\n",
      " |-- col4: string (nullable = true)\n",
      " |-- col5: string (nullable = true)\n",
      " |-- col6: string (nullable = true)\n",
      " |-- col7: string (nullable = true)\n",
      " |-- col8: string (nullable = true)\n",
      " |-- col9: string (nullable = true)\n",
      " |-- col10: string (nullable = true)\n",
      " |-- col11: string (nullable = true)\n",
      " |-- col12: string (nullable = true)"
     ]
    }
   ],
   "source": [
    "source_df.printSchema()\n"
   ]
  },
  {
   "cell_type": "code",
   "execution_count": 18,
   "id": "66433202",
   "metadata": {},
   "outputs": [
    {
     "data": {
      "application/vnd.jupyter.widget-view+json": {
       "model_id": "",
       "version_major": 2,
       "version_minor": 0
      },
      "text/plain": [
       "FloatProgress(value=0.0, bar_style='info', description='Progress:', layout=Layout(height='25px', width='50%'),…"
      ]
     },
     "metadata": {},
     "output_type": "display_data"
    },
    {
     "name": "stdout",
     "output_type": "stream",
     "text": [
      "13"
     ]
    }
   ],
   "source": [
    "len(source_df.columns)"
   ]
  },
  {
   "cell_type": "code",
   "execution_count": 17,
   "id": "eaebc8d0",
   "metadata": {},
   "outputs": [
    {
     "data": {
      "application/vnd.jupyter.widget-view+json": {
       "model_id": "",
       "version_major": 2,
       "version_minor": 0
      },
      "text/plain": [
       "FloatProgress(value=0.0, bar_style='info', description='Progress:', layout=Layout(height='25px', width='50%'),…"
      ]
     },
     "metadata": {},
     "output_type": "display_data"
    },
    {
     "name": "stdout",
     "output_type": "stream",
     "text": [
      "+------------------+------+--------------------+------------+--------+-------------+------------+--------+----------+----+-----+-----+-----+\n",
      "|              col0|  col1|                col2|        col3|    col4|         col5|        col6|    col7|      col8|col9|col10|col11|col12|\n",
      "+------------------+------+--------------------+------------+--------+-------------+------------+--------+----------+----+-----+-----+-----+\n",
      "|External Reference|Number|        Counterparty|  Amount Due|Currency|Cost Currency|Costing Rate|Due Date|Issue Date|    |     |     |     |\n",
      "|          SC25505A|137113|   Fruit Traders LLC|  10,800.00 |     USD|          ZAR|     15.8620|  24-Jan|     3-Jan|    |     |     |     |\n",
      "|          SC25506A|137114|   Fruit Traders LLC|  10,800.00 |     USD|          ZAR|     15.8620|  24-Jan|     3-Jan|    |     |     |     |\n",
      "|          SC25503A|137116|   Fruit Traders LLC|  10,800.00 |     USD|          ZAR|     15.8620|  24-Jan|     3-Jan|    |     |     |     |\n",
      "|          SC25504A|137117|   Fruit Traders LLC|  10,800.00 |     USD|          ZAR|     15.8620|  24-Jan|     3-Jan|    |     |     |     |\n",
      "|          SC25499A|137078|   Fruit Traders LLC|  10,134.00 |     USD|          ZAR|     15.8620|  24-Jan|     3-Jan|    |     |     |     |\n",
      "|          SC25500A|137079|   Fruit Traders LLC|   9,450.00 |     USD|          ZAR|     15.8620|  24-Jan|     3-Jan|    |     |     |     |\n",
      "|          SC25501A|137131|   Fruit Traders LLC|   9,450.00 |     USD|          ZAR|     15.8620|  24-Jan|     3-Jan|    |     |     |     |\n",
      "|          SC25505F|137113|   Fruit Traders LLC|  10,800.00 |     USD|          ZAR|     15.8773|   2-Feb|     3-Jan|    |     |     |     |\n",
      "|          SC25506F|137114|   Fruit Traders LLC|  10,800.00 |     USD|          ZAR|     15.8773|   2-Feb|     3-Jan|    |     |     |     |\n",
      "|          SC25503F|137116|   Fruit Traders LLC|  10,800.00 |     USD|          ZAR|     15.8773|   2-Feb|     3-Jan|    |     |     |     |\n",
      "|          SC25504F|137117|   Fruit Traders LLC|  10,800.00 |     USD|          ZAR|     15.8773|   2-Feb|     3-Jan|    |     |     |     |\n",
      "|          SC25499F|137078|   Fruit Traders LLC|  10,134.00 |     USD|          ZAR|     15.8773|   2-Feb|     3-Jan|    |     |     |     |\n",
      "|          SC25500F|137079|   Fruit Traders LLC|   9,450.00 |     USD|          ZAR|     15.8773|   2-Feb|     3-Jan|    |     |     |     |\n",
      "|          SC25501F|137131|   Fruit Traders LLC|   9,450.00 |     USD|          ZAR|     15.8773|   2-Feb|     3-Jan|    |     |     |     |\n",
      "|           SC25548|137077|MA Sharbatly Corp...|  16,464.00 |     USD|          ZAR|     15.9551|   4-Mar|     3-Jan|    |     |     |     |\n",
      "|           SC25499|136805|          JSC TANDER|  17,147.70 |     USD|          ZAR|     15.9551|   4-Mar|     3-Jan|    |     |     |     |\n",
      "|           SC25500|136807|          JSC TANDER|  17,160.84 |     USD|          ZAR|     15.9551|   4-Mar|     3-Jan|    |     |     |     |\n",
      "|           SC25501|137070|          JSC TANDER|  17,187.12 |     USD|          ZAR|     15.9551|   4-Mar|     3-Jan|    |     |     |     |\n",
      "|           SC25533|137343|     D Fresh SDB BHD|  23,573.20 |     USD|          ZAR|     15.9551|   9-Mar|     3-Jan|    |     |     |     |\n",
      "+------------------+------+--------------------+------------+--------+-------------+------------+--------+----------+----+-----+-----+-----+\n",
      "only showing top 20 rows"
     ]
    }
   ],
   "source": [
    "source_df.show()"
   ]
  },
  {
   "cell_type": "code",
   "execution_count": 20,
   "id": "a5d402b6",
   "metadata": {},
   "outputs": [
    {
     "data": {
      "application/vnd.jupyter.widget-view+json": {
       "model_id": "",
       "version_major": 2,
       "version_minor": 0
      },
      "text/plain": [
       "FloatProgress(value=0.0, bar_style='info', description='Progress:', layout=Layout(height='25px', width='50%'),…"
      ]
     },
     "metadata": {},
     "output_type": "display_data"
    }
   ],
   "source": [
    "# FILTER ROWS WITH IS NOT NULL\n",
    "# source_df= source_df.filter(col(\"External Reference\").isNotNull())\n",
    "\n",
    "# source_df = source_df.filter(\n",
    "#     (col(\"External Reference\") != '') & \n",
    "#     (col(\"Number\") != '')&\n",
    "#     (col(\"Counterparty\") != '')&\n",
    "#     (col(\"Amount Due\") != '')&\n",
    "#     (col(\"Currency\") != '')&\n",
    "#     (col(\"Cost Currency\") != '')&\n",
    "#     (col(\"Costing Rate\") != '')&\n",
    "#     (col(\"Due Date\") != '')&\n",
    "#     (col(\"Issue Date\") != '')\n",
    "# )\n",
    "\n",
    "# DROP COLUMN\n",
    "source_df = source_df.drop(col(\"col0\")) \\\n",
    ".drop(col(\"col1\"))\n"
   ]
  },
  {
   "cell_type": "code",
   "execution_count": 21,
   "id": "e43dcf42",
   "metadata": {},
   "outputs": [
    {
     "data": {
      "application/vnd.jupyter.widget-view+json": {
       "model_id": "",
       "version_major": 2,
       "version_minor": 0
      },
      "text/plain": [
       "FloatProgress(value=0.0, bar_style='info', description='Progress:', layout=Layout(height='25px', width='50%'),…"
      ]
     },
     "metadata": {},
     "output_type": "display_data"
    },
    {
     "name": "stdout",
     "output_type": "stream",
     "text": [
      "root\n",
      " |-- col2: string (nullable = true)\n",
      " |-- col3: string (nullable = true)\n",
      " |-- col4: string (nullable = true)\n",
      " |-- col5: string (nullable = true)\n",
      " |-- col6: string (nullable = true)\n",
      " |-- col7: string (nullable = true)\n",
      " |-- col8: string (nullable = true)\n",
      " |-- col9: string (nullable = true)\n",
      " |-- col10: string (nullable = true)\n",
      " |-- col11: string (nullable = true)\n",
      " |-- col12: string (nullable = true)"
     ]
    }
   ],
   "source": [
    "source_df.printSchema()"
   ]
  },
  {
   "cell_type": "code",
   "execution_count": null,
   "id": "582bdbc5",
   "metadata": {},
   "outputs": [],
   "source": []
  }
 ],
 "metadata": {
  "kernelspec": {
   "display_name": "Sparkmagic (PySpark)",
   "language": "python",
   "name": "pysparkkernel"
  },
  "language_info": {
   "codemirror_mode": {
    "name": "python",
    "version": 3
   },
   "file_extension": ".py",
   "mimetype": "text/x-python",
   "name": "pyspark",
   "pygments_lexer": "python3"
  }
 },
 "nbformat": 4,
 "nbformat_minor": 5
}
