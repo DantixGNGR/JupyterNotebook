{
 "cells": [
  {
   "cell_type": "code",
   "execution_count": 15,
   "id": "a3306ec5",
   "metadata": {},
   "outputs": [
    {
     "data": {
      "application/vnd.jupyter.widget-view+json": {
       "model_id": "",
       "version_major": 2,
       "version_minor": 0
      },
      "text/plain": [
       "FloatProgress(value=0.0, bar_style='info', description='Progress:', layout=Layout(height='25px', width='50%'),…"
      ]
     },
     "metadata": {},
     "output_type": "display_data"
    }
   ],
   "source": [
    "from pyspark.sql import functions as F\n",
    "from pyspark.sql.types import IntegerType,BooleanType,DateType,FloatType,StringType,DoubleType,DecimalType\n",
    "from pyspark.sql.functions import * \n",
    "\n",
    "from awsglue.transforms import *\n",
    "from awsglue.utils import getResolvedOptions\n",
    "from pyspark.context import SparkContext\n",
    "from awsglue.context import GlueContext\n",
    "\n",
    "sc = SparkContext.getOrCreate()\n",
    "gc = GlueContext(sc)"
   ]
  },
  {
   "cell_type": "code",
   "execution_count": 16,
   "id": "e387ecd9",
   "metadata": {},
   "outputs": [
    {
     "data": {
      "application/vnd.jupyter.widget-view+json": {
       "model_id": "",
       "version_major": 2,
       "version_minor": 0
      },
      "text/plain": [
       "FloatProgress(value=0.0, bar_style='info', description='Progress:', layout=Layout(height='25px', width='50%'),…"
      ]
     },
     "metadata": {},
     "output_type": "display_data"
    }
   ],
   "source": [
    "#CREATE DATAFRAME WITH NULL VALUES\n",
    "source_df = gc.create_data_frame_from_catalog( \n",
    "    database = \"db_null_values\", \n",
    "    table_name = \"invoices_null_values\", \n",
    ")"
   ]
  },
  {
   "cell_type": "code",
   "execution_count": 3,
   "id": "4513a18c",
   "metadata": {},
   "outputs": [
    {
     "data": {
      "application/vnd.jupyter.widget-view+json": {
       "model_id": "",
       "version_major": 2,
       "version_minor": 0
      },
      "text/plain": [
       "FloatProgress(value=0.0, bar_style='info', description='Progress:', layout=Layout(height='25px', width='50%'),…"
      ]
     },
     "metadata": {},
     "output_type": "display_data"
    },
    {
     "name": "stdout",
     "output_type": "stream",
     "text": [
      "+------------------+------+--------------------+-----------+--------+-------------+------------+--------+----------+\n",
      "|external reference|number|        counterparty| amount due|currency|cost currency|costing rate|due date|issue date|\n",
      "+------------------+------+--------------------+-----------+--------+-------------+------------+--------+----------+\n",
      "|          SC25505A|137113|   Fruit Traders LLC| 10,800.00 |     USD|          ZAR|      15.862|  24-Jan|     3-Jan|\n",
      "|          SC25506A|137114|   Fruit Traders LLC| 10,800.00 |     USD|          ZAR|      15.862|  24-Jan|     3-Jan|\n",
      "|          SC25503A|137116|   Fruit Traders LLC| 10,800.00 |     USD|          ZAR|      15.862|  24-Jan|     3-Jan|\n",
      "|          SC25504A|137117|   Fruit Traders LLC| 10,800.00 |     USD|          ZAR|      15.862|  24-Jan|     3-Jan|\n",
      "|          SC25499A|137078|   Fruit Traders LLC| 10,134.00 |     USD|          ZAR|      15.862|  24-Jan|     3-Jan|\n",
      "|          SC25500A|137079|   Fruit Traders LLC|  9,450.00 |     USD|          ZAR|      15.862|  24-Jan|     3-Jan|\n",
      "|          SC25501A|137131|   Fruit Traders LLC|  9,450.00 |     USD|          ZAR|      15.862|  24-Jan|     3-Jan|\n",
      "|          SC25505F|137113|   Fruit Traders LLC| 10,800.00 |     USD|          ZAR|     15.8773|   2-Feb|     3-Jan|\n",
      "|          SC25506F|137114|   Fruit Traders LLC| 10,800.00 |     USD|          ZAR|     15.8773|   2-Feb|     3-Jan|\n",
      "|          SC25503F|137116|   Fruit Traders LLC| 10,800.00 |     USD|          ZAR|     15.8773|   2-Feb|     3-Jan|\n",
      "|          SC25504F|137117|   Fruit Traders LLC| 10,800.00 |     USD|          ZAR|     15.8773|   2-Feb|     3-Jan|\n",
      "|          SC25499F|137078|   Fruit Traders LLC| 10,134.00 |     USD|          ZAR|     15.8773|   2-Feb|     3-Jan|\n",
      "|          SC25500F|137079|   Fruit Traders LLC|  9,450.00 |     USD|          ZAR|     15.8773|   2-Feb|     3-Jan|\n",
      "|          SC25501F|137131|   Fruit Traders LLC|  9,450.00 |     USD|          ZAR|     15.8773|   2-Feb|     3-Jan|\n",
      "|           SC25548|137077|MA Sharbatly Corp...| 16,464.00 |     USD|          ZAR|     15.9551|   4-Mar|     3-Jan|\n",
      "|           SC25499|136805|          JSC TANDER| 17,147.70 |     USD|          ZAR|     15.9551|   4-Mar|     3-Jan|\n",
      "|           SC25500|136807|          JSC TANDER| 17,160.84 |     USD|          ZAR|     15.9551|   4-Mar|     3-Jan|\n",
      "|           SC25501|137070|          JSC TANDER| 17,187.12 |     USD|          ZAR|     15.9551|   4-Mar|     3-Jan|\n",
      "|           SC25533|137343|     D Fresh SDB BHD| 23,573.20 |     USD|          ZAR|     15.9551|   9-Mar|     3-Jan|\n",
      "|           SC25534|137344|     D Fresh SDB BHD| 24,754.80 |     USD|          ZAR|     15.9551|   9-Mar|     3-Jan|\n",
      "|           SC25535|137346|     D Fresh SDB BHD| 25,146.80 |     USD|          ZAR|     15.9551|   9-Mar|     3-Jan|\n",
      "|           SC25536|137347|     D Fresh SDB BHD| 23,970.80 |     USD|          ZAR|     15.9551|   9-Mar|     3-Jan|\n",
      "|           SC25528|137348|     D Fresh SDB BHD| 18,089.68 |     USD|          ZAR|     15.9551|   9-Mar|     3-Jan|\n",
      "|           SC25529|137349|     D Fresh SDB BHD| 22,066.80 |     USD|          ZAR|     15.9551|   9-Mar|     3-Jan|\n",
      "|           SC25530|137352|     D Fresh SDB BHD| 22,324.80 |     USD|          ZAR|     15.9551|   9-Mar|     3-Jan|\n",
      "|           SC25531|137354|     D Fresh SDB BHD| 18,425.68 |     USD|          ZAR|     15.9551|   9-Mar|     3-Jan|\n",
      "|           SC25532|137355|     D Fresh SDB BHD| 18,446.70 |     USD|          ZAR|     15.9551|   9-Mar|     3-Jan|\n",
      "|           SC25522|137141|Vanguard Global L...| 16,231.00 |     USD|          ZAR|     16.0175|   3-Apr|     3-Jan|\n",
      "|           SC25524|137142|Vanguard Global L...| 15,727.00 |     USD|          ZAR|     16.0175|   3-Apr|     3-Jan|\n",
      "|           SC25518|137410|Prime Orchards Li...| 24,390.00 |     USD|          ZAR|     16.0786|  30-Apr|     3-Jan|\n",
      "|           SC25519|136191|Prime Orchards Li...| 23,606.00 |     USD|          ZAR|     16.0786|  30-Apr|     3-Jan|\n",
      "|           SC25520|136192|Prime Orchards Li...| 24,655.00 |     USD|          ZAR|     16.0786|  30-Apr|     3-Jan|\n",
      "+------------------+------+--------------------+-----------+--------+-------------+------------+--------+----------+"
     ]
    }
   ],
   "source": [
    "source_df.show(32)"
   ]
  },
  {
   "cell_type": "code",
   "execution_count": 17,
   "id": "a7a4a7b0",
   "metadata": {},
   "outputs": [
    {
     "data": {
      "application/vnd.jupyter.widget-view+json": {
       "model_id": "",
       "version_major": 2,
       "version_minor": 0
      },
      "text/plain": [
       "FloatProgress(value=0.0, bar_style='info', description='Progress:', layout=Layout(height='25px', width='50%'),…"
      ]
     },
     "metadata": {},
     "output_type": "display_data"
    }
   ],
   "source": [
    "# SET DECIMAL PLACES\n",
    "costing_rate=\"costing rate\"\n",
    "format_costing_rate = format_number(round(costing_rate ,4), 4)\n",
    "amount_due=\"amount due\"\n",
    "format_amount_due=format_number(round(amount_due ,2), 2)\n",
    "\n",
    "source_df = source_df.withColumn(costing_rate, format_costing_rate) \\\n",
    "# amount due gives null value - not sure why"
   ]
  },
  {
   "cell_type": "code",
   "execution_count": 18,
   "id": "a595065e",
   "metadata": {},
   "outputs": [
    {
     "data": {
      "application/vnd.jupyter.widget-view+json": {
       "model_id": "",
       "version_major": 2,
       "version_minor": 0
      },
      "text/plain": [
       "FloatProgress(value=0.0, bar_style='info', description='Progress:', layout=Layout(height='25px', width='50%'),…"
      ]
     },
     "metadata": {},
     "output_type": "display_data"
    },
    {
     "name": "stdout",
     "output_type": "stream",
     "text": [
      "+------------------+------+--------------------+-----------+--------+-------------+------------+--------+----------+\n",
      "|external reference|number|        counterparty| amount due|currency|cost currency|costing rate|due date|issue date|\n",
      "+------------------+------+--------------------+-----------+--------+-------------+------------+--------+----------+\n",
      "|          SC25505A|137113|   Fruit Traders LLC| 10,800.00 |     USD|          ZAR|     15.8620|  24-Jan|     3-Jan|\n",
      "|          SC25506A|137114|   Fruit Traders LLC| 10,800.00 |     USD|          ZAR|     15.8620|  24-Jan|     3-Jan|\n",
      "|          SC25503A|137116|   Fruit Traders LLC| 10,800.00 |     USD|          ZAR|     15.8620|  24-Jan|     3-Jan|\n",
      "|          SC25504A|137117|   Fruit Traders LLC| 10,800.00 |     USD|          ZAR|     15.8620|  24-Jan|     3-Jan|\n",
      "|          SC25499A|137078|   Fruit Traders LLC| 10,134.00 |     USD|          ZAR|     15.8620|  24-Jan|     3-Jan|\n",
      "|          SC25500A|137079|   Fruit Traders LLC|  9,450.00 |     USD|          ZAR|     15.8620|  24-Jan|     3-Jan|\n",
      "|          SC25501A|137131|   Fruit Traders LLC|  9,450.00 |     USD|          ZAR|     15.8620|  24-Jan|     3-Jan|\n",
      "|          SC25505F|137113|   Fruit Traders LLC| 10,800.00 |     USD|          ZAR|     15.8773|   2-Feb|     3-Jan|\n",
      "|          SC25506F|137114|   Fruit Traders LLC| 10,800.00 |     USD|          ZAR|     15.8773|   2-Feb|     3-Jan|\n",
      "|          SC25503F|137116|   Fruit Traders LLC| 10,800.00 |     USD|          ZAR|     15.8773|   2-Feb|     3-Jan|\n",
      "|          SC25504F|137117|   Fruit Traders LLC| 10,800.00 |     USD|          ZAR|     15.8773|   2-Feb|     3-Jan|\n",
      "|          SC25499F|137078|   Fruit Traders LLC| 10,134.00 |     USD|          ZAR|     15.8773|   2-Feb|     3-Jan|\n",
      "|          SC25500F|137079|   Fruit Traders LLC|  9,450.00 |     USD|          ZAR|     15.8773|   2-Feb|     3-Jan|\n",
      "|          SC25501F|137131|   Fruit Traders LLC|  9,450.00 |     USD|          ZAR|     15.8773|   2-Feb|     3-Jan|\n",
      "|           SC25548|137077|MA Sharbatly Corp...| 16,464.00 |     USD|          ZAR|     15.9551|   4-Mar|     3-Jan|\n",
      "|           SC25499|136805|          JSC TANDER| 17,147.70 |     USD|          ZAR|     15.9551|   4-Mar|     3-Jan|\n",
      "|           SC25500|136807|          JSC TANDER| 17,160.84 |     USD|          ZAR|     15.9551|   4-Mar|     3-Jan|\n",
      "|           SC25501|137070|          JSC TANDER| 17,187.12 |     USD|          ZAR|     15.9551|   4-Mar|     3-Jan|\n",
      "|           SC25533|137343|     D Fresh SDB BHD| 23,573.20 |     USD|          ZAR|     15.9551|   9-Mar|     3-Jan|\n",
      "|           SC25534|137344|     D Fresh SDB BHD| 24,754.80 |     USD|          ZAR|     15.9551|   9-Mar|     3-Jan|\n",
      "+------------------+------+--------------------+-----------+--------+-------------+------------+--------+----------+\n",
      "only showing top 20 rows"
     ]
    }
   ],
   "source": [
    "source_df.show()"
   ]
  },
  {
   "cell_type": "code",
   "execution_count": 19,
   "id": "e091836f",
   "metadata": {},
   "outputs": [
    {
     "data": {
      "application/vnd.jupyter.widget-view+json": {
       "model_id": "",
       "version_major": 2,
       "version_minor": 0
      },
      "text/plain": [
       "FloatProgress(value=0.0, bar_style='info', description='Progress:', layout=Layout(height='25px', width='50%'),…"
      ]
     },
     "metadata": {},
     "output_type": "display_data"
    }
   ],
   "source": [
    "# ADD YEAR TO DATE COLUMNS\n",
    "\n",
    "source_df = source_df.withColumn(\"due date\", F.concat(col(\"due date\"),F.lit(\"-2022\"))) \\\n",
    "    .withColumn(\"issue date\", F.concat(col(\"issue date\"),F.lit(\"-2022\")))"
   ]
  },
  {
   "cell_type": "code",
   "execution_count": 20,
   "id": "021e58c0",
   "metadata": {},
   "outputs": [
    {
     "data": {
      "application/vnd.jupyter.widget-view+json": {
       "model_id": "",
       "version_major": 2,
       "version_minor": 0
      },
      "text/plain": [
       "FloatProgress(value=0.0, bar_style='info', description='Progress:', layout=Layout(height='25px', width='50%'),…"
      ]
     },
     "metadata": {},
     "output_type": "display_data"
    },
    {
     "name": "stdout",
     "output_type": "stream",
     "text": [
      "+------------------+------+--------------------+-----------+--------+-------------+------------+-----------+----------+\n",
      "|external reference|number|        counterparty| amount due|currency|cost currency|costing rate|   due date|issue date|\n",
      "+------------------+------+--------------------+-----------+--------+-------------+------------+-----------+----------+\n",
      "|          SC25505A|137113|   Fruit Traders LLC| 10,800.00 |     USD|          ZAR|     15.8620|24-Jan-2022|3-Jan-2022|\n",
      "|          SC25506A|137114|   Fruit Traders LLC| 10,800.00 |     USD|          ZAR|     15.8620|24-Jan-2022|3-Jan-2022|\n",
      "|          SC25503A|137116|   Fruit Traders LLC| 10,800.00 |     USD|          ZAR|     15.8620|24-Jan-2022|3-Jan-2022|\n",
      "|          SC25504A|137117|   Fruit Traders LLC| 10,800.00 |     USD|          ZAR|     15.8620|24-Jan-2022|3-Jan-2022|\n",
      "|          SC25499A|137078|   Fruit Traders LLC| 10,134.00 |     USD|          ZAR|     15.8620|24-Jan-2022|3-Jan-2022|\n",
      "|          SC25500A|137079|   Fruit Traders LLC|  9,450.00 |     USD|          ZAR|     15.8620|24-Jan-2022|3-Jan-2022|\n",
      "|          SC25501A|137131|   Fruit Traders LLC|  9,450.00 |     USD|          ZAR|     15.8620|24-Jan-2022|3-Jan-2022|\n",
      "|          SC25505F|137113|   Fruit Traders LLC| 10,800.00 |     USD|          ZAR|     15.8773| 2-Feb-2022|3-Jan-2022|\n",
      "|          SC25506F|137114|   Fruit Traders LLC| 10,800.00 |     USD|          ZAR|     15.8773| 2-Feb-2022|3-Jan-2022|\n",
      "|          SC25503F|137116|   Fruit Traders LLC| 10,800.00 |     USD|          ZAR|     15.8773| 2-Feb-2022|3-Jan-2022|\n",
      "|          SC25504F|137117|   Fruit Traders LLC| 10,800.00 |     USD|          ZAR|     15.8773| 2-Feb-2022|3-Jan-2022|\n",
      "|          SC25499F|137078|   Fruit Traders LLC| 10,134.00 |     USD|          ZAR|     15.8773| 2-Feb-2022|3-Jan-2022|\n",
      "|          SC25500F|137079|   Fruit Traders LLC|  9,450.00 |     USD|          ZAR|     15.8773| 2-Feb-2022|3-Jan-2022|\n",
      "|          SC25501F|137131|   Fruit Traders LLC|  9,450.00 |     USD|          ZAR|     15.8773| 2-Feb-2022|3-Jan-2022|\n",
      "|           SC25548|137077|MA Sharbatly Corp...| 16,464.00 |     USD|          ZAR|     15.9551| 4-Mar-2022|3-Jan-2022|\n",
      "|           SC25499|136805|          JSC TANDER| 17,147.70 |     USD|          ZAR|     15.9551| 4-Mar-2022|3-Jan-2022|\n",
      "|           SC25500|136807|          JSC TANDER| 17,160.84 |     USD|          ZAR|     15.9551| 4-Mar-2022|3-Jan-2022|\n",
      "|           SC25501|137070|          JSC TANDER| 17,187.12 |     USD|          ZAR|     15.9551| 4-Mar-2022|3-Jan-2022|\n",
      "|           SC25533|137343|     D Fresh SDB BHD| 23,573.20 |     USD|          ZAR|     15.9551| 9-Mar-2022|3-Jan-2022|\n",
      "|           SC25534|137344|     D Fresh SDB BHD| 24,754.80 |     USD|          ZAR|     15.9551| 9-Mar-2022|3-Jan-2022|\n",
      "+------------------+------+--------------------+-----------+--------+-------------+------------+-----------+----------+\n",
      "only showing top 20 rows"
     ]
    }
   ],
   "source": [
    "source_df.show()"
   ]
  },
  {
   "cell_type": "code",
   "execution_count": 21,
   "id": "b4253e8b",
   "metadata": {},
   "outputs": [
    {
     "data": {
      "application/vnd.jupyter.widget-view+json": {
       "model_id": "",
       "version_major": 2,
       "version_minor": 0
      },
      "text/plain": [
       "FloatProgress(value=0.0, bar_style='info', description='Progress:', layout=Layout(height='25px', width='50%'),…"
      ]
     },
     "metadata": {},
     "output_type": "display_data"
    }
   ],
   "source": [
    "# FORMAT DATES\n",
    "source_df = source_df.select(\n",
    "    col(\"external reference\"), \\\n",
    "    col(\"number\"), \\\n",
    "    col(\"counterparty\"), \\\n",
    "    col(\"amount due\"), \\\n",
    "    col(\"currency\"), \\\n",
    "    col(\"cost currency\"), \\\n",
    "    col(\"costing rate\"), \\\n",
    "    col(\"due date\"),to_date(F.col(\"due date\"), \"d-MMM-yyy\"), \\\n",
    "    col(\"issue date\"),to_date(F.col(\"issue date\"), \"d-MMM-yyy\")) \\"
   ]
  },
  {
   "cell_type": "code",
   "execution_count": 22,
   "id": "759fabc8",
   "metadata": {},
   "outputs": [
    {
     "data": {
      "application/vnd.jupyter.widget-view+json": {
       "model_id": "",
       "version_major": 2,
       "version_minor": 0
      },
      "text/plain": [
       "FloatProgress(value=0.0, bar_style='info', description='Progress:', layout=Layout(height='25px', width='50%'),…"
      ]
     },
     "metadata": {},
     "output_type": "display_data"
    },
    {
     "name": "stdout",
     "output_type": "stream",
     "text": [
      "+------------------+------+--------------------+-----------+--------+-------------+------------+-----------+--------------------------------+----------+----------------------------------+\n",
      "|external reference|number|        counterparty| amount due|currency|cost currency|costing rate|   due date|to_date(`due date`, 'd-MMM-yyy')|issue date|to_date(`issue date`, 'd-MMM-yyy')|\n",
      "+------------------+------+--------------------+-----------+--------+-------------+------------+-----------+--------------------------------+----------+----------------------------------+\n",
      "|          SC25505A|137113|   Fruit Traders LLC| 10,800.00 |     USD|          ZAR|     15.8620|24-Jan-2022|                      2022-01-24|3-Jan-2022|                        2022-01-03|\n",
      "|          SC25506A|137114|   Fruit Traders LLC| 10,800.00 |     USD|          ZAR|     15.8620|24-Jan-2022|                      2022-01-24|3-Jan-2022|                        2022-01-03|\n",
      "|          SC25503A|137116|   Fruit Traders LLC| 10,800.00 |     USD|          ZAR|     15.8620|24-Jan-2022|                      2022-01-24|3-Jan-2022|                        2022-01-03|\n",
      "|          SC25504A|137117|   Fruit Traders LLC| 10,800.00 |     USD|          ZAR|     15.8620|24-Jan-2022|                      2022-01-24|3-Jan-2022|                        2022-01-03|\n",
      "|          SC25499A|137078|   Fruit Traders LLC| 10,134.00 |     USD|          ZAR|     15.8620|24-Jan-2022|                      2022-01-24|3-Jan-2022|                        2022-01-03|\n",
      "|          SC25500A|137079|   Fruit Traders LLC|  9,450.00 |     USD|          ZAR|     15.8620|24-Jan-2022|                      2022-01-24|3-Jan-2022|                        2022-01-03|\n",
      "|          SC25501A|137131|   Fruit Traders LLC|  9,450.00 |     USD|          ZAR|     15.8620|24-Jan-2022|                      2022-01-24|3-Jan-2022|                        2022-01-03|\n",
      "|          SC25505F|137113|   Fruit Traders LLC| 10,800.00 |     USD|          ZAR|     15.8773| 2-Feb-2022|                      2022-02-02|3-Jan-2022|                        2022-01-03|\n",
      "|          SC25506F|137114|   Fruit Traders LLC| 10,800.00 |     USD|          ZAR|     15.8773| 2-Feb-2022|                      2022-02-02|3-Jan-2022|                        2022-01-03|\n",
      "|          SC25503F|137116|   Fruit Traders LLC| 10,800.00 |     USD|          ZAR|     15.8773| 2-Feb-2022|                      2022-02-02|3-Jan-2022|                        2022-01-03|\n",
      "|          SC25504F|137117|   Fruit Traders LLC| 10,800.00 |     USD|          ZAR|     15.8773| 2-Feb-2022|                      2022-02-02|3-Jan-2022|                        2022-01-03|\n",
      "|          SC25499F|137078|   Fruit Traders LLC| 10,134.00 |     USD|          ZAR|     15.8773| 2-Feb-2022|                      2022-02-02|3-Jan-2022|                        2022-01-03|\n",
      "|          SC25500F|137079|   Fruit Traders LLC|  9,450.00 |     USD|          ZAR|     15.8773| 2-Feb-2022|                      2022-02-02|3-Jan-2022|                        2022-01-03|\n",
      "|          SC25501F|137131|   Fruit Traders LLC|  9,450.00 |     USD|          ZAR|     15.8773| 2-Feb-2022|                      2022-02-02|3-Jan-2022|                        2022-01-03|\n",
      "|           SC25548|137077|MA Sharbatly Corp...| 16,464.00 |     USD|          ZAR|     15.9551| 4-Mar-2022|                      2022-03-04|3-Jan-2022|                        2022-01-03|\n",
      "|           SC25499|136805|          JSC TANDER| 17,147.70 |     USD|          ZAR|     15.9551| 4-Mar-2022|                      2022-03-04|3-Jan-2022|                        2022-01-03|\n",
      "|           SC25500|136807|          JSC TANDER| 17,160.84 |     USD|          ZAR|     15.9551| 4-Mar-2022|                      2022-03-04|3-Jan-2022|                        2022-01-03|\n",
      "|           SC25501|137070|          JSC TANDER| 17,187.12 |     USD|          ZAR|     15.9551| 4-Mar-2022|                      2022-03-04|3-Jan-2022|                        2022-01-03|\n",
      "|           SC25533|137343|     D Fresh SDB BHD| 23,573.20 |     USD|          ZAR|     15.9551| 9-Mar-2022|                      2022-03-09|3-Jan-2022|                        2022-01-03|\n",
      "|           SC25534|137344|     D Fresh SDB BHD| 24,754.80 |     USD|          ZAR|     15.9551| 9-Mar-2022|                      2022-03-09|3-Jan-2022|                        2022-01-03|\n",
      "+------------------+------+--------------------+-----------+--------+-------------+------------+-----------+--------------------------------+----------+----------------------------------+\n",
      "only showing top 20 rows"
     ]
    }
   ],
   "source": [
    "source_df.show()"
   ]
  },
  {
   "cell_type": "code",
   "execution_count": null,
   "id": "5f3d19dc",
   "metadata": {},
   "outputs": [],
   "source": []
  }
 ],
 "metadata": {
  "kernelspec": {
   "display_name": "Sparkmagic (PySpark)",
   "language": "python",
   "name": "pysparkkernel"
  },
  "language_info": {
   "codemirror_mode": {
    "name": "python",
    "version": 3
   },
   "file_extension": ".py",
   "mimetype": "text/x-python",
   "name": "pyspark",
   "pygments_lexer": "python3"
  }
 },
 "nbformat": 4,
 "nbformat_minor": 5
}
