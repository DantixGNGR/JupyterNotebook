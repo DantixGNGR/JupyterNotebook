{
 "cells": [
  {
   "cell_type": "code",
   "execution_count": 1,
   "id": "46a3f776",
   "metadata": {},
   "outputs": [
    {
     "name": "stdout",
     "output_type": "stream",
     "text": [
      "Starting Spark application\n"
     ]
    },
    {
     "data": {
      "text/html": [
       "<table>\n",
       "<tr><th>ID</th><th>YARN Application ID</th><th>Kind</th><th>State</th><th>Spark UI</th><th>Driver log</th><th>User</th><th>Current session?</th></tr><tr><td>3</td><td>application_1642400897224_0004</td><td>pyspark</td><td>idle</td><td><a target=\"_blank\" href=\"http://ip-172-31-29-79.eu-central-1.compute.internal:20888/proxy/application_1642400897224_0004/\">Link</a></td><td><a target=\"_blank\" href=\"http://ip-172-31-27-104.eu-central-1.compute.internal:8042/node/containerlogs/container_1642400897224_0004_01_000001/livy\">Link</a></td><td>None</td><td>✔</td></tr></table>"
      ],
      "text/plain": [
       "<IPython.core.display.HTML object>"
      ]
     },
     "metadata": {},
     "output_type": "display_data"
    },
    {
     "data": {
      "application/vnd.jupyter.widget-view+json": {
       "model_id": "",
       "version_major": 2,
       "version_minor": 0
      },
      "text/plain": [
       "FloatProgress(value=0.0, bar_style='info', description='Progress:', layout=Layout(height='25px', width='50%'),…"
      ]
     },
     "metadata": {},
     "output_type": "display_data"
    },
    {
     "name": "stdout",
     "output_type": "stream",
     "text": [
      "SparkSession available as 'spark'.\n"
     ]
    },
    {
     "data": {
      "application/vnd.jupyter.widget-view+json": {
       "model_id": "",
       "version_major": 2,
       "version_minor": 0
      },
      "text/plain": [
       "FloatProgress(value=0.0, bar_style='info', description='Progress:', layout=Layout(height='25px', width='50%'),…"
      ]
     },
     "metadata": {},
     "output_type": "display_data"
    }
   ],
   "source": [
    "from pyspark.sql import functions as F\n",
    "from pyspark.sql.types import IntegerType,BooleanType,DateType,FloatType,StringType,DoubleType,DecimalType\n",
    "from pyspark.sql.functions import * \n",
    "\n",
    "from awsglue.transforms import *\n",
    "from awsglue.utils import getResolvedOptions\n",
    "from pyspark.context import SparkContext\n",
    "from awsglue.context import GlueContext\n",
    "\n",
    "sc = SparkContext.getOrCreate()\n",
    "gc = GlueContext(sc)"
   ]
  },
  {
   "cell_type": "code",
   "execution_count": 2,
   "id": "a213b3ff",
   "metadata": {},
   "outputs": [
    {
     "data": {
      "application/vnd.jupyter.widget-view+json": {
       "model_id": "",
       "version_major": 2,
       "version_minor": 0
      },
      "text/plain": [
       "FloatProgress(value=0.0, bar_style='info', description='Progress:', layout=Layout(height='25px', width='50%'),…"
      ]
     },
     "metadata": {},
     "output_type": "display_data"
    }
   ],
   "source": [
    "\n",
    "# Create dynamic frame\n",
    "source_df = gc.create_data_frame_from_catalog( \n",
    "    database = \"trucapedb\", \n",
    "    table_name = \"trucape_invoices\", \n",
    ")\n",
    "\n",
    "# source_dyf = gc.create_data_frame.from_options(\n",
    "#     connection_type='s3',\n",
    "#     connection_options={'paths': [\"s3://sol-dev-source/Trucape-Invoices\"]},\n",
    "#     format='csv,'\n",
    "# )"
   ]
  },
  {
   "cell_type": "code",
   "execution_count": null,
   "id": "ec5659d4",
   "metadata": {},
   "outputs": [],
   "source": [
    "source_df.show()"
   ]
  },
  {
   "cell_type": "code",
   "execution_count": 3,
   "id": "89eec144",
   "metadata": {},
   "outputs": [
    {
     "data": {
      "application/vnd.jupyter.widget-view+json": {
       "model_id": "",
       "version_major": 2,
       "version_minor": 0
      },
      "text/plain": [
       "FloatProgress(value=0.0, bar_style='info', description='Progress:', layout=Layout(height='25px', width='50%'),…"
      ]
     },
     "metadata": {},
     "output_type": "display_data"
    },
    {
     "name": "stdout",
     "output_type": "stream",
     "text": [
      "root\n",
      " |-- external reference: string (nullable = true)\n",
      " |-- number: long (nullable = true)\n",
      " |-- counterparty: string (nullable = true)\n",
      " |-- amount due: string (nullable = true)\n",
      " |-- currency: string (nullable = true)\n",
      " |-- cost currency: string (nullable = true)\n",
      " |-- costing rate: double (nullable = true)\n",
      " |-- due date: string (nullable = true)\n",
      " |-- issue date: string (nullable = true)"
     ]
    }
   ],
   "source": [
    "source_df.printSchema()"
   ]
  },
  {
   "cell_type": "code",
   "execution_count": 4,
   "id": "35349266",
   "metadata": {},
   "outputs": [
    {
     "data": {
      "application/vnd.jupyter.widget-view+json": {
       "model_id": "",
       "version_major": 2,
       "version_minor": 0
      },
      "text/plain": [
       "FloatProgress(value=0.0, bar_style='info', description='Progress:', layout=Layout(height='25px', width='50%'),…"
      ]
     },
     "metadata": {},
     "output_type": "display_data"
    }
   ],
   "source": [
    "# ADD YEAR TO DUE DATE\n",
    "# source_df_with_date_format = source_df.withColumn(\"due date\", F.concat(col(\"due date\"),F.lit(\"-2022\"))) \\\n",
    "#     .show()\n",
    "\n",
    "#  ADD YEAR TO ISSUE DATE\n",
    "# source_df_with_date_format = source_df.withColumn(\"issue date\", F.concat(col(\"issue date\"),F.lit(\"-2022\"))) \\\n",
    "#     .show()\n",
    "\n",
    "# add year to columns: due date & isue date \n",
    "# due_date=\"due date\"\n",
    "# issue_date=\"issue date\" - create variable for long functions\n",
    "\n",
    "# Add year to date columns\n",
    "source_df = source_df.withColumn(\"due date\", F.concat(col(\"due date\"),F.lit(\"-2022\"))) \\\n",
    "    .withColumn(\"issue date\", F.concat(col(\"issue date\"),F.lit(\"-2022\"))) \n",
    "    \n"
   ]
  },
  {
   "cell_type": "code",
   "execution_count": 5,
   "id": "dc466ae4",
   "metadata": {},
   "outputs": [
    {
     "data": {
      "application/vnd.jupyter.widget-view+json": {
       "model_id": "",
       "version_major": 2,
       "version_minor": 0
      },
      "text/plain": [
       "FloatProgress(value=0.0, bar_style='info', description='Progress:', layout=Layout(height='25px', width='50%'),…"
      ]
     },
     "metadata": {},
     "output_type": "display_data"
    },
    {
     "name": "stdout",
     "output_type": "stream",
     "text": [
      "+------------------+------+--------------------+------------+--------+-------------+------------+-----------+----------+\n",
      "|external reference|number|        counterparty|  amount due|currency|cost currency|costing rate|   due date|issue date|\n",
      "+------------------+------+--------------------+------------+--------+-------------+------------+-----------+----------+\n",
      "|          SC25505A|137113|   Fruit Traders LLC|  10,800.00 |     USD|          ZAR|      15.862|24-Jan-2022|3-Jan-2022|\n",
      "|          SC25506A|137114|   Fruit Traders LLC|  10,800.00 |     USD|          ZAR|      15.862|24-Jan-2022|3-Jan-2022|\n",
      "|          SC25503A|137116|   Fruit Traders LLC|  10,800.00 |     USD|          ZAR|      15.862|24-Jan-2022|3-Jan-2022|\n",
      "|          SC25504A|137117|   Fruit Traders LLC|  10,800.00 |     USD|          ZAR|      15.862|24-Jan-2022|3-Jan-2022|\n",
      "|          SC25499A|137078|   Fruit Traders LLC|  10,134.00 |     USD|          ZAR|      15.862|24-Jan-2022|3-Jan-2022|\n",
      "|          SC25500A|137079|   Fruit Traders LLC|   9,450.00 |     USD|          ZAR|      15.862|24-Jan-2022|3-Jan-2022|\n",
      "|          SC25501A|137131|   Fruit Traders LLC|   9,450.00 |     USD|          ZAR|      15.862|24-Jan-2022|3-Jan-2022|\n",
      "|          SC25505F|137113|   Fruit Traders LLC|  10,800.00 |     USD|          ZAR|     15.8773| 2-Feb-2022|3-Jan-2022|\n",
      "|          SC25506F|137114|   Fruit Traders LLC|  10,800.00 |     USD|          ZAR|     15.8773| 2-Feb-2022|3-Jan-2022|\n",
      "|          SC25503F|137116|   Fruit Traders LLC|  10,800.00 |     USD|          ZAR|     15.8773| 2-Feb-2022|3-Jan-2022|\n",
      "|          SC25504F|137117|   Fruit Traders LLC|  10,800.00 |     USD|          ZAR|     15.8773| 2-Feb-2022|3-Jan-2022|\n",
      "|          SC25499F|137078|   Fruit Traders LLC|  10,134.00 |     USD|          ZAR|     15.8773| 2-Feb-2022|3-Jan-2022|\n",
      "|          SC25500F|137079|   Fruit Traders LLC|   9,450.00 |     USD|          ZAR|     15.8773| 2-Feb-2022|3-Jan-2022|\n",
      "|          SC25501F|137131|   Fruit Traders LLC|   9,450.00 |     USD|          ZAR|     15.8773| 2-Feb-2022|3-Jan-2022|\n",
      "|           SC25548|137077|MA Sharbatly Corp...|  16,464.00 |     USD|          ZAR|     15.9551| 4-Mar-2022|3-Jan-2022|\n",
      "|           SC25499|136805|          JSC TANDER|  17,147.70 |     USD|          ZAR|     15.9551| 4-Mar-2022|3-Jan-2022|\n",
      "|           SC25500|136807|          JSC TANDER|  17,160.84 |     USD|          ZAR|     15.9551| 4-Mar-2022|3-Jan-2022|\n",
      "|           SC25501|137070|          JSC TANDER|  17,187.12 |     USD|          ZAR|     15.9551| 4-Mar-2022|3-Jan-2022|\n",
      "|           SC25533|137343|     D Fresh SDB BHD|  23,573.20 |     USD|          ZAR|     15.9551| 9-Mar-2022|3-Jan-2022|\n",
      "|           SC25534|137344|     D Fresh SDB BHD|  24,754.80 |     USD|          ZAR|     15.9551| 9-Mar-2022|3-Jan-2022|\n",
      "+------------------+------+--------------------+------------+--------+-------------+------------+-----------+----------+\n",
      "only showing top 20 rows"
     ]
    }
   ],
   "source": [
    "source_df.show()"
   ]
  },
  {
   "cell_type": "code",
   "execution_count": null,
   "id": "f630b073",
   "metadata": {},
   "outputs": [],
   "source": [
    "# Set column types\n",
    "source_df = source_df.withColumn(\"due date\",col(\"due date\").cast(DateType())) \\\n",
    "            .withColumn(\"issue date\", col(\"issue date\").cast(DateType())) \\"
   ]
  },
  {
   "cell_type": "code",
   "execution_count": null,
   "id": "faf026d4",
   "metadata": {},
   "outputs": [],
   "source": [
    "source_df.printSchema()"
   ]
  },
  {
   "cell_type": "code",
   "execution_count": null,
   "id": "92faab9a",
   "metadata": {},
   "outputs": [],
   "source": [
    "# DUE DATE FORMATTING\n",
    "# source_df_format = source_df1.select(col(\"due date\"),to_date(col(\"due date\"), \"d-MMM-yyyy\")) \\\n",
    "#   .show()\n",
    "\n",
    "# ISSUE DATE FORMATTING\n",
    "# df1 = source_df1.select(col(\"issue date\"),to_date(col(\"issue date\"), \"d-MMM\")) \\\n",
    "#   .show()\n",
    "\n",
    "# FORMAT COLUMNS: DUE DATE & ISSUE DATE \n",
    "# source_df = source_df.select(col(\"due date\"),to_date(F.col(\"due date\"), \"d-MMM-yyy\")) \n",
    "# due_date_col = col(\"due date\")\n",
    "# issue_date_col = col(\"issue date\")\n",
    "# due_date = to_date(F.due_date_col, \"d-MMM-yyy\")\n",
    "# issue_date = to_date(F.issue_date_col, \"d-MMM-yyy\")\n",
    "\n",
    "# source_df = source_df.select(\n",
    "#     (col(\"due date\"), due_date), \\\n",
    "#     (col(\"issue date\"), issue_date)) \\\n",
    "\n",
    "# source_df = source_df.select((col(\"due date\"),to_date(F.col(\"due date\"), \"d-MMM-yyy\")), \\\n",
    "#                              (col(\"issue date\"),to_date(F.col(\"issue date\"), \"d-MMM-yyy\"))) \\\n",
    "\n",
    "# Set column types\n",
    "# source_df = source_df.withColumn(\"due date\",col(\"due date\").cast(DateType())) \\\n",
    "\n",
    "# due_date = F.col(\"due date\"), \"d-MMM-yyyy\"    \n",
    "# source_df = source_df.withColumn(\"due date\", to_date((due_date)))\n",
    "\n",
    "dateFormat = date_format(current_timestamp(),\"yyyy-MM-dd\")\n",
    "source_df = source_df.select(\"due date\", dateFormat) \n",
    "        \n",
    "\n",
    "\n"
   ]
  },
  {
   "cell_type": "code",
   "execution_count": null,
   "id": "59051c20",
   "metadata": {},
   "outputs": [],
   "source": [
    "#  source_df = source_df.select(\"issue date\", dateFormat)"
   ]
  },
  {
   "cell_type": "code",
   "execution_count": null,
   "id": "513812cf",
   "metadata": {},
   "outputs": [],
   "source": [
    "    source_df = source_df.select((col(\"issue date\"),to_date(F.col(\"issue date\"), \"d-MMM-yyy\")))                         "
   ]
  }
 ],
 "metadata": {
  "kernelspec": {
   "display_name": "Sparkmagic (PySpark)",
   "language": "python",
   "name": "pysparkkernel"
  },
  "language_info": {
   "codemirror_mode": {
    "name": "python",
    "version": 3
   },
   "file_extension": ".py",
   "mimetype": "text/x-python",
   "name": "pyspark",
   "pygments_lexer": "python3"
  }
 },
 "nbformat": 4,
 "nbformat_minor": 5
}
