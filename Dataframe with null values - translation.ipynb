{
 "cells": [
  {
   "cell_type": "code",
   "execution_count": 1,
   "id": "b9bcec69",
   "metadata": {},
   "outputs": [
    {
     "name": "stdout",
     "output_type": "stream",
     "text": [
      "Starting Spark application\n"
     ]
    },
    {
     "data": {
      "text/html": [
       "<table>\n",
       "<tr><th>ID</th><th>YARN Application ID</th><th>Kind</th><th>State</th><th>Spark UI</th><th>Driver log</th><th>User</th><th>Current session?</th></tr><tr><td>18</td><td>application_1642400897224_0019</td><td>pyspark</td><td>idle</td><td><a target=\"_blank\" href=\"http://ip-172-31-29-79.eu-central-1.compute.internal:20888/proxy/application_1642400897224_0019/\">Link</a></td><td><a target=\"_blank\" href=\"http://ip-172-31-27-86.eu-central-1.compute.internal:8042/node/containerlogs/container_1642400897224_0019_01_000001/livy\">Link</a></td><td>None</td><td>✔</td></tr></table>"
      ],
      "text/plain": [
       "<IPython.core.display.HTML object>"
      ]
     },
     "metadata": {},
     "output_type": "display_data"
    },
    {
     "data": {
      "application/vnd.jupyter.widget-view+json": {
       "model_id": "",
       "version_major": 2,
       "version_minor": 0
      },
      "text/plain": [
       "FloatProgress(value=0.0, bar_style='info', description='Progress:', layout=Layout(height='25px', width='50%'),…"
      ]
     },
     "metadata": {},
     "output_type": "display_data"
    },
    {
     "name": "stdout",
     "output_type": "stream",
     "text": [
      "SparkSession available as 'spark'.\n"
     ]
    },
    {
     "data": {
      "application/vnd.jupyter.widget-view+json": {
       "model_id": "",
       "version_major": 2,
       "version_minor": 0
      },
      "text/plain": [
       "FloatProgress(value=0.0, bar_style='info', description='Progress:', layout=Layout(height='25px', width='50%'),…"
      ]
     },
     "metadata": {},
     "output_type": "display_data"
    }
   ],
   "source": [
    "from pyspark.sql import functions as F\n",
    "from pyspark.sql.types import IntegerType,BooleanType,DateType,FloatType,StringType,DoubleType,DecimalType\n",
    "from pyspark.sql.functions import * \n",
    "\n",
    "from awsglue.transforms import *\n",
    "from awsglue.utils import getResolvedOptions\n",
    "from pyspark.context import SparkContext\n",
    "from awsglue.context import GlueContext\n",
    "\n",
    "sc = SparkContext.getOrCreate()\n",
    "gc = GlueContext(sc)"
   ]
  },
  {
   "cell_type": "code",
   "execution_count": 2,
   "id": "d7c1a939",
   "metadata": {},
   "outputs": [
    {
     "data": {
      "application/vnd.jupyter.widget-view+json": {
       "model_id": "",
       "version_major": 2,
       "version_minor": 0
      },
      "text/plain": [
       "FloatProgress(value=0.0, bar_style='info', description='Progress:', layout=Layout(height='25px', width='50%'),…"
      ]
     },
     "metadata": {},
     "output_type": "display_data"
    }
   ],
   "source": [
    "#CREATE DATAFRAME WITH NULL VALUES\n",
    "source_df = gc.create_data_frame_from_catalog( \n",
    "    database = \"db_null_values\", \n",
    "    table_name = \"invoices_null_values\", \n",
    ")"
   ]
  },
  {
   "cell_type": "code",
   "execution_count": null,
   "id": "f4e3aacc",
   "metadata": {},
   "outputs": [],
   "source": [
    "source_df.show(32)"
   ]
  },
  {
   "cell_type": "code",
   "execution_count": 3,
   "id": "4c59b254",
   "metadata": {},
   "outputs": [
    {
     "data": {
      "application/vnd.jupyter.widget-view+json": {
       "model_id": "",
       "version_major": 2,
       "version_minor": 0
      },
      "text/plain": [
       "FloatProgress(value=0.0, bar_style='info', description='Progress:', layout=Layout(height='25px', width='50%'),…"
      ]
     },
     "metadata": {},
     "output_type": "display_data"
    }
   ],
   "source": [
    "# SET DECIMAL PLACES\n",
    "costing_rate=\"costing rate\"\n",
    "format_costing_rate = format_number(round(costing_rate ,4), 4)\n",
    "amount_due=\"amount due\"\n",
    "format_amount_due=format_number(round(amount_due ,2), 2)\n",
    "\n",
    "source_df = source_df.withColumn(costing_rate, format_costing_rate) \\\n",
    "# amount due gives null value - not sure why"
   ]
  },
  {
   "cell_type": "code",
   "execution_count": null,
   "id": "1d4d3faf",
   "metadata": {},
   "outputs": [],
   "source": [
    "source_df.show()"
   ]
  },
  {
   "cell_type": "code",
   "execution_count": 4,
   "id": "3c8c4d32",
   "metadata": {},
   "outputs": [
    {
     "data": {
      "application/vnd.jupyter.widget-view+json": {
       "model_id": "",
       "version_major": 2,
       "version_minor": 0
      },
      "text/plain": [
       "FloatProgress(value=0.0, bar_style='info', description='Progress:', layout=Layout(height='25px', width='50%'),…"
      ]
     },
     "metadata": {},
     "output_type": "display_data"
    }
   ],
   "source": [
    "# ADD YEAR TO DATE COLUMNS\n",
    "\n",
    "source_df = source_df.withColumn(\"due date\", F.concat(col(\"due date\"),F.lit(\"-2022\"))) \\\n",
    "    .withColumn(\"issue date\", F.concat(col(\"issue date\"),F.lit(\"-2022\")))"
   ]
  },
  {
   "cell_type": "code",
   "execution_count": null,
   "id": "929ff449",
   "metadata": {},
   "outputs": [],
   "source": [
    "source_df.show()"
   ]
  },
  {
   "cell_type": "code",
   "execution_count": 5,
   "id": "a2a4c4d7",
   "metadata": {},
   "outputs": [
    {
     "data": {
      "application/vnd.jupyter.widget-view+json": {
       "model_id": "",
       "version_major": 2,
       "version_minor": 0
      },
      "text/plain": [
       "FloatProgress(value=0.0, bar_style='info', description='Progress:', layout=Layout(height='25px', width='50%'),…"
      ]
     },
     "metadata": {},
     "output_type": "display_data"
    }
   ],
   "source": [
    "# FORMAT DATES\n",
    "source_df = source_df.select(\n",
    "    col(\"external reference\"), \\\n",
    "    col(\"number\"), \\\n",
    "    col(\"counterparty\"), \\\n",
    "    col(\"amount due\"), \\\n",
    "    col(\"currency\"), \\\n",
    "    col(\"cost currency\"), \\\n",
    "    col(\"costing rate\"), \\\n",
    "    to_date(F.col(\"due date\"), \"d-MMM-yyy\").alias(\"due date\"), \\\n",
    "    to_date(F.col(\"issue date\"), \"d-MMM-yyy\").alias(\"issue date\")) \\"
   ]
  },
  {
   "cell_type": "code",
   "execution_count": 6,
   "id": "dcd35aab",
   "metadata": {},
   "outputs": [
    {
     "data": {
      "application/vnd.jupyter.widget-view+json": {
       "model_id": "",
       "version_major": 2,
       "version_minor": 0
      },
      "text/plain": [
       "FloatProgress(value=0.0, bar_style='info', description='Progress:', layout=Layout(height='25px', width='50%'),…"
      ]
     },
     "metadata": {},
     "output_type": "display_data"
    },
    {
     "name": "stdout",
     "output_type": "stream",
     "text": [
      "+------------------+------+--------------------+-----------+--------+-------------+------------+----------+----------+\n",
      "|external reference|number|        counterparty| amount due|currency|cost currency|costing rate|  due date|issue date|\n",
      "+------------------+------+--------------------+-----------+--------+-------------+------------+----------+----------+\n",
      "|          SC25505A|137113|   Fruit Traders LLC| 10,800.00 |     USD|          ZAR|     15.8620|2022-01-24|2022-01-03|\n",
      "|          SC25506A|137114|   Fruit Traders LLC| 10,800.00 |     USD|          ZAR|     15.8620|2022-01-24|2022-01-03|\n",
      "|          SC25503A|137116|   Fruit Traders LLC| 10,800.00 |     USD|          ZAR|     15.8620|2022-01-24|2022-01-03|\n",
      "|          SC25504A|137117|   Fruit Traders LLC| 10,800.00 |     USD|          ZAR|     15.8620|2022-01-24|2022-01-03|\n",
      "|          SC25499A|137078|   Fruit Traders LLC| 10,134.00 |     USD|          ZAR|     15.8620|2022-01-24|2022-01-03|\n",
      "|          SC25500A|137079|   Fruit Traders LLC|  9,450.00 |     USD|          ZAR|     15.8620|2022-01-24|2022-01-03|\n",
      "|          SC25501A|137131|   Fruit Traders LLC|  9,450.00 |     USD|          ZAR|     15.8620|2022-01-24|2022-01-03|\n",
      "|          SC25505F|137113|   Fruit Traders LLC| 10,800.00 |     USD|          ZAR|     15.8773|2022-02-02|2022-01-03|\n",
      "|          SC25506F|137114|   Fruit Traders LLC| 10,800.00 |     USD|          ZAR|     15.8773|2022-02-02|2022-01-03|\n",
      "|          SC25503F|137116|   Fruit Traders LLC| 10,800.00 |     USD|          ZAR|     15.8773|2022-02-02|2022-01-03|\n",
      "|          SC25504F|137117|   Fruit Traders LLC| 10,800.00 |     USD|          ZAR|     15.8773|2022-02-02|2022-01-03|\n",
      "|          SC25499F|137078|   Fruit Traders LLC| 10,134.00 |     USD|          ZAR|     15.8773|2022-02-02|2022-01-03|\n",
      "|          SC25500F|137079|   Fruit Traders LLC|  9,450.00 |     USD|          ZAR|     15.8773|2022-02-02|2022-01-03|\n",
      "|          SC25501F|137131|   Fruit Traders LLC|  9,450.00 |     USD|          ZAR|     15.8773|2022-02-02|2022-01-03|\n",
      "|           SC25548|137077|MA Sharbatly Corp...| 16,464.00 |     USD|          ZAR|     15.9551|2022-03-04|2022-01-03|\n",
      "|           SC25499|136805|          JSC TANDER| 17,147.70 |     USD|          ZAR|     15.9551|2022-03-04|2022-01-03|\n",
      "|           SC25500|136807|          JSC TANDER| 17,160.84 |     USD|          ZAR|     15.9551|2022-03-04|2022-01-03|\n",
      "|           SC25501|137070|          JSC TANDER| 17,187.12 |     USD|          ZAR|     15.9551|2022-03-04|2022-01-03|\n",
      "|           SC25533|137343|     D Fresh SDB BHD| 23,573.20 |     USD|          ZAR|     15.9551|2022-03-09|2022-01-03|\n",
      "|           SC25534|137344|     D Fresh SDB BHD| 24,754.80 |     USD|          ZAR|     15.9551|2022-03-09|2022-01-03|\n",
      "+------------------+------+--------------------+-----------+--------+-------------+------------+----------+----------+\n",
      "only showing top 20 rows"
     ]
    }
   ],
   "source": [
    "source_df.show()"
   ]
  },
  {
   "cell_type": "code",
   "execution_count": null,
   "id": "9007aa41",
   "metadata": {},
   "outputs": [],
   "source": []
  }
 ],
 "metadata": {
  "kernelspec": {
   "display_name": "Sparkmagic (PySpark)",
   "language": "python",
   "name": "pysparkkernel"
  },
  "language_info": {
   "codemirror_mode": {
    "name": "python",
    "version": 3
   },
   "file_extension": ".py",
   "mimetype": "text/x-python",
   "name": "pyspark",
   "pygments_lexer": "python3"
  }
 },
 "nbformat": 4,
 "nbformat_minor": 5
}
