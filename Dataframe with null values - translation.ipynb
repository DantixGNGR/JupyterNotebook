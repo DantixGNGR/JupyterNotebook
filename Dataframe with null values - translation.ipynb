{
 "cells": [
  {
   "cell_type": "code",
   "execution_count": 3,
   "id": "01c3a9da",
   "metadata": {},
   "outputs": [
    {
     "data": {
      "application/vnd.jupyter.widget-view+json": {
       "model_id": "",
       "version_major": 2,
       "version_minor": 0
      },
      "text/plain": [
       "FloatProgress(value=0.0, bar_style='info', description='Progress:', layout=Layout(height='25px', width='50%'),…"
      ]
     },
     "metadata": {},
     "output_type": "display_data"
    }
   ],
   "source": [
    "from pyspark.sql import functions as F\n",
    "from pyspark.sql.types import IntegerType,BooleanType,DateType,FloatType,StringType,DoubleType,DecimalType\n",
    "from pyspark.sql.functions import * \n",
    "\n",
    "from awsglue.transforms import *\n",
    "from awsglue.utils import getResolvedOptions\n",
    "from pyspark.context import SparkContext\n",
    "from awsglue.context import GlueContext\n",
    "\n",
    "sc = SparkContext.getOrCreate()\n",
    "gc = GlueContext(sc)"
   ]
  },
  {
   "cell_type": "code",
   "execution_count": 4,
   "id": "7db7e88b",
   "metadata": {},
   "outputs": [
    {
     "data": {
      "application/vnd.jupyter.widget-view+json": {
       "model_id": "",
       "version_major": 2,
       "version_minor": 0
      },
      "text/plain": [
       "FloatProgress(value=0.0, bar_style='info', description='Progress:', layout=Layout(height='25px', width='50%'),…"
      ]
     },
     "metadata": {},
     "output_type": "display_data"
    }
   ],
   "source": [
    "#CREATE DATAFRAME WITH NULL VALUES\n",
    "source_df = gc.create_data_frame_from_catalog( \n",
    "    database = \"db_null_values\", \n",
    "    table_name = \"invoices_null_values\", \n",
    ")"
   ]
  },
  {
   "cell_type": "code",
   "execution_count": null,
   "id": "2253adf9",
   "metadata": {},
   "outputs": [],
   "source": [
    "source_df.show(32)"
   ]
  },
  {
   "cell_type": "code",
   "execution_count": 5,
   "id": "beac55b7",
   "metadata": {},
   "outputs": [
    {
     "data": {
      "application/vnd.jupyter.widget-view+json": {
       "model_id": "",
       "version_major": 2,
       "version_minor": 0
      },
      "text/plain": [
       "FloatProgress(value=0.0, bar_style='info', description='Progress:', layout=Layout(height='25px', width='50%'),…"
      ]
     },
     "metadata": {},
     "output_type": "display_data"
    }
   ],
   "source": [
    "# SET DECIMAL PLACES\n",
    "costing_rate=\"costing rate\"\n",
    "format_costing_rate = format_number(round(costing_rate ,4), 4)\n",
    "amount_due=\"amount due\"\n",
    "format_amount_due=format_number(round(amount_due ,2), 2)\n",
    "\n",
    "source_df = source_df.withColumn(costing_rate, format_costing_rate) \\\n",
    "# amount due gives null value - not sure why"
   ]
  },
  {
   "cell_type": "code",
   "execution_count": null,
   "id": "4ecf7b57",
   "metadata": {},
   "outputs": [],
   "source": [
    "source_df.show()"
   ]
  },
  {
   "cell_type": "code",
   "execution_count": 7,
   "id": "278dfd36",
   "metadata": {},
   "outputs": [
    {
     "data": {
      "application/vnd.jupyter.widget-view+json": {
       "model_id": "",
       "version_major": 2,
       "version_minor": 0
      },
      "text/plain": [
       "FloatProgress(value=0.0, bar_style='info', description='Progress:', layout=Layout(height='25px', width='50%'),…"
      ]
     },
     "metadata": {},
     "output_type": "display_data"
    }
   ],
   "source": [
    "# ADD YEAR TO DATE COLUMNS\n",
    "due_date=\"due date\"\n",
    "issue_date=\"issue date\"\n",
    "year = F.lit(\"-2022\")\n",
    "due_date_add_year = F.concat(col(due_date),year)\n",
    "issue_date_add_year = F.concat(col(issue_date),year)\n",
    "                             \n",
    "                             \n",
    "# source_df = source_df.withColumn(\"due date\", F.concat(col(\"due date\"),F.lit(\"-2022\"))) \\\n",
    "#     .withColumn(\"issue date\", F.concat(col(\"issue date\"),F.lit(\"-2022\")))\n",
    "                               \n",
    "source_df = source_df.withColumn(due_date, due_date_add_year) \\\n",
    "    .withColumn(issue_date, issue_date_add_year)"
   ]
  },
  {
   "cell_type": "code",
   "execution_count": null,
   "id": "659a3acf",
   "metadata": {},
   "outputs": [],
   "source": [
    "source_df.show()"
   ]
  },
  {
   "cell_type": "code",
   "execution_count": 8,
   "id": "79aed521",
   "metadata": {},
   "outputs": [
    {
     "data": {
      "application/vnd.jupyter.widget-view+json": {
       "model_id": "",
       "version_major": 2,
       "version_minor": 0
      },
      "text/plain": [
       "FloatProgress(value=0.0, bar_style='info', description='Progress:', layout=Layout(height='25px', width='50%'),…"
      ]
     },
     "metadata": {},
     "output_type": "display_data"
    }
   ],
   "source": [
    "# FORMAT DATES\n",
    "source_df = source_df.select(\n",
    "    col(\"external reference\"), \\\n",
    "    col(\"number\"), \\\n",
    "    col(\"counterparty\"), \\\n",
    "    col(\"amount due\"), \\\n",
    "    col(\"currency\"), \\\n",
    "    col(\"cost currency\"), \\\n",
    "    col(\"costing rate\"), \\\n",
    "    to_date(F.col(\"due date\"), \"d-MMM-yyy\").alias(\"due date\"), \\\n",
    "    to_date(F.col(\"issue date\"), \"d-MMM-yyy\").alias(\"issue date\")) \\"
   ]
  },
  {
   "cell_type": "code",
   "execution_count": 9,
   "id": "0d1f929d",
   "metadata": {},
   "outputs": [
    {
     "data": {
      "application/vnd.jupyter.widget-view+json": {
       "model_id": "",
       "version_major": 2,
       "version_minor": 0
      },
      "text/plain": [
       "FloatProgress(value=0.0, bar_style='info', description='Progress:', layout=Layout(height='25px', width='50%'),…"
      ]
     },
     "metadata": {},
     "output_type": "display_data"
    },
    {
     "name": "stdout",
     "output_type": "stream",
     "text": [
      "+------------------+------+--------------------+-----------+--------+-------------+------------+----------+----------+\n",
      "|external reference|number|        counterparty| amount due|currency|cost currency|costing rate|  due date|issue date|\n",
      "+------------------+------+--------------------+-----------+--------+-------------+------------+----------+----------+\n",
      "|          SC25505A|137113|   Fruit Traders LLC| 10,800.00 |     USD|          ZAR|     15.8620|2022-01-24|2022-01-03|\n",
      "|          SC25506A|137114|   Fruit Traders LLC| 10,800.00 |     USD|          ZAR|     15.8620|2022-01-24|2022-01-03|\n",
      "|          SC25503A|137116|   Fruit Traders LLC| 10,800.00 |     USD|          ZAR|     15.8620|2022-01-24|2022-01-03|\n",
      "|          SC25504A|137117|   Fruit Traders LLC| 10,800.00 |     USD|          ZAR|     15.8620|2022-01-24|2022-01-03|\n",
      "|          SC25499A|137078|   Fruit Traders LLC| 10,134.00 |     USD|          ZAR|     15.8620|2022-01-24|2022-01-03|\n",
      "|          SC25500A|137079|   Fruit Traders LLC|  9,450.00 |     USD|          ZAR|     15.8620|2022-01-24|2022-01-03|\n",
      "|          SC25501A|137131|   Fruit Traders LLC|  9,450.00 |     USD|          ZAR|     15.8620|2022-01-24|2022-01-03|\n",
      "|          SC25505F|137113|   Fruit Traders LLC| 10,800.00 |     USD|          ZAR|     15.8773|2022-02-02|2022-01-03|\n",
      "|          SC25506F|137114|   Fruit Traders LLC| 10,800.00 |     USD|          ZAR|     15.8773|2022-02-02|2022-01-03|\n",
      "|          SC25503F|137116|   Fruit Traders LLC| 10,800.00 |     USD|          ZAR|     15.8773|2022-02-02|2022-01-03|\n",
      "|          SC25504F|137117|   Fruit Traders LLC| 10,800.00 |     USD|          ZAR|     15.8773|2022-02-02|2022-01-03|\n",
      "|          SC25499F|137078|   Fruit Traders LLC| 10,134.00 |     USD|          ZAR|     15.8773|2022-02-02|2022-01-03|\n",
      "|          SC25500F|137079|   Fruit Traders LLC|  9,450.00 |     USD|          ZAR|     15.8773|2022-02-02|2022-01-03|\n",
      "|          SC25501F|137131|   Fruit Traders LLC|  9,450.00 |     USD|          ZAR|     15.8773|2022-02-02|2022-01-03|\n",
      "|           SC25548|137077|MA Sharbatly Corp...| 16,464.00 |     USD|          ZAR|     15.9551|2022-03-04|2022-01-03|\n",
      "|           SC25499|136805|          JSC TANDER| 17,147.70 |     USD|          ZAR|     15.9551|2022-03-04|2022-01-03|\n",
      "|           SC25500|136807|          JSC TANDER| 17,160.84 |     USD|          ZAR|     15.9551|2022-03-04|2022-01-03|\n",
      "|           SC25501|137070|          JSC TANDER| 17,187.12 |     USD|          ZAR|     15.9551|2022-03-04|2022-01-03|\n",
      "|           SC25533|137343|     D Fresh SDB BHD| 23,573.20 |     USD|          ZAR|     15.9551|2022-03-09|2022-01-03|\n",
      "|           SC25534|137344|     D Fresh SDB BHD| 24,754.80 |     USD|          ZAR|     15.9551|2022-03-09|2022-01-03|\n",
      "+------------------+------+--------------------+-----------+--------+-------------+------------+----------+----------+\n",
      "only showing top 20 rows"
     ]
    }
   ],
   "source": [
    "source_df.show()"
   ]
  },
  {
   "cell_type": "code",
   "execution_count": null,
   "id": "4fe07f9d",
   "metadata": {},
   "outputs": [],
   "source": []
  }
 ],
 "metadata": {
  "kernelspec": {
   "display_name": "Sparkmagic (PySpark)",
   "language": "python",
   "name": "pysparkkernel"
  },
  "language_info": {
   "codemirror_mode": {
    "name": "python",
    "version": 3
   },
   "file_extension": ".py",
   "mimetype": "text/x-python",
   "name": "pyspark",
   "pygments_lexer": "python3"
  }
 },
 "nbformat": 4,
 "nbformat_minor": 5
}
