{
 "cells": [
  {
   "cell_type": "code",
   "execution_count": 1,
   "id": "c1048ec1",
   "metadata": {},
   "outputs": [
    {
     "name": "stdout",
     "output_type": "stream",
     "text": [
      "Starting Spark application\n"
     ]
    },
    {
     "data": {
      "text/html": [
       "<table>\n",
       "<tr><th>ID</th><th>YARN Application ID</th><th>Kind</th><th>State</th><th>Spark UI</th><th>Driver log</th><th>User</th><th>Current session?</th></tr><tr><td>6</td><td>application_1644325409033_0007</td><td>pyspark</td><td>idle</td><td><a target=\"_blank\" href=\"http://ip-172-31-36-69.eu-central-1.compute.internal:20888/proxy/application_1644325409033_0007/\">Link</a></td><td><a target=\"_blank\" href=\"http://ip-172-31-44-254.eu-central-1.compute.internal:8042/node/containerlogs/container_1644325409033_0007_01_000001/livy\">Link</a></td><td>None</td><td>✔</td></tr></table>"
      ],
      "text/plain": [
       "<IPython.core.display.HTML object>"
      ]
     },
     "metadata": {},
     "output_type": "display_data"
    },
    {
     "data": {
      "application/vnd.jupyter.widget-view+json": {
       "model_id": "",
       "version_major": 2,
       "version_minor": 0
      },
      "text/plain": [
       "FloatProgress(value=0.0, bar_style='info', description='Progress:', layout=Layout(height='25px', width='50%'),…"
      ]
     },
     "metadata": {},
     "output_type": "display_data"
    },
    {
     "name": "stdout",
     "output_type": "stream",
     "text": [
      "SparkSession available as 'spark'.\n"
     ]
    },
    {
     "data": {
      "application/vnd.jupyter.widget-view+json": {
       "model_id": "",
       "version_major": 2,
       "version_minor": 0
      },
      "text/plain": [
       "FloatProgress(value=0.0, bar_style='info', description='Progress:', layout=Layout(height='25px', width='50%'),…"
      ]
     },
     "metadata": {},
     "output_type": "display_data"
    }
   ],
   "source": [
    "import sys\n",
    "from pyspark.sql import functions as F\n",
    "from pyspark.sql.functions import * \n",
    "from awsglue.job import Job\n",
    "from awsglue.transforms import *\n",
    "from awsglue.utils import getResolvedOptions\n",
    "from pyspark.context import SparkContext\n",
    "from awsglue.context import GlueContext\n",
    "from functools import reduce\n",
    "from pyspark.sql.types import StringType\n",
    "import numpy as np\n",
    "import pandas as pd\n",
    "#from openpyxl.workbook import Workbook\n",
    "sys.argv += ['--JOB_NAME','Custom-Translation-Trucape-Invoices-2']\n",
    "sys.argv += ['--source_csv','s3://sol-dev-source/TruCape-Invoices']\n",
    "args = getResolvedOptions(sys.argv, ['JOB_NAME', 'source_csv'])\n",
    "sc = SparkContext.getOrCreate()\n",
    "gc = GlueContext(sc)\n",
    "spark = gc.spark_session\n",
    "job = Job(gc)\n",
    "job.init(args[\"JOB_NAME\"])"
   ]
  },
  {
   "cell_type": "code",
   "execution_count": 2,
   "id": "5fee97f6",
   "metadata": {},
   "outputs": [
    {
     "data": {
      "application/vnd.jupyter.widget-view+json": {
       "model_id": "",
       "version_major": 2,
       "version_minor": 0
      },
      "text/plain": [
       "FloatProgress(value=0.0, bar_style='info', description='Progress:', layout=Layout(height='25px', width='50%'),…"
      ]
     },
     "metadata": {},
     "output_type": "display_data"
    }
   ],
   "source": [
    "# source_dyf=gc.create_dynamic_frame.from_catalog(\n",
    "#     database=\"s3\",\n",
    "#     table_name=args[\"source_csv\"],\n",
    "#     transformations_ctx=\"source_dyf\"\n",
    "# )\n",
    "\n",
    "source_dyf = gc.create_dynamic_frame.from_options(\n",
    "    's3',\n",
    "    {\n",
    "        \"paths\": [\n",
    "            args[\"source_csv\"]\n",
    "        ],\n",
    "    },\n",
    "    \"csv\",\n",
    "    transformation_ctx = \"source_dyf\",\n",
    "    headerText = True)"
   ]
  },
  {
   "cell_type": "code",
   "execution_count": 3,
   "id": "3d42e33b",
   "metadata": {},
   "outputs": [
    {
     "data": {
      "application/vnd.jupyter.widget-view+json": {
       "model_id": "",
       "version_major": 2,
       "version_minor": 0
      },
      "text/plain": [
       "FloatProgress(value=0.0, bar_style='info', description='Progress:', layout=Layout(height='25px', width='50%'),…"
      ]
     },
     "metadata": {},
     "output_type": "display_data"
    }
   ],
   "source": [
    "source_df = source_dyf.toDF()"
   ]
  },
  {
   "cell_type": "code",
   "execution_count": null,
   "id": "957c6226",
   "metadata": {},
   "outputs": [],
   "source": [
    "source_df.show()\n"
   ]
  },
  {
   "cell_type": "code",
   "execution_count": 4,
   "id": "a97b7e0c",
   "metadata": {},
   "outputs": [
    {
     "data": {
      "application/vnd.jupyter.widget-view+json": {
       "model_id": "",
       "version_major": 2,
       "version_minor": 0
      },
      "text/plain": [
       "FloatProgress(value=0.0, bar_style='info', description='Progress:', layout=Layout(height='25px', width='50%'),…"
      ]
     },
     "metadata": {},
     "output_type": "display_data"
    }
   ],
   "source": [
    "# (b) Create array with desired columns\n",
    "old_columns = source_df.schema.names\n",
    "new_columns = [\n",
    "    field.lower().replace(\"col0\", \"External Reference\")\n",
    "    .replace(\"col1\", \"Number\")\n",
    "    .replace(\"col2\", \"Counterparty\")\n",
    "    .replace(\"col3\", \"Amount Due\")\n",
    "    .replace(\"col4\", \"Currency\")\n",
    "    .replace(\"col5\", \"Cost Currency\")\n",
    "    .replace(\"col6\", \"Costing Rate\")\n",
    "    .replace(\"col7\", \"Due Date\")\n",
    "    .replace(\"col8\", \"Issue Date\")\n",
    "    for field in old_columns\n",
    "]"
   ]
  },
  {
   "cell_type": "code",
   "execution_count": 5,
   "id": "6c2ff921",
   "metadata": {},
   "outputs": [
    {
     "data": {
      "application/vnd.jupyter.widget-view+json": {
       "model_id": "",
       "version_major": 2,
       "version_minor": 0
      },
      "text/plain": [
       "FloatProgress(value=0.0, bar_style='info', description='Progress:', layout=Layout(height='25px', width='50%'),…"
      ]
     },
     "metadata": {},
     "output_type": "display_data"
    }
   ],
   "source": [
    "# (c) Overwrite and persist `new_columns`\n",
    "source_df = reduce(\n",
    "    lambda source_df, idx: source_df.withColumnRenamed(old_columns[idx], new_columns[idx]),\n",
    "    range(len(old_columns)),\n",
    "    source_df,\n",
    ")"
   ]
  },
  {
   "cell_type": "code",
   "execution_count": 6,
   "id": "bd6971ff",
   "metadata": {},
   "outputs": [
    {
     "data": {
      "application/vnd.jupyter.widget-view+json": {
       "model_id": "",
       "version_major": 2,
       "version_minor": 0
      },
      "text/plain": [
       "FloatProgress(value=0.0, bar_style='info', description='Progress:', layout=Layout(height='25px', width='50%'),…"
      ]
     },
     "metadata": {},
     "output_type": "display_data"
    },
    {
     "name": "stdout",
     "output_type": "stream",
     "text": [
      "+------------------+------+-------------------+------------+--------+-------------+------------+--------+----------+\n",
      "|External Reference|Number|       Counterparty|  Amount Due|Currency|Cost Currency|Costing Rate|Due Date|Issue Date|\n",
      "+------------------+------+-------------------+------------+--------+-------------+------------+--------+----------+\n",
      "|External Reference|Number|       Counterparty| Amount Due |Currency|Cost Currency|Costing Rate|Due Date|Issue Date|\n",
      "|           SC25648|138099|         JSC TANDER|  21,124.80 |     USD|          ZAR|     15.5654|   7-Apr|    21-Jan|\n",
      "|           SC25646|138127|HORIZON FRESH FRUIT|  17,100.00 |     USD|          ZAR|     15.5142|  17-Mar|    21-Jan|\n",
      "|           SC25645|138129|HORIZON FRESH FRUIT|  17,100.00 |     USD|          ZAR|     15.5142|  17-Mar|    21-Jan|\n",
      "+------------------+------+-------------------+------------+--------+-------------+------------+--------+----------+"
     ]
    }
   ],
   "source": [
    "source_df.show()"
   ]
  },
  {
   "cell_type": "code",
   "execution_count": 7,
   "id": "e931abef",
   "metadata": {},
   "outputs": [
    {
     "data": {
      "application/vnd.jupyter.widget-view+json": {
       "model_id": "",
       "version_major": 2,
       "version_minor": 0
      },
      "text/plain": [
       "FloatProgress(value=0.0, bar_style='info', description='Progress:', layout=Layout(height='25px', width='50%'),…"
      ]
     },
     "metadata": {},
     "output_type": "display_data"
    }
   ],
   "source": [
    "pandas_source_df = source_df.toPandas()"
   ]
  },
  {
   "cell_type": "code",
   "execution_count": 8,
   "id": "659ee60b",
   "metadata": {},
   "outputs": [
    {
     "data": {
      "application/vnd.jupyter.widget-view+json": {
       "model_id": "",
       "version_major": 2,
       "version_minor": 0
      },
      "text/plain": [
       "FloatProgress(value=0.0, bar_style='info', description='Progress:', layout=Layout(height='25px', width='50%'),…"
      ]
     },
     "metadata": {},
     "output_type": "display_data"
    }
   ],
   "source": [
    "source_df = pandas_source_df.iloc[1: , :]"
   ]
  },
  {
   "cell_type": "code",
   "execution_count": 9,
   "id": "d5c37aa0",
   "metadata": {},
   "outputs": [
    {
     "data": {
      "application/vnd.jupyter.widget-view+json": {
       "model_id": "",
       "version_major": 2,
       "version_minor": 0
      },
      "text/plain": [
       "FloatProgress(value=0.0, bar_style='info', description='Progress:', layout=Layout(height='25px', width='50%'),…"
      ]
     },
     "metadata": {},
     "output_type": "display_data"
    }
   ],
   "source": [
    "source_df=spark.createDataFrame(source_df)"
   ]
  },
  {
   "cell_type": "code",
   "execution_count": 10,
   "id": "aa00fd1b",
   "metadata": {},
   "outputs": [
    {
     "data": {
      "application/vnd.jupyter.widget-view+json": {
       "model_id": "",
       "version_major": 2,
       "version_minor": 0
      },
      "text/plain": [
       "FloatProgress(value=0.0, bar_style='info', description='Progress:', layout=Layout(height='25px', width='50%'),…"
      ]
     },
     "metadata": {},
     "output_type": "display_data"
    },
    {
     "name": "stdout",
     "output_type": "stream",
     "text": [
      "+------------------+------+-------------------+-----------+--------+-------------+------------+--------+----------+\n",
      "|External Reference|Number|       Counterparty| Amount Due|Currency|Cost Currency|Costing Rate|Due Date|Issue Date|\n",
      "+------------------+------+-------------------+-----------+--------+-------------+------------+--------+----------+\n",
      "|           SC25648|138099|         JSC TANDER| 21,124.80 |     USD|          ZAR|     15.5654|   7-Apr|    21-Jan|\n",
      "|           SC25646|138127|HORIZON FRESH FRUIT| 17,100.00 |     USD|          ZAR|     15.5142|  17-Mar|    21-Jan|\n",
      "|           SC25645|138129|HORIZON FRESH FRUIT| 17,100.00 |     USD|          ZAR|     15.5142|  17-Mar|    21-Jan|\n",
      "+------------------+------+-------------------+-----------+--------+-------------+------------+--------+----------+"
     ]
    }
   ],
   "source": [
    "source_df.show()\n"
   ]
  },
  {
   "cell_type": "code",
   "execution_count": 11,
   "id": "a129e961",
   "metadata": {},
   "outputs": [
    {
     "data": {
      "application/vnd.jupyter.widget-view+json": {
       "model_id": "",
       "version_major": 2,
       "version_minor": 0
      },
      "text/plain": [
       "FloatProgress(value=0.0, bar_style='info', description='Progress:', layout=Layout(height='25px', width='50%'),…"
      ]
     },
     "metadata": {},
     "output_type": "display_data"
    }
   ],
   "source": [
    "# Add notes column to dataset\n",
    "source_df = source_df.withColumn('Notes', lit(None).cast(StringType()))\n"
   ]
  },
  {
   "cell_type": "code",
   "execution_count": 12,
   "id": "1c9f3502",
   "metadata": {},
   "outputs": [
    {
     "data": {
      "application/vnd.jupyter.widget-view+json": {
       "model_id": "",
       "version_major": 2,
       "version_minor": 0
      },
      "text/plain": [
       "FloatProgress(value=0.0, bar_style='info', description='Progress:', layout=Layout(height='25px', width='50%'),…"
      ]
     },
     "metadata": {},
     "output_type": "display_data"
    },
    {
     "name": "stdout",
     "output_type": "stream",
     "text": [
      "+------------------+------+-------------------+-----------+--------+-------------+------------+--------+----------+-----+\n",
      "|External Reference|Number|       Counterparty| Amount Due|Currency|Cost Currency|Costing Rate|Due Date|Issue Date|Notes|\n",
      "+------------------+------+-------------------+-----------+--------+-------------+------------+--------+----------+-----+\n",
      "|           SC25648|138099|         JSC TANDER| 21,124.80 |     USD|          ZAR|     15.5654|   7-Apr|    21-Jan| null|\n",
      "|           SC25646|138127|HORIZON FRESH FRUIT| 17,100.00 |     USD|          ZAR|     15.5142|  17-Mar|    21-Jan| null|\n",
      "|           SC25645|138129|HORIZON FRESH FRUIT| 17,100.00 |     USD|          ZAR|     15.5142|  17-Mar|    21-Jan| null|\n",
      "+------------------+------+-------------------+-----------+--------+-------------+------------+--------+----------+-----+"
     ]
    }
   ],
   "source": [
    "source_df.show()"
   ]
  },
  {
   "cell_type": "code",
   "execution_count": 13,
   "id": "182aa02f",
   "metadata": {},
   "outputs": [
    {
     "data": {
      "application/vnd.jupyter.widget-view+json": {
       "model_id": "",
       "version_major": 2,
       "version_minor": 0
      },
      "text/plain": [
       "FloatProgress(value=0.0, bar_style='info', description='Progress:', layout=Layout(height='25px', width='50%'),…"
      ]
     },
     "metadata": {},
     "output_type": "display_data"
    }
   ],
   "source": [
    "# ADD YEAR TO DATE COLUMNS\n",
    "due_date=\"due date\"\n",
    "issue_date=\"issue date\"\n",
    "year = F.lit(\"-2022\")\n",
    "due_date_add_year = F.concat(col(due_date),year)\n",
    "issue_date_add_year = F.concat(col(issue_date),year)\n",
    "                               \n",
    "source_df = source_df.withColumn(due_date, due_date_add_year) \\\n",
    "    .withColumn(issue_date, issue_date_add_year)"
   ]
  },
  {
   "cell_type": "code",
   "execution_count": 14,
   "id": "b6b2c0ef",
   "metadata": {},
   "outputs": [
    {
     "data": {
      "application/vnd.jupyter.widget-view+json": {
       "model_id": "",
       "version_major": 2,
       "version_minor": 0
      },
      "text/plain": [
       "FloatProgress(value=0.0, bar_style='info', description='Progress:', layout=Layout(height='25px', width='50%'),…"
      ]
     },
     "metadata": {},
     "output_type": "display_data"
    }
   ],
   "source": [
    "# SET DECIMAL PLACES\n",
    "costing_rate=\"costing rate\"\n",
    "format_costing_rate = format_number(round(costing_rate ,4), 4)\n",
    "amount_due=\"amount due\"\n",
    "format_amount_due=format_number(round(amount_due ,2), 2)\n",
    "\n",
    "source_df = source_df.withColumn(costing_rate, format_costing_rate) \\\n",
    "# amount due gives null value - not sure why\n"
   ]
  },
  {
   "cell_type": "code",
   "execution_count": 15,
   "id": "d7eba398",
   "metadata": {},
   "outputs": [
    {
     "data": {
      "application/vnd.jupyter.widget-view+json": {
       "model_id": "",
       "version_major": 2,
       "version_minor": 0
      },
      "text/plain": [
       "FloatProgress(value=0.0, bar_style='info', description='Progress:', layout=Layout(height='25px', width='50%'),…"
      ]
     },
     "metadata": {},
     "output_type": "display_data"
    }
   ],
   "source": [
    "# FORMAT DATES\n",
    "source_df = source_df.select(\n",
    "    col(\"External Reference\"), \\\n",
    "    col(\"Number\"), \\\n",
    "    col(\"Counterparty\"), \\\n",
    "    col(\"Amount due\"), \\\n",
    "    col(\"Currency\"), \\\n",
    "    col(\"Cost Currency\"), \\\n",
    "    col(\"Costing Rate\"), \\\n",
    "    to_date(F.col(\"due date\"), \"d-MMM-yyy\").alias(\"Due Date\"), \\\n",
    "    to_date(F.col(\"issue date\"), \"d-MMM-yyy\").alias(\"Issue Date\"), \\\n",
    "     col(\"Notes\")\n",
    ") \\"
   ]
  },
  {
   "cell_type": "code",
   "execution_count": 16,
   "id": "39b55f02",
   "metadata": {},
   "outputs": [
    {
     "data": {
      "application/vnd.jupyter.widget-view+json": {
       "model_id": "",
       "version_major": 2,
       "version_minor": 0
      },
      "text/plain": [
       "FloatProgress(value=0.0, bar_style='info', description='Progress:', layout=Layout(height='25px', width='50%'),…"
      ]
     },
     "metadata": {},
     "output_type": "display_data"
    },
    {
     "name": "stdout",
     "output_type": "stream",
     "text": [
      "+------------------+------+-------------------+-----------+--------+-------------+------------+----------+----------+-----+\n",
      "|External Reference|Number|       Counterparty| Amount due|Currency|Cost Currency|Costing Rate|  Due Date|Issue Date|Notes|\n",
      "+------------------+------+-------------------+-----------+--------+-------------+------------+----------+----------+-----+\n",
      "|           SC25648|138099|         JSC TANDER| 21,124.80 |     USD|          ZAR|     15.5654|2022-04-07|2022-01-21| null|\n",
      "|           SC25646|138127|HORIZON FRESH FRUIT| 17,100.00 |     USD|          ZAR|     15.5142|2022-03-17|2022-01-21| null|\n",
      "|           SC25645|138129|HORIZON FRESH FRUIT| 17,100.00 |     USD|          ZAR|     15.5142|2022-03-17|2022-01-21| null|\n",
      "+------------------+------+-------------------+-----------+--------+-------------+------------+----------+----------+-----+"
     ]
    }
   ],
   "source": [
    "source_df.show()"
   ]
  },
  {
   "cell_type": "code",
   "execution_count": null,
   "id": "01754255",
   "metadata": {},
   "outputs": [],
   "source": [
    "pandas_source_df = source_df.toPandas()"
   ]
  },
  {
   "cell_type": "code",
   "execution_count": null,
   "id": "d6a0f74a",
   "metadata": {},
   "outputs": [],
   "source": [
    "GFG = pd.ExcelWriter(source_df)\n",
    "pandas_source_df.to_excel(GFG, index = False)\n",
    "GFG.save()"
   ]
  },
  {
   "cell_type": "code",
   "execution_count": null,
   "id": "304f939c",
   "metadata": {},
   "outputs": [],
   "source": [
    "#  pandas_source_df= pandas_source_df.to_excel (r's3://sol-dev-output/TruCape-Invoices/TRU_Invoices.xlsx',\n",
    "# index = None, header=True)"
   ]
  },
  {
   "cell_type": "code",
   "execution_count": null,
   "id": "ad3527dc",
   "metadata": {},
   "outputs": [],
   "source": [
    "# source_df.write.mode(SaveMode.Overwrite).json('s3://sol-dev-output/TruCape-Invoices')"
   ]
  },
  {
   "cell_type": "code",
   "execution_count": 17,
   "id": "7cdc426a",
   "metadata": {},
   "outputs": [
    {
     "data": {
      "application/vnd.jupyter.widget-view+json": {
       "model_id": "",
       "version_major": 2,
       "version_minor": 0
      },
      "text/plain": [
       "FloatProgress(value=0.0, bar_style='info', description='Progress:', layout=Layout(height='25px', width='50%'),…"
      ]
     },
     "metadata": {},
     "output_type": "display_data"
    },
    {
     "name": "stdout",
     "output_type": "stream",
     "text": [
      "True"
     ]
    }
   ],
   "source": [
    "source_df.coalesce(1).write.csv(path='s3://sol-dev-output/TruCape-Invoices', mode='overwrite', header='true')\n",
    "\n",
    "myPath = 's3://sol-dev-output/TruCape-Invoices/*'\n",
    "\n",
    "hadoopPath = SparkContext._jvm.org.apache.hadoop.fs.Path(myPath)\n",
    "\n",
    "hadoopFs = hadoopPath.getFileSystem(SparkContext._jvm.org.apache.hadoop.conf.Configuration())\n",
    "\n",
    "statuses = hadoopFs.globStatus(hadoopPath)\n",
    "\n",
    "file_name = [file.getPath().getName() for file in statuses if file.getPath().getName().startswith('part-')][0]\n",
    "\n",
    "hadoopFs.rename(SparkContext._jvm.org.apache.hadoop.fs.Path(f\"s3://sol-dev-output/TruCape-Invoices/{file_name}\"), SparkContext._jvm.org.apache.hadoop.fs.Path(\"s3://sol-dev-output/TruCape-Invoices/TRU_Invoices.csv\"))\n",
    "\n"
   ]
  },
  {
   "cell_type": "code",
   "execution_count": null,
   "id": "2edfba40",
   "metadata": {},
   "outputs": [],
   "source": [
    "# source_df.coalesce(1).write.format(\"json\").mode(\"overwrite\").options(header=\"true\",sep=\",\").save(path='s3://sol-dev-output/TruCape-Invoices')"
   ]
  },
  {
   "cell_type": "code",
   "execution_count": null,
   "id": "4690c173",
   "metadata": {},
   "outputs": [],
   "source": [
    "# source_df.repartition(1).write.mode('append').json('s3://sol-dev-output/TruCape-Invoices')\n",
    "\n",
    "# myPath = 's3://sol-dev-output/TruCape-Invoices/*'\n",
    "\n",
    "# timeStamp = current_timestamp()\n",
    "\n",
    "# hadoopPath = SparkContext._jvm.org.apache.hadoop.fs.Path(myPath)\n",
    "\n",
    "# hadoopFs = hadoopPath.getFileSystem(SparkContext._jvm.org.apache.hadoop.conf.Configuration())\n",
    "\n",
    "# statuses = hadoopFs.globStatus(hadoopPath)\n",
    "\n",
    "# file_name = [file.getPath().getName() for file in statuses if file.getPath().getName().startswith('part-')][0]\n",
    "\n",
    "# hadoopFs.rename(SparkContext._jvm.org.apache.hadoop.fs.Path(f\"s3://sol-dev-output/TruCape-Invoices/{file_name}\"), SparkContext._jvm.org.apache.hadoop.fs.Path(\"s3://sol-dev-output/TruCape-Invoices/TRU_Invoices.json\"))\n",
    "\n",
    "\n"
   ]
  },
  {
   "cell_type": "code",
   "execution_count": null,
   "id": "c231a687",
   "metadata": {},
   "outputs": [],
   "source": []
  }
 ],
 "metadata": {
  "kernelspec": {
   "display_name": "Sparkmagic (PySpark)",
   "language": "python",
   "name": "pysparkkernel"
  },
  "language_info": {
   "codemirror_mode": {
    "name": "python",
    "version": 3
   },
   "file_extension": ".py",
   "mimetype": "text/x-python",
   "name": "pyspark",
   "pygments_lexer": "python3"
  }
 },
 "nbformat": 4,
 "nbformat_minor": 5
}
