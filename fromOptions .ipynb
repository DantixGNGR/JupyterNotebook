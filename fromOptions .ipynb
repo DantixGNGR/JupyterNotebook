{
 "cells": [
  {
   "cell_type": "code",
   "execution_count": 7,
   "id": "cafe3d61",
   "metadata": {},
   "outputs": [
    {
     "data": {
      "application/vnd.jupyter.widget-view+json": {
       "model_id": "",
       "version_major": 2,
       "version_minor": 0
      },
      "text/plain": [
       "FloatProgress(value=0.0, bar_style='info', description='Progress:', layout=Layout(height='25px', width='50%'),…"
      ]
     },
     "metadata": {},
     "output_type": "display_data"
    }
   ],
   "source": [
    "import sys\n",
    "from pyspark.sql import functions as F\n",
    "from pyspark.sql.functions import * \n",
    "from awsglue.job import Job\n",
    "from awsglue.transforms import *\n",
    "from awsglue.utils import getResolvedOptions\n",
    "from pyspark.context import SparkContext\n",
    "from awsglue.context import GlueContext\n",
    "\n",
    "sc = SparkContext.getOrCreate()\n",
    "gc = GlueContext(sc)\n",
    "\n"
   ]
  },
  {
   "cell_type": "code",
   "execution_count": 19,
   "id": "a0935d6a",
   "metadata": {},
   "outputs": [
    {
     "data": {
      "application/vnd.jupyter.widget-view+json": {
       "model_id": "",
       "version_major": 2,
       "version_minor": 0
      },
      "text/plain": [
       "FloatProgress(value=0.0, bar_style='info', description='Progress:', layout=Layout(height='25px', width='50%'),…"
      ]
     },
     "metadata": {},
     "output_type": "display_data"
    }
   ],
   "source": [
    "# #CREATE DATAFRAME WITH NULL VALUES\n",
    "# source_df = gc.create_data_frame_from_catalog( \n",
    "#     database = \"invoices-db\", \n",
    "#     table_name = \"trucape_invoices\", \n",
    "# )\n",
    "\n",
    "source_dyf = gc.create_dynamic_frame.from_options(\n",
    "    's3',\n",
    "    {\n",
    "        \"paths\": [\n",
    "            's3://sol-dev-source/TruCape-Invoices'\n",
    "        ],\n",
    "        \"recurse\" : True\n",
    "    },\n",
    "    \"csv\",\n",
    "    transformation_ctx = \"source_dyf\",\n",
    "    headerText = True)\n",
    "\n"
   ]
  },
  {
   "cell_type": "code",
   "execution_count": 13,
   "id": "d1641c31",
   "metadata": {},
   "outputs": [
    {
     "data": {
      "application/vnd.jupyter.widget-view+json": {
       "model_id": "",
       "version_major": 2,
       "version_minor": 0
      },
      "text/plain": [
       "FloatProgress(value=0.0, bar_style='info', description='Progress:', layout=Layout(height='25px', width='50%'),…"
      ]
     },
     "metadata": {},
     "output_type": "display_data"
    },
    {
     "name": "stdout",
     "output_type": "stream",
     "text": [
      "null_fields []"
     ]
    }
   ],
   "source": [
    "# source_df = DropNullFields.apply(frame = source_dyf)"
   ]
  },
  {
   "cell_type": "code",
   "execution_count": 20,
   "id": "84093ea0",
   "metadata": {},
   "outputs": [
    {
     "data": {
      "application/vnd.jupyter.widget-view+json": {
       "model_id": "",
       "version_major": 2,
       "version_minor": 0
      },
      "text/plain": [
       "FloatProgress(value=0.0, bar_style='info', description='Progress:', layout=Layout(height='25px', width='50%'),…"
      ]
     },
     "metadata": {},
     "output_type": "display_data"
    }
   ],
   "source": [
    "source_df = source_dyf.toDF()"
   ]
  },
  {
   "cell_type": "code",
   "execution_count": 21,
   "id": "6a1d1f6a",
   "metadata": {},
   "outputs": [
    {
     "data": {
      "application/vnd.jupyter.widget-view+json": {
       "model_id": "",
       "version_major": 2,
       "version_minor": 0
      },
      "text/plain": [
       "FloatProgress(value=0.0, bar_style='info', description='Progress:', layout=Layout(height='25px', width='50%'),…"
      ]
     },
     "metadata": {},
     "output_type": "display_data"
    },
    {
     "name": "stdout",
     "output_type": "stream",
     "text": [
      "+------------------+------+-------------------+------------+--------+-------------+------------+--------+----------+\n",
      "|              col0|  col1|               col2|        col3|    col4|         col5|        col6|    col7|      col8|\n",
      "+------------------+------+-------------------+------------+--------+-------------+------------+--------+----------+\n",
      "|External Reference|Number|       Counterparty| Amount Due |Currency|Cost Currency|Costing Rate|Due Date|Issue Date|\n",
      "|           SC25648|138099|         JSC TANDER|  21,124.80 |     USD|          ZAR|     15.5654|   7-Apr|    21-Jan|\n",
      "|           SC25646|138127|HORIZON FRESH FRUIT|  17,100.00 |     USD|          ZAR|     15.5142|  17-Mar|    21-Jan|\n",
      "|           SC25645|138129|HORIZON FRESH FRUIT|  17,100.00 |     USD|          ZAR|     15.5142|  17-Mar|    21-Jan|\n",
      "+------------------+------+-------------------+------------+--------+-------------+------------+--------+----------+"
     ]
    }
   ],
   "source": [
    "source_df.show()"
   ]
  },
  {
   "cell_type": "code",
   "execution_count": null,
   "id": "f3a623a8",
   "metadata": {},
   "outputs": [],
   "source": [
    "# (b) Create array with desired columns\n",
    "old_columns = source_df.schema.names\n",
    "new_columns = [\n",
    "    field.lower().replace(\" \", \"_\").replace(\".\", \"_\") for field in old_columns\n",
    "]\n",
    "\n",
    "# (c) Overwrite and persist `new_columns`\n",
    "df = reduce(\n",
    "    lambda df, idx: df.withColumnRenamed(old_columns[idx], new_columns[idx]),\n",
    "    range(len(old_columns)),\n",
    "    df,\n",
    ")\n",
    "\n",
    "# (d) Convert back to DynamicFrame\n",
    "datasource = datasource.fromDF(df, glue_context, \"datasource\")\n",
    "\n",
    "# Write DynamicFrame as Parquet\n",
    "datasink = glue_context.write_dynamic_frame_from_options(\n",
    "    frame=datasource,\n",
    "    connection_type=\"s3\",\n",
    "    connection_options={\"path\": \"s3://path/to/target/prefix/\"},\n",
    "    format=\"parquet\",\n",
    ")"
   ]
  },
  {
   "cell_type": "code",
   "execution_count": 23,
   "id": "01f5a716",
   "metadata": {},
   "outputs": [
    {
     "data": {
      "application/vnd.jupyter.widget-view+json": {
       "model_id": "",
       "version_major": 2,
       "version_minor": 0
      },
      "text/plain": [
       "FloatProgress(value=0.0, bar_style='info', description='Progress:', layout=Layout(height='25px', width='50%'),…"
      ]
     },
     "metadata": {},
     "output_type": "display_data"
    }
   ],
   "source": [
    "\n",
    "# SET DECIMAL PLACES\n",
    "costing_rate=\"Costing Rate\"\n",
    "format_costing_rate = format_number(round(costing_rate ,4), 4)\n",
    "amount_due=\"amount due\"\n",
    "format_amount_due=format_number(round(amount_due ,2), 2)\n",
    "\n",
    "source_df = source_df.withColumn(costing_rate, format_costing_rate) \\\n",
    "# amount due gives null value - not sure why\n",
    "\n"
   ]
  },
  {
   "cell_type": "code",
   "execution_count": 24,
   "id": "e099449b",
   "metadata": {},
   "outputs": [
    {
     "data": {
      "application/vnd.jupyter.widget-view+json": {
       "model_id": "",
       "version_major": 2,
       "version_minor": 0
      },
      "text/plain": [
       "FloatProgress(value=0.0, bar_style='info', description='Progress:', layout=Layout(height='25px', width='50%'),…"
      ]
     },
     "metadata": {},
     "output_type": "display_data"
    },
    {
     "name": "stdout",
     "output_type": "stream",
     "text": [
      "+------------------+------+-------------------+------------+--------+-------------+-------+--------+----------+\n",
      "|              col0|  col1|               col2|        col3|    col4|         col5|   col6|    col7|      col8|\n",
      "+------------------+------+-------------------+------------+--------+-------------+-------+--------+----------+\n",
      "|External Reference|Number|       Counterparty| Amount Due |Currency|Cost Currency|   null|Due Date|Issue Date|\n",
      "|           SC25648|138099|         JSC TANDER|  21,124.80 |     USD|          ZAR|15.5654|   7-Apr|    21-Jan|\n",
      "|           SC25646|138127|HORIZON FRESH FRUIT|  17,100.00 |     USD|          ZAR|15.5142|  17-Mar|    21-Jan|\n",
      "|           SC25645|138129|HORIZON FRESH FRUIT|  17,100.00 |     USD|          ZAR|15.5142|  17-Mar|    21-Jan|\n",
      "+------------------+------+-------------------+------------+--------+-------------+-------+--------+----------+"
     ]
    }
   ],
   "source": [
    "source_df.show()"
   ]
  },
  {
   "cell_type": "code",
   "execution_count": null,
   "id": "d453efae",
   "metadata": {},
   "outputs": [],
   "source": [
    "# ADD YEAR TO DATE COLUMNS\n",
    "due_date=\"due date\"\n",
    "issue_date=\"issue date\"\n",
    "year = F.lit(\"-2022\")\n",
    "due_date_add_year = F.concat(col(due_date),year)\n",
    "issue_date_add_year = F.concat(col(issue_date),year)\n",
    "                               \n",
    "source_df = source_df.withColumn(due_date, due_date_add_year) \\\n",
    "    .withColumn(issue_date, issue_date_add_year)\n",
    "    \n"
   ]
  },
  {
   "cell_type": "code",
   "execution_count": null,
   "id": "18aa31a2",
   "metadata": {},
   "outputs": [],
   "source": [
    "# FORMAT DATES\n",
    "source_df = source_df.select(\n",
    "    col(\"external reference\"), \\\n",
    "    col(\"number\"), \\\n",
    "    col(\"counterparty\"), \\\n",
    "    col(\"amount due\"), \\\n",
    "    col(\"currency\"), \\\n",
    "    col(\"cost currency\"), \\\n",
    "    col(\"costing rate\"), \\\n",
    "    to_date(F.col(\"due date\"), \"d-MMM-yyy\").alias(\"due date\"), \\\n",
    "    to_date(F.col(\"issue date\"), \"d-MMM-yyy\").alias(\"issue date\")) \\\n",
    "    \n",
    "source_df.write.csv(path='s3://sol-dev-output/TruCape-Invoices', mode='overwrite')"
   ]
  }
 ],
 "metadata": {
  "kernelspec": {
   "display_name": "Sparkmagic (PySpark)",
   "language": "python",
   "name": "pysparkkernel"
  },
  "language_info": {
   "codemirror_mode": {
    "name": "python",
    "version": 3
   },
   "file_extension": ".py",
   "mimetype": "text/x-python",
   "name": "pyspark",
   "pygments_lexer": "python3"
  }
 },
 "nbformat": 4,
 "nbformat_minor": 5
}
