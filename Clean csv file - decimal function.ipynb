{
 "cells": [
  {
   "cell_type": "code",
   "execution_count": 14,
   "id": "5bbcd840",
   "metadata": {},
   "outputs": [
    {
     "data": {
      "application/vnd.jupyter.widget-view+json": {
       "model_id": "",
       "version_major": 2,
       "version_minor": 0
      },
      "text/plain": [
       "FloatProgress(value=0.0, bar_style='info', description='Progress:', layout=Layout(height='25px', width='50%'),…"
      ]
     },
     "metadata": {},
     "output_type": "display_data"
    }
   ],
   "source": [
    "from pyspark.sql import functions as F\n",
    "from pyspark.sql.types import IntegerType,BooleanType,DateType,FloatType,StringType,DoubleType,DecimalType\n",
    "from pyspark.sql.functions import * \n",
    "\n",
    "from awsglue.transforms import *\n",
    "from awsglue.utils import getResolvedOptions\n",
    "from pyspark.context import SparkContext\n",
    "from awsglue.context import GlueContext\n",
    "\n",
    "sc = SparkContext.getOrCreate()\n",
    "gc = GlueContext(sc)"
   ]
  },
  {
   "cell_type": "code",
   "execution_count": 15,
   "id": "43d45741",
   "metadata": {},
   "outputs": [
    {
     "data": {
      "application/vnd.jupyter.widget-view+json": {
       "model_id": "",
       "version_major": 2,
       "version_minor": 0
      },
      "text/plain": [
       "FloatProgress(value=0.0, bar_style='info', description='Progress:', layout=Layout(height='25px', width='50%'),…"
      ]
     },
     "metadata": {},
     "output_type": "display_data"
    }
   ],
   "source": [
    "# Create dynamic frame\n",
    "source_df = gc.create_data_frame_from_catalog( \n",
    "    database = \"trucapedb\", \n",
    "    table_name = \"trucape_invoices\", \n",
    ")\n",
    "\n",
    "# source_dyf = gc.create_data_frame.from_options(\n",
    "#     connection_type='s3',\n",
    "#     connection_options={'paths': [\"s3://sol-dev-source/Trucape-Invoices\"]},\n",
    "#     format='csv,'\n",
    "# )"
   ]
  },
  {
   "cell_type": "code",
   "execution_count": 16,
   "id": "cdb009dc",
   "metadata": {},
   "outputs": [
    {
     "data": {
      "application/vnd.jupyter.widget-view+json": {
       "model_id": "",
       "version_major": 2,
       "version_minor": 0
      },
      "text/plain": [
       "FloatProgress(value=0.0, bar_style='info', description='Progress:', layout=Layout(height='25px', width='50%'),…"
      ]
     },
     "metadata": {},
     "output_type": "display_data"
    },
    {
     "name": "stdout",
     "output_type": "stream",
     "text": [
      "+------------------+------+--------------------+------------+--------+-------------+------------+--------+----------+\n",
      "|external reference|number|        counterparty|  amount due|currency|cost currency|costing rate|due date|issue date|\n",
      "+------------------+------+--------------------+------------+--------+-------------+------------+--------+----------+\n",
      "|          SC25505A|137113|   Fruit Traders LLC|  10,800.00 |     USD|          ZAR|      15.862|  24-Jan|     3-Jan|\n",
      "|          SC25506A|137114|   Fruit Traders LLC|  10,800.00 |     USD|          ZAR|      15.862|  24-Jan|     3-Jan|\n",
      "|          SC25503A|137116|   Fruit Traders LLC|  10,800.00 |     USD|          ZAR|      15.862|  24-Jan|     3-Jan|\n",
      "|          SC25504A|137117|   Fruit Traders LLC|  10,800.00 |     USD|          ZAR|      15.862|  24-Jan|     3-Jan|\n",
      "|          SC25499A|137078|   Fruit Traders LLC|  10,134.00 |     USD|          ZAR|      15.862|  24-Jan|     3-Jan|\n",
      "|          SC25500A|137079|   Fruit Traders LLC|   9,450.00 |     USD|          ZAR|      15.862|  24-Jan|     3-Jan|\n",
      "|          SC25501A|137131|   Fruit Traders LLC|   9,450.00 |     USD|          ZAR|      15.862|  24-Jan|     3-Jan|\n",
      "|          SC25505F|137113|   Fruit Traders LLC|  10,800.00 |     USD|          ZAR|     15.8773|   2-Feb|     3-Jan|\n",
      "|          SC25506F|137114|   Fruit Traders LLC|  10,800.00 |     USD|          ZAR|     15.8773|   2-Feb|     3-Jan|\n",
      "|          SC25503F|137116|   Fruit Traders LLC|  10,800.00 |     USD|          ZAR|     15.8773|   2-Feb|     3-Jan|\n",
      "|          SC25504F|137117|   Fruit Traders LLC|  10,800.00 |     USD|          ZAR|     15.8773|   2-Feb|     3-Jan|\n",
      "|          SC25499F|137078|   Fruit Traders LLC|  10,134.00 |     USD|          ZAR|     15.8773|   2-Feb|     3-Jan|\n",
      "|          SC25500F|137079|   Fruit Traders LLC|   9,450.00 |     USD|          ZAR|     15.8773|   2-Feb|     3-Jan|\n",
      "|          SC25501F|137131|   Fruit Traders LLC|   9,450.00 |     USD|          ZAR|     15.8773|   2-Feb|     3-Jan|\n",
      "|           SC25548|137077|MA Sharbatly Corp...|  16,464.00 |     USD|          ZAR|     15.9551|   4-Mar|     3-Jan|\n",
      "|           SC25499|136805|          JSC TANDER|  17,147.70 |     USD|          ZAR|     15.9551|   4-Mar|     3-Jan|\n",
      "|           SC25500|136807|          JSC TANDER|  17,160.84 |     USD|          ZAR|     15.9551|   4-Mar|     3-Jan|\n",
      "|           SC25501|137070|          JSC TANDER|  17,187.12 |     USD|          ZAR|     15.9551|   4-Mar|     3-Jan|\n",
      "|           SC25533|137343|     D Fresh SDB BHD|  23,573.20 |     USD|          ZAR|     15.9551|   9-Mar|     3-Jan|\n",
      "|           SC25534|137344|     D Fresh SDB BHD|  24,754.80 |     USD|          ZAR|     15.9551|   9-Mar|     3-Jan|\n",
      "+------------------+------+--------------------+------------+--------+-------------+------------+--------+----------+\n",
      "only showing top 20 rows"
     ]
    }
   ],
   "source": [
    "source_df.show()"
   ]
  },
  {
   "cell_type": "code",
   "execution_count": null,
   "id": "9573e08b",
   "metadata": {},
   "outputs": [],
   "source": [
    "source_df.printSchema()"
   ]
  },
  {
   "cell_type": "code",
   "execution_count": null,
   "id": "ee5e0cf4",
   "metadata": {},
   "outputs": [],
   "source": [
    "# # Set decimal places\n",
    "# source_df_decimals = source_df.select( \n",
    "#                 F.round(source_df[\"amount due\"],2),\n",
    "#                 F.round(source_df[\"costing rate\"],4)\n",
    "# ).show()\n",
    "\n",
    "# source_df_decimals = source_df.select(\n",
    "#     round('amount due', 2).alias('r')).show()"
   ]
  },
  {
   "cell_type": "code",
   "execution_count": 17,
   "id": "fa4a676f",
   "metadata": {},
   "outputs": [
    {
     "data": {
      "application/vnd.jupyter.widget-view+json": {
       "model_id": "",
       "version_major": 2,
       "version_minor": 0
      },
      "text/plain": [
       "FloatProgress(value=0.0, bar_style='info', description='Progress:', layout=Layout(height='25px', width='50%'),…"
      ]
     },
     "metadata": {},
     "output_type": "display_data"
    },
    {
     "name": "stdout",
     "output_type": "stream",
     "text": [
      "+------------------+------+--------------------+------------+--------+-------------+------------+--------+----------+\n",
      "|external reference|number|        counterparty|  amount due|currency|cost currency|costing rate|due date|issue date|\n",
      "+------------------+------+--------------------+------------+--------+-------------+------------+--------+----------+\n",
      "|          SC25505A|137113|   Fruit Traders LLC|  10,800.00 |     USD|          ZAR|      15.862|  24-Jan|     3-Jan|\n",
      "|          SC25506A|137114|   Fruit Traders LLC|  10,800.00 |     USD|          ZAR|      15.862|  24-Jan|     3-Jan|\n",
      "|          SC25503A|137116|   Fruit Traders LLC|  10,800.00 |     USD|          ZAR|      15.862|  24-Jan|     3-Jan|\n",
      "|          SC25504A|137117|   Fruit Traders LLC|  10,800.00 |     USD|          ZAR|      15.862|  24-Jan|     3-Jan|\n",
      "|          SC25499A|137078|   Fruit Traders LLC|  10,134.00 |     USD|          ZAR|      15.862|  24-Jan|     3-Jan|\n",
      "|          SC25500A|137079|   Fruit Traders LLC|   9,450.00 |     USD|          ZAR|      15.862|  24-Jan|     3-Jan|\n",
      "|          SC25501A|137131|   Fruit Traders LLC|   9,450.00 |     USD|          ZAR|      15.862|  24-Jan|     3-Jan|\n",
      "|          SC25505F|137113|   Fruit Traders LLC|  10,800.00 |     USD|          ZAR|     15.8773|   2-Feb|     3-Jan|\n",
      "|          SC25506F|137114|   Fruit Traders LLC|  10,800.00 |     USD|          ZAR|     15.8773|   2-Feb|     3-Jan|\n",
      "|          SC25503F|137116|   Fruit Traders LLC|  10,800.00 |     USD|          ZAR|     15.8773|   2-Feb|     3-Jan|\n",
      "|          SC25504F|137117|   Fruit Traders LLC|  10,800.00 |     USD|          ZAR|     15.8773|   2-Feb|     3-Jan|\n",
      "|          SC25499F|137078|   Fruit Traders LLC|  10,134.00 |     USD|          ZAR|     15.8773|   2-Feb|     3-Jan|\n",
      "|          SC25500F|137079|   Fruit Traders LLC|   9,450.00 |     USD|          ZAR|     15.8773|   2-Feb|     3-Jan|\n",
      "|          SC25501F|137131|   Fruit Traders LLC|   9,450.00 |     USD|          ZAR|     15.8773|   2-Feb|     3-Jan|\n",
      "|           SC25548|137077|MA Sharbatly Corp...|  16,464.00 |     USD|          ZAR|     15.9551|   4-Mar|     3-Jan|\n",
      "|           SC25499|136805|          JSC TANDER|  17,147.70 |     USD|          ZAR|     15.9551|   4-Mar|     3-Jan|\n",
      "|           SC25500|136807|          JSC TANDER|  17,160.84 |     USD|          ZAR|     15.9551|   4-Mar|     3-Jan|\n",
      "|           SC25501|137070|          JSC TANDER|  17,187.12 |     USD|          ZAR|     15.9551|   4-Mar|     3-Jan|\n",
      "|           SC25533|137343|     D Fresh SDB BHD|  23,573.20 |     USD|          ZAR|     15.9551|   9-Mar|     3-Jan|\n",
      "|           SC25534|137344|     D Fresh SDB BHD|  24,754.80 |     USD|          ZAR|     15.9551|   9-Mar|     3-Jan|\n",
      "+------------------+------+--------------------+------------+--------+-------------+------------+--------+----------+\n",
      "only showing top 20 rows"
     ]
    }
   ],
   "source": [
    "# Set column types\n",
    "source_df = source_df.withColumn(\"costing rate\",col(\"costing rate\").cast(StringType())) \\\n",
    ".show()"
   ]
  },
  {
   "cell_type": "code",
   "execution_count": 19,
   "id": "7629cc2e",
   "metadata": {},
   "outputs": [
    {
     "data": {
      "application/vnd.jupyter.widget-view+json": {
       "model_id": "",
       "version_major": 2,
       "version_minor": 0
      },
      "text/plain": [
       "FloatProgress(value=0.0, bar_style='info', description='Progress:', layout=Layout(height='25px', width='50%'),…"
      ]
     },
     "metadata": {},
     "output_type": "display_data"
    },
    {
     "name": "stderr",
     "output_type": "stream",
     "text": [
      "An error was encountered:\n",
      "'NoneType' object has no attribute 'withColumn'\n",
      "Traceback (most recent call last):\n",
      "AttributeError: 'NoneType' object has no attribute 'withColumn'\n",
      "\n"
     ]
    }
   ],
   "source": [
    "source_df = source_df.withColumn('costing rate', round(col('costing rate'),4)) \\\n",
    "                .withColumn('amount due', round(col('amount due'),2)) \\\n",
    "    .show()"
   ]
  },
  {
   "cell_type": "code",
   "execution_count": null,
   "id": "616e6ca7",
   "metadata": {},
   "outputs": [],
   "source": []
  }
 ],
 "metadata": {
  "kernelspec": {
   "display_name": "Sparkmagic (PySpark)",
   "language": "python",
   "name": "pysparkkernel"
  },
  "language_info": {
   "codemirror_mode": {
    "name": "python",
    "version": 3
   },
   "file_extension": ".py",
   "mimetype": "text/x-python",
   "name": "pyspark",
   "pygments_lexer": "python3"
  }
 },
 "nbformat": 4,
 "nbformat_minor": 5
}
