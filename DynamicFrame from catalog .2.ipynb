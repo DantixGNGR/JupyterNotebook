{
 "cells": [
  {
   "cell_type": "code",
   "execution_count": 1,
   "id": "6fd3e010",
   "metadata": {},
   "outputs": [
    {
     "name": "stdout",
     "output_type": "stream",
     "text": [
      "Starting Spark application\n"
     ]
    },
    {
     "data": {
      "text/html": [
       "<table>\n",
       "<tr><th>ID</th><th>YARN Application ID</th><th>Kind</th><th>State</th><th>Spark UI</th><th>Driver log</th><th>User</th><th>Current session?</th></tr><tr><td>0</td><td>application_1642141202245_0001</td><td>pyspark</td><td>idle</td><td><a target=\"_blank\" href=\"http://ip-172-31-20-155.eu-central-1.compute.internal:20888/proxy/application_1642141202245_0001/\">Link</a></td><td><a target=\"_blank\" href=\"http://ip-172-31-21-151.eu-central-1.compute.internal:8042/node/containerlogs/container_1642141202245_0001_01_000001/livy\">Link</a></td><td>None</td><td>✔</td></tr></table>"
      ],
      "text/plain": [
       "<IPython.core.display.HTML object>"
      ]
     },
     "metadata": {},
     "output_type": "display_data"
    },
    {
     "data": {
      "application/vnd.jupyter.widget-view+json": {
       "model_id": "",
       "version_major": 2,
       "version_minor": 0
      },
      "text/plain": [
       "FloatProgress(value=0.0, bar_style='info', description='Progress:', layout=Layout(height='25px', width='50%'),…"
      ]
     },
     "metadata": {},
     "output_type": "display_data"
    },
    {
     "name": "stdout",
     "output_type": "stream",
     "text": [
      "SparkSession available as 'spark'.\n"
     ]
    },
    {
     "data": {
      "application/vnd.jupyter.widget-view+json": {
       "model_id": "",
       "version_major": 2,
       "version_minor": 0
      },
      "text/plain": [
       "FloatProgress(value=0.0, bar_style='info', description='Progress:', layout=Layout(height='25px', width='50%'),…"
      ]
     },
     "metadata": {},
     "output_type": "display_data"
    }
   ],
   "source": [
    "from awsglue.transforms import *\n",
    "from awsglue.utils import getResolvedOptions\n",
    "from pyspark.context import SparkContext\n",
    "from awsglue.context import GlueContext\n",
    "\n",
    "sc = SparkContext.getOrCreate()\n",
    "gc = GlueContext(sc)"
   ]
  },
  {
   "cell_type": "code",
   "execution_count": 10,
   "id": "df70cd02",
   "metadata": {},
   "outputs": [
    {
     "data": {
      "application/vnd.jupyter.widget-view+json": {
       "model_id": "",
       "version_major": 2,
       "version_minor": 0
      },
      "text/plain": [
       "FloatProgress(value=0.0, bar_style='info', description='Progress:', layout=Layout(height='25px', width='50%'),…"
      ]
     },
     "metadata": {},
     "output_type": "display_data"
    }
   ],
   "source": [
    "# # Create dynamic frame\n",
    "# source_dyf = gc.create_dynamic_frame_from_catalog( \n",
    "#     database = \"invoicedb\", \n",
    "#     table_name = \"trucape_invoices\", \n",
    "#   )\n",
    "\n",
    "# source_dyf = gc.create_dynamic_frame_from_options(\n",
    "#     connection_type='s3',\n",
    "#     connection_options={'paths': [\"s3://sol-dev-source/Trucape-Invoices\"]},\n",
    "#     format='csv,'\n",
    "# )\n",
    "\n",
    "source_dyf = gc.create_dynamic_frame_from_catalog(\n",
    "database='invoices_nulldb',\n",
    "    table_name = 'invoices_null_values'\n",
    ")"
   ]
  },
  {
   "cell_type": "code",
   "execution_count": 11,
   "id": "2f0bcaa2",
   "metadata": {},
   "outputs": [
    {
     "data": {
      "application/vnd.jupyter.widget-view+json": {
       "model_id": "",
       "version_major": 2,
       "version_minor": 0
      },
      "text/plain": [
       "FloatProgress(value=0.0, bar_style='info', description='Progress:', layout=Layout(height='25px', width='50%'),…"
      ]
     },
     "metadata": {},
     "output_type": "display_data"
    },
    {
     "name": "stdout",
     "output_type": "stream",
     "text": [
      "118"
     ]
    }
   ],
   "source": [
    "source_dyf.count()"
   ]
  },
  {
   "cell_type": "code",
   "execution_count": 17,
   "id": "c699a810",
   "metadata": {},
   "outputs": [
    {
     "data": {
      "application/vnd.jupyter.widget-view+json": {
       "model_id": "",
       "version_major": 2,
       "version_minor": 0
      },
      "text/plain": [
       "FloatProgress(value=0.0, bar_style='info', description='Progress:', layout=Layout(height='25px', width='50%'),…"
      ]
     },
     "metadata": {},
     "output_type": "display_data"
    },
    {
     "name": "stderr",
     "output_type": "stream",
     "text": [
      "An error was encountered:\n",
      "\"cannot resolve '`External`' given input columns: [spark_source_df.col0, spark_source_df.col11, spark_source_df.col9, spark_source_df.col12, spark_source_df.col8, spark_source_df.col1, spark_source_df.col4, spark_source_df.col2, spark_source_df.col5, spark_source_df.col3, spark_source_df.col10, spark_source_df.col6, spark_source_df.col7]; line 2 pos 7;\\n'Project ['External AS Reference#193]\\n+- SubqueryAlias `spark_source_df`\\n   +- LogicalRDD [col0#167, col1#168, col2#169, col3#170, col4#171, col5#172, col6#173, col7#174, col8#175, col9#176, col10#177, col11#178, col12#179], false\\n\"\n",
      "Traceback (most recent call last):\n",
      "  File \"/mnt/yarn/usercache/livy/appcache/application_1642141202245_0001/container_1642141202245_0001_01_000001/pyspark.zip/pyspark/sql/context.py\", line 358, in sql\n",
      "    return self.sparkSession.sql(sqlQuery)\n",
      "  File \"/mnt/yarn/usercache/livy/appcache/application_1642141202245_0001/container_1642141202245_0001_01_000001/pyspark.zip/pyspark/sql/session.py\", line 767, in sql\n",
      "    return DataFrame(self._jsparkSession.sql(sqlQuery), self._wrapped)\n",
      "  File \"/mnt/yarn/usercache/livy/appcache/application_1642141202245_0001/container_1642141202245_0001_01_000001/py4j-0.10.7-src.zip/py4j/java_gateway.py\", line 1257, in __call__\n",
      "    answer, self.gateway_client, self.target_id, self.name)\n",
      "  File \"/mnt/yarn/usercache/livy/appcache/application_1642141202245_0001/container_1642141202245_0001_01_000001/pyspark.zip/pyspark/sql/utils.py\", line 69, in deco\n",
      "    raise AnalysisException(s.split(': ', 1)[1], stackTrace)\n",
      "pyspark.sql.utils.AnalysisException: \"cannot resolve '`External`' given input columns: [spark_source_df.col0, spark_source_df.col11, spark_source_df.col9, spark_source_df.col12, spark_source_df.col8, spark_source_df.col1, spark_source_df.col4, spark_source_df.col2, spark_source_df.col5, spark_source_df.col3, spark_source_df.col10, spark_source_df.col6, spark_source_df.col7]; line 2 pos 7;\\n'Project ['External AS Reference#193]\\n+- SubqueryAlias `spark_source_df`\\n   +- LogicalRDD [col0#167, col1#168, col2#169, col3#170, col4#171, col5#172, col6#173, col7#174, col8#175, col9#176, col10#177, col11#178, col12#179], false\\n\"\n",
      "\n"
     ]
    }
   ],
   "source": [
    "spark_dataframe = source_dyf.toDF()\n",
    "spark_dataframe.createOrReplaceTempView(\"spark_source_df\")\n",
    "\n",
    "gc.sql(\"\"\"\n",
    "SELECT External Reference\n",
    "FROM spark_source_df\n",
    "\"\"\").show(118)"
   ]
  },
  {
   "cell_type": "code",
   "execution_count": 14,
   "id": "307070e4",
   "metadata": {},
   "outputs": [
    {
     "data": {
      "application/vnd.jupyter.widget-view+json": {
       "model_id": "",
       "version_major": 2,
       "version_minor": 0
      },
      "text/plain": [
       "FloatProgress(value=0.0, bar_style='info', description='Progress:', layout=Layout(height='25px', width='50%'),…"
      ]
     },
     "metadata": {},
     "output_type": "display_data"
    }
   ],
   "source": [
    "source_dyf.show(118)"
   ]
  },
  {
   "cell_type": "code",
   "execution_count": 18,
   "id": "49d611c8",
   "metadata": {},
   "outputs": [
    {
     "data": {
      "application/vnd.jupyter.widget-view+json": {
       "model_id": "",
       "version_major": 2,
       "version_minor": 0
      },
      "text/plain": [
       "FloatProgress(value=0.0, bar_style='info', description='Progress:', layout=Layout(height='25px', width='50%'),…"
      ]
     },
     "metadata": {},
     "output_type": "display_data"
    },
    {
     "name": "stdout",
     "output_type": "stream",
     "text": [
      "+------------------+------+--------------------+------------+--------+-------------+------------+--------+----------+----+-----+-----+-----+\n",
      "|              col0|  col1|                col2|        col3|    col4|         col5|        col6|    col7|      col8|col9|col10|col11|col12|\n",
      "+------------------+------+--------------------+------------+--------+-------------+------------+--------+----------+----+-----+-----+-----+\n",
      "|External Reference|Number|        Counterparty|  Amount Due|Currency|Cost Currency|Costing Rate|Due Date|Issue Date|    |     |     |     |\n",
      "|          SC25505A|137113|   Fruit Traders LLC|  10,800.00 |     USD|          ZAR|     15.8620|  24-Jan|     3-Jan|    |     |     |     |\n",
      "|          SC25506A|137114|   Fruit Traders LLC|  10,800.00 |     USD|          ZAR|     15.8620|  24-Jan|     3-Jan|    |     |     |     |\n",
      "|          SC25503A|137116|   Fruit Traders LLC|  10,800.00 |     USD|          ZAR|     15.8620|  24-Jan|     3-Jan|    |     |     |     |\n",
      "|          SC25504A|137117|   Fruit Traders LLC|  10,800.00 |     USD|          ZAR|     15.8620|  24-Jan|     3-Jan|    |     |     |     |\n",
      "|          SC25499A|137078|   Fruit Traders LLC|  10,134.00 |     USD|          ZAR|     15.8620|  24-Jan|     3-Jan|    |     |     |     |\n",
      "|          SC25500A|137079|   Fruit Traders LLC|   9,450.00 |     USD|          ZAR|     15.8620|  24-Jan|     3-Jan|    |     |     |     |\n",
      "|          SC25501A|137131|   Fruit Traders LLC|   9,450.00 |     USD|          ZAR|     15.8620|  24-Jan|     3-Jan|    |     |     |     |\n",
      "|          SC25505F|137113|   Fruit Traders LLC|  10,800.00 |     USD|          ZAR|     15.8773|   2-Feb|     3-Jan|    |     |     |     |\n",
      "|          SC25506F|137114|   Fruit Traders LLC|  10,800.00 |     USD|          ZAR|     15.8773|   2-Feb|     3-Jan|    |     |     |     |\n",
      "|          SC25503F|137116|   Fruit Traders LLC|  10,800.00 |     USD|          ZAR|     15.8773|   2-Feb|     3-Jan|    |     |     |     |\n",
      "|          SC25504F|137117|   Fruit Traders LLC|  10,800.00 |     USD|          ZAR|     15.8773|   2-Feb|     3-Jan|    |     |     |     |\n",
      "|          SC25499F|137078|   Fruit Traders LLC|  10,134.00 |     USD|          ZAR|     15.8773|   2-Feb|     3-Jan|    |     |     |     |\n",
      "|          SC25500F|137079|   Fruit Traders LLC|   9,450.00 |     USD|          ZAR|     15.8773|   2-Feb|     3-Jan|    |     |     |     |\n",
      "|          SC25501F|137131|   Fruit Traders LLC|   9,450.00 |     USD|          ZAR|     15.8773|   2-Feb|     3-Jan|    |     |     |     |\n",
      "|           SC25548|137077|MA Sharbatly Corp...|  16,464.00 |     USD|          ZAR|     15.9551|   4-Mar|     3-Jan|    |     |     |     |\n",
      "|           SC25499|136805|          JSC TANDER|  17,147.70 |     USD|          ZAR|     15.9551|   4-Mar|     3-Jan|    |     |     |     |\n",
      "|           SC25500|136807|          JSC TANDER|  17,160.84 |     USD|          ZAR|     15.9551|   4-Mar|     3-Jan|    |     |     |     |\n",
      "|           SC25501|137070|          JSC TANDER|  17,187.12 |     USD|          ZAR|     15.9551|   4-Mar|     3-Jan|    |     |     |     |\n",
      "|           SC25533|137343|     D Fresh SDB BHD|  23,573.20 |     USD|          ZAR|     15.9551|   9-Mar|     3-Jan|    |     |     |     |\n",
      "|           SC25534|137344|     D Fresh SDB BHD|  24,754.80 |     USD|          ZAR|     15.9551|   9-Mar|     3-Jan|    |     |     |     |\n",
      "|           SC25535|137346|     D Fresh SDB BHD|  25,146.80 |     USD|          ZAR|     15.9551|   9-Mar|     3-Jan|    |     |     |     |\n",
      "|           SC25536|137347|     D Fresh SDB BHD|  23,970.80 |     USD|          ZAR|     15.9551|   9-Mar|     3-Jan|    |     |     |     |\n",
      "|           SC25528|137348|     D Fresh SDB BHD|  18,089.68 |     USD|          ZAR|     15.9551|   9-Mar|     3-Jan|    |     |     |     |\n",
      "|           SC25529|137349|     D Fresh SDB BHD|  22,066.80 |     USD|          ZAR|     15.9551|   9-Mar|     3-Jan|    |     |     |     |\n",
      "|           SC25530|137352|     D Fresh SDB BHD|  22,324.80 |     USD|          ZAR|     15.9551|   9-Mar|     3-Jan|    |     |     |     |\n",
      "|           SC25531|137354|     D Fresh SDB BHD|  18,425.68 |     USD|          ZAR|     15.9551|   9-Mar|     3-Jan|    |     |     |     |\n",
      "|           SC25532|137355|     D Fresh SDB BHD|  18,446.70 |     USD|          ZAR|     15.9551|   9-Mar|     3-Jan|    |     |     |     |\n",
      "|           SC25522|137141|Vanguard Global L...|  16,231.00 |     USD|          ZAR|     16.0175|   3-Apr|     3-Jan|    |     |     |     |\n",
      "|           SC25524|137142|Vanguard Global L...|  15,727.00 |     USD|          ZAR|     16.0175|   3-Apr|     3-Jan|    |     |     |     |\n",
      "|           SC25518|137410|Prime Orchards Li...|  24,390.00 |     USD|          ZAR|     16.0786|  30-Apr|     3-Jan|    |     |     |     |\n",
      "|           SC25519|136191|Prime Orchards Li...|  23,606.00 |     USD|          ZAR|     16.0786|  30-Apr|     3-Jan|    |     |     |     |\n",
      "|           SC25520|136192|Prime Orchards Li...|  24,655.00 |     USD|          ZAR|     16.0786|  30-Apr|     3-Jan|    |     |     |     |\n",
      "|                  |      |                    |            |        |             |            |        |          |    |     |     |     |\n",
      "|                  |      |                    |            |        |             |            |        |          |    |     |     |     |\n",
      "|                  |      |                    |            |        |             |            |        |          |    |     |     |     |\n",
      "|                  |      |                    |            |        |             |            |        |          |    |     |     |     |\n",
      "|                  |      |                    |            |        |             |            |        |          |    |     |     |     |\n",
      "|                  |      |                    |            |        |             |            |        |          |    |     |     |     |\n",
      "|                  |      |                    |            |        |             |            |        |          |    |     |     |     |\n",
      "|                  |      |                    |            |        |             |            |        |          |    |     |     |     |\n",
      "|                  |      |                    |            |        |             |            |        |          |    |     |     |     |\n",
      "|                  |      |                    |            |        |             |            |        |          |    |     |     |     |\n",
      "|                  |      |                    |            |        |             |            |        |          |    |     |     |     |\n",
      "|                  |      |                    |            |        |             |            |        |          |    |     |     |     |\n",
      "|                  |      |                    |            |        |             |            |        |          |    |     |     |     |\n",
      "|                  |      |                    |            |        |             |            |        |          |    |     |     |     |\n",
      "|                  |      |                    |            |        |             |            |        |          |    |     |     |     |\n",
      "|                  |      |                    |            |        |             |            |        |          |    |     |     |     |\n",
      "|                  |      |                    |            |        |             |            |        |          |    |     |     |     |\n",
      "|                  |      |                    |            |        |             |            |        |          |    |     |     |     |\n",
      "|                  |      |                    |            |        |             |            |        |          |    |     |     |     |\n",
      "|                  |      |                    |            |        |             |            |        |          |    |     |     |     |\n",
      "|                  |      |                    |            |        |             |            |        |          |    |     |     |     |\n",
      "|                  |      |                    |            |        |             |            |        |          |    |     |     |     |\n",
      "|                  |      |                    |            |        |             |            |        |          |    |     |     |     |\n",
      "|                  |      |                    |            |        |             |            |        |          |    |     |     |     |\n",
      "|                  |      |                    |            |        |             |            |        |          |    |     |     |     |\n",
      "|                  |      |                    |            |        |             |            |        |          |    |     |     |     |\n",
      "|                  |      |                    |            |        |             |            |        |          |    |     |     |     |\n",
      "|                  |      |                    |            |        |             |            |        |          |    |     |     |     |\n",
      "|                  |      |                    |            |        |             |            |        |          |    |     |     |     |\n",
      "|                  |      |                    |            |        |             |            |        |          |    |     |     |     |\n",
      "|                  |      |                    |            |        |             |            |        |          |    |     |     |     |\n",
      "|                  |      |                    |            |        |             |            |        |          |    |     |     |     |\n",
      "|                  |      |                    |            |        |             |            |        |          |    |     |     |     |\n",
      "|                  |      |                    |            |        |             |            |        |          |    |     |     |     |\n",
      "|                  |      |                    |            |        |             |            |        |          |    |     |     |     |\n",
      "|                  |      |                    |            |        |             |            |        |          |    |     |     |     |\n",
      "|                  |      |                    |            |        |             |            |        |          |    |     |     |     |\n",
      "|                  |      |                    |            |        |             |            |        |          |    |     |     |     |\n",
      "|                  |      |                    |            |        |             |            |        |          |    |     |     |     |\n",
      "|                  |      |                    |            |        |             |            |        |          |    |     |     |     |\n",
      "|                  |      |                    |            |        |             |            |        |          |    |     |     |     |\n",
      "|                  |      |                    |            |        |             |            |        |          |    |     |     |     |\n",
      "|                  |      |                    |            |        |             |            |        |          |    |     |     |     |\n",
      "|                  |      |                    |            |        |             |            |        |          |    |     |     |     |\n",
      "|                  |      |                    |            |        |             |            |        |          |    |     |     |     |\n",
      "|                  |      |                    |            |        |             |            |        |          |    |     |     |     |\n",
      "|                  |      |                    |            |        |             |            |        |          |    |     |     |     |\n",
      "|                  |      |                    |            |        |             |            |        |          |    |     |     |     |\n",
      "|                  |      |                    |            |        |             |            |        |          |    |     |     |     |\n",
      "|                  |      |                    |            |        |             |            |        |          |    |     |     |     |\n",
      "|                  |      |                    |            |        |             |            |        |          |    |     |     |     |\n",
      "|                  |      |                    |            |        |             |            |        |          |    |     |     |     |\n",
      "|                  |      |                    |            |        |             |            |        |          |    |     |     |     |\n",
      "|                  |      |                    |            |        |             |            |        |          |    |     |     |     |\n",
      "|                  |      |                    |            |        |             |            |        |          |    |     |     |     |\n",
      "|                  |      |                    |            |        |             |            |        |          |    |     |     |     |\n",
      "|                  |      |                    |            |        |             |            |        |          |    |     |     |     |\n",
      "|                  |      |                    |            |        |             |            |        |          |    |     |     |     |\n",
      "|                  |      |                    |            |        |             |            |        |          |    |     |     |     |\n",
      "|                  |      |                    |            |        |             |            |        |          |    |     |     |     |\n",
      "|                  |      |                    |            |        |             |            |        |          |    |     |     |     |\n",
      "|                  |      |                    |            |        |             |            |        |          |    |     |     |     |\n",
      "|                  |      |                    |            |        |             |            |        |          |    |     |     |     |\n",
      "|                  |      |                    |            |        |             |            |        |          |    |     |     |     |\n",
      "|                  |      |                    |            |        |             |            |        |          |    |     |     |     |\n",
      "|                  |      |                    |            |        |             |            |        |          |    |     |     |     |\n",
      "|                  |      |                    |            |        |             |            |        |          |    |     |     |     |\n",
      "|                  |      |                    |            |        |             |            |        |          |    |     |     |     |\n",
      "|                  |      |                    |            |        |             |            |        |          |    |     |     |     |\n",
      "|                  |      |                    |            |        |             |            |        |          |    |     |     |     |\n",
      "|                  |      |                    |            |        |             |            |        |          |    |     |     |     |\n",
      "|                  |      |                    |            |        |             |            |        |          |    |     |     |     |\n",
      "|                  |      |                    |            |        |             |            |        |          |    |     |     |     |\n",
      "|                  |      |                    |            |        |             |            |        |          |    |     |     |     |\n",
      "|                  |      |                    |            |        |             |            |        |          |    |     |     |     |\n",
      "|                  |      |                    |            |        |             |            |        |          |    |     |     |     |\n",
      "|                  |      |                    |            |        |             |            |        |          |    |     |     |     |\n",
      "|                  |      |                    |            |        |             |            |        |          |    |     |     |     |\n",
      "|                  |      |                    |            |        |             |            |        |          |    |     |     |     |\n",
      "|                  |      |                    |            |        |             |            |        |          |    |     |     |     |\n",
      "|                  |      |                    |            |        |             |            |        |          |    |     |     |     |\n",
      "|                  |      |                    |            |        |             |            |        |          |    |     |     |     |\n",
      "|                  |      |                    |            |        |             |            |        |          |    |     |     |     |\n",
      "|                  |      |                    |            |        |             |            |        |          |    |     |     |     |\n",
      "|                  |      |                    |            |        |             |            |        |          |    |     |     |     |\n",
      "+------------------+------+--------------------+------------+--------+-------------+------------+--------+----------+----+-----+-----+-----+"
     ]
    }
   ],
   "source": [
    "spark_dataframe = source_dyf.toDF()\n",
    "spark_dataframe.createOrReplaceTempView(\"spark_source_df\")\n",
    "\n",
    "gc.sql(\"\"\"\n",
    "SELECT *\n",
    "FROM spark_source_df\n",
    "\"\"\").show(118)"
   ]
  },
  {
   "cell_type": "code",
   "execution_count": null,
   "id": "e46f6e27",
   "metadata": {},
   "outputs": [],
   "source": []
  }
 ],
 "metadata": {
  "kernelspec": {
   "display_name": "Sparkmagic (PySpark)",
   "language": "python",
   "name": "pysparkkernel"
  },
  "language_info": {
   "codemirror_mode": {
    "name": "python",
    "version": 3
   },
   "file_extension": ".py",
   "mimetype": "text/x-python",
   "name": "pyspark",
   "pygments_lexer": "python3"
  }
 },
 "nbformat": 4,
 "nbformat_minor": 5
}
