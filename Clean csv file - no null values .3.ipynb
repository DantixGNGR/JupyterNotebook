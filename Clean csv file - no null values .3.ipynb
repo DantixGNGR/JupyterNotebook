{
 "cells": [
  {
   "cell_type": "code",
   "execution_count": 1,
   "id": "f15458d4",
   "metadata": {},
   "outputs": [
    {
     "name": "stdout",
     "output_type": "stream",
     "text": [
      "Starting Spark application\n"
     ]
    },
    {
     "data": {
      "text/html": [
       "<table>\n",
       "<tr><th>ID</th><th>YARN Application ID</th><th>Kind</th><th>State</th><th>Spark UI</th><th>Driver log</th><th>User</th><th>Current session?</th></tr><tr><td>12</td><td>application_1642141202245_0013</td><td>pyspark</td><td>idle</td><td><a target=\"_blank\" href=\"http://ip-172-31-20-155.eu-central-1.compute.internal:20888/proxy/application_1642141202245_0013/\">Link</a></td><td><a target=\"_blank\" href=\"http://ip-172-31-21-151.eu-central-1.compute.internal:8042/node/containerlogs/container_1642141202245_0013_01_000001/livy\">Link</a></td><td>None</td><td>✔</td></tr></table>"
      ],
      "text/plain": [
       "<IPython.core.display.HTML object>"
      ]
     },
     "metadata": {},
     "output_type": "display_data"
    },
    {
     "data": {
      "application/vnd.jupyter.widget-view+json": {
       "model_id": "",
       "version_major": 2,
       "version_minor": 0
      },
      "text/plain": [
       "FloatProgress(value=0.0, bar_style='info', description='Progress:', layout=Layout(height='25px', width='50%'),…"
      ]
     },
     "metadata": {},
     "output_type": "display_data"
    },
    {
     "name": "stdout",
     "output_type": "stream",
     "text": [
      "SparkSession available as 'spark'.\n"
     ]
    },
    {
     "data": {
      "application/vnd.jupyter.widget-view+json": {
       "model_id": "",
       "version_major": 2,
       "version_minor": 0
      },
      "text/plain": [
       "FloatProgress(value=0.0, bar_style='info', description='Progress:', layout=Layout(height='25px', width='50%'),…"
      ]
     },
     "metadata": {},
     "output_type": "display_data"
    }
   ],
   "source": [
    "from pyspark.sql import functions as F\n",
    "from pyspark.sql.types import IntegerType,BooleanType,DateType,FloatType,StringType,DoubleType,DecimalType\n",
    "from pyspark.sql.functions import * \n",
    "\n",
    "from awsglue.transforms import *\n",
    "from awsglue.utils import getResolvedOptions\n",
    "from pyspark.context import SparkContext\n",
    "from awsglue.context import GlueContext\n",
    "\n",
    "sc = SparkContext.getOrCreate()\n",
    "gc = GlueContext(sc)"
   ]
  },
  {
   "cell_type": "code",
   "execution_count": 9,
   "id": "b4ffb484",
   "metadata": {},
   "outputs": [
    {
     "data": {
      "application/vnd.jupyter.widget-view+json": {
       "model_id": "",
       "version_major": 2,
       "version_minor": 0
      },
      "text/plain": [
       "FloatProgress(value=0.0, bar_style='info', description='Progress:', layout=Layout(height='25px', width='50%'),…"
      ]
     },
     "metadata": {},
     "output_type": "display_data"
    }
   ],
   "source": [
    "# Create dynamic frame\n",
    "source_df = gc.create_data_frame_from_catalog( \n",
    "    database = \"trucapedb\", \n",
    "    table_name = \"trucape_invoices\", \n",
    ")\n",
    "\n",
    "# source_dyf = gc.create_data_frame.from_options(\n",
    "#     connection_type='s3',\n",
    "#     connection_options={'paths': [\"s3://sol-dev-source/Trucape-Invoices\"]},\n",
    "#     format='csv,'\n",
    "# )"
   ]
  },
  {
   "cell_type": "code",
   "execution_count": null,
   "id": "ba1661e2",
   "metadata": {},
   "outputs": [],
   "source": [
    "source_df.show()"
   ]
  },
  {
   "cell_type": "code",
   "execution_count": null,
   "id": "912b13e3",
   "metadata": {},
   "outputs": [],
   "source": [
    "source_df.printSchema()"
   ]
  },
  {
   "cell_type": "code",
   "execution_count": 10,
   "id": "9f5c595b",
   "metadata": {},
   "outputs": [
    {
     "data": {
      "application/vnd.jupyter.widget-view+json": {
       "model_id": "",
       "version_major": 2,
       "version_minor": 0
      },
      "text/plain": [
       "FloatProgress(value=0.0, bar_style='info', description='Progress:', layout=Layout(height='25px', width='50%'),…"
      ]
     },
     "metadata": {},
     "output_type": "display_data"
    },
    {
     "name": "stdout",
     "output_type": "stream",
     "text": [
      "+------------------+------+--------------------+------------+--------+-------------+------------+-----------+----------+\n",
      "|external reference|number|        counterparty|  amount due|currency|cost currency|costing rate|   due date|issue date|\n",
      "+------------------+------+--------------------+------------+--------+-------------+------------+-----------+----------+\n",
      "|          SC25505A|137113|   Fruit Traders LLC|  10,800.00 |     USD|          ZAR|      15.862|24-Jan-2022|3-Jan-2022|\n",
      "|          SC25506A|137114|   Fruit Traders LLC|  10,800.00 |     USD|          ZAR|      15.862|24-Jan-2022|3-Jan-2022|\n",
      "|          SC25503A|137116|   Fruit Traders LLC|  10,800.00 |     USD|          ZAR|      15.862|24-Jan-2022|3-Jan-2022|\n",
      "|          SC25504A|137117|   Fruit Traders LLC|  10,800.00 |     USD|          ZAR|      15.862|24-Jan-2022|3-Jan-2022|\n",
      "|          SC25499A|137078|   Fruit Traders LLC|  10,134.00 |     USD|          ZAR|      15.862|24-Jan-2022|3-Jan-2022|\n",
      "|          SC25500A|137079|   Fruit Traders LLC|   9,450.00 |     USD|          ZAR|      15.862|24-Jan-2022|3-Jan-2022|\n",
      "|          SC25501A|137131|   Fruit Traders LLC|   9,450.00 |     USD|          ZAR|      15.862|24-Jan-2022|3-Jan-2022|\n",
      "|          SC25505F|137113|   Fruit Traders LLC|  10,800.00 |     USD|          ZAR|     15.8773| 2-Feb-2022|3-Jan-2022|\n",
      "|          SC25506F|137114|   Fruit Traders LLC|  10,800.00 |     USD|          ZAR|     15.8773| 2-Feb-2022|3-Jan-2022|\n",
      "|          SC25503F|137116|   Fruit Traders LLC|  10,800.00 |     USD|          ZAR|     15.8773| 2-Feb-2022|3-Jan-2022|\n",
      "|          SC25504F|137117|   Fruit Traders LLC|  10,800.00 |     USD|          ZAR|     15.8773| 2-Feb-2022|3-Jan-2022|\n",
      "|          SC25499F|137078|   Fruit Traders LLC|  10,134.00 |     USD|          ZAR|     15.8773| 2-Feb-2022|3-Jan-2022|\n",
      "|          SC25500F|137079|   Fruit Traders LLC|   9,450.00 |     USD|          ZAR|     15.8773| 2-Feb-2022|3-Jan-2022|\n",
      "|          SC25501F|137131|   Fruit Traders LLC|   9,450.00 |     USD|          ZAR|     15.8773| 2-Feb-2022|3-Jan-2022|\n",
      "|           SC25548|137077|MA Sharbatly Corp...|  16,464.00 |     USD|          ZAR|     15.9551| 4-Mar-2022|3-Jan-2022|\n",
      "|           SC25499|136805|          JSC TANDER|  17,147.70 |     USD|          ZAR|     15.9551| 4-Mar-2022|3-Jan-2022|\n",
      "|           SC25500|136807|          JSC TANDER|  17,160.84 |     USD|          ZAR|     15.9551| 4-Mar-2022|3-Jan-2022|\n",
      "|           SC25501|137070|          JSC TANDER|  17,187.12 |     USD|          ZAR|     15.9551| 4-Mar-2022|3-Jan-2022|\n",
      "|           SC25533|137343|     D Fresh SDB BHD|  23,573.20 |     USD|          ZAR|     15.9551| 9-Mar-2022|3-Jan-2022|\n",
      "|           SC25534|137344|     D Fresh SDB BHD|  24,754.80 |     USD|          ZAR|     15.9551| 9-Mar-2022|3-Jan-2022|\n",
      "+------------------+------+--------------------+------------+--------+-------------+------------+-----------+----------+\n",
      "only showing top 20 rows"
     ]
    }
   ],
   "source": [
    "# ADD YEAR TO DUE DATE\n",
    "# source_df_with_date_format = source_df.withColumn(\"due date\", F.concat(col(\"due date\"),F.lit(\"-2022\"))) \\\n",
    "#     .show()\n",
    "\n",
    "#  ADD YEAR TO ISSUE DATE\n",
    "# source_df_with_date_format = source_df.withColumn(\"issue date\", F.concat(col(\"issue date\"),F.lit(\"-2022\"))) \\\n",
    "#     .show()\n",
    "\n",
    "# add year to columns: due date & isue date \n",
    "source_df = source_df.withColumn(\"due date\", F.concat(col(\"due date\"),F.lit(\"-2022\"))) \\\n",
    "    .withColumn(\"issue date\", F.concat(col(\"issue date\"),F.lit(\"-2022\"))) \\\n",
    "    .show()\n"
   ]
  },
  {
   "cell_type": "code",
   "execution_count": 15,
   "id": "d020aed0",
   "metadata": {},
   "outputs": [
    {
     "data": {
      "application/vnd.jupyter.widget-view+json": {
       "model_id": "",
       "version_major": 2,
       "version_minor": 0
      },
      "text/plain": [
       "FloatProgress(value=0.0, bar_style='info', description='Progress:', layout=Layout(height='25px', width='50%'),…"
      ]
     },
     "metadata": {},
     "output_type": "display_data"
    },
    {
     "name": "stderr",
     "output_type": "stream",
     "text": [
      "An error was encountered:\n",
      "'NoneType' object has no attribute 'select'\n",
      "Traceback (most recent call last):\n",
      "AttributeError: 'NoneType' object has no attribute 'select'\n",
      "\n"
     ]
    }
   ],
   "source": [
    "# DUE DATE FORMATTING\n",
    "# source_df_format = source_df1.select(col(\"due date\"),to_date(col(\"due date\"), \"d-MMM-yyyy\")) \\\n",
    "#   .show()\n",
    "\n",
    "# ISSUE DATE FORMATTING\n",
    "# df1 = source_df1.select(col(\"issue date\"),to_date(col(\"issue date\"), \"d-MMM\")) \\\n",
    "#   .show()\n",
    "\n",
    "# FORMAT COLUMNS: DUE DATE & ISSUE DATE \n",
    "source_df = source_df.select((col(\"due date\"),to_date(F.col(\"due date\"), \"d-MMM-yyy\")) | \n",
    "                             (col(\"issue date\"),to_date(F.col(\"issue date\"), \"d-MMM-yyy\"))) \\\n",
    "                                .show()\n",
    "      "
   ]
  },
  {
   "cell_type": "code",
   "execution_count": null,
   "id": "ed8a8396",
   "metadata": {},
   "outputs": [],
   "source": [
    "# # Set decimal places\n",
    "# source_df_decimals = source_df.select( \n",
    "#                 F.round(source_df[\"amount due\"],2),\n",
    "#                 F.round(source_df[\"costing rate\"],4)\n",
    "# ).show()\n",
    "\n",
    "# source_df_decimals = source_df.select(\n",
    "#     round('amount due', 2).alias('r')).show()\n",
    "\n",
    "for c in source_df.columns:\n",
    "    df3 = source_df.withColumn(c, round(c, 2))\n",
    "    \n",
    "df3.show()"
   ]
  },
  {
   "cell_type": "code",
   "execution_count": null,
   "id": "97d9a10e",
   "metadata": {},
   "outputs": [],
   "source": [
    "# Set column types\n",
    "df2 = source_df.withColumn(\"costing rate\",col(\"costing rate\").cast(StringType())) \\\n",
    "    .withColumn(\"due date\",col(\"due date\").cast(StringType())) \\\n",
    "    .withColumn(\"issue date\",col(\"issue date\").cast(StringType()))\n",
    "df2.printSchema()\n",
    "df2.show()"
   ]
  },
  {
   "cell_type": "code",
   "execution_count": null,
   "id": "5c56cce8",
   "metadata": {},
   "outputs": [],
   "source": [
    "# source_df_decimals = df2.withColumn(\n",
    "#    format_string(\".04d%\", col( 'costing rate').cast('int')).show()\n",
    "# )\n",
    "\n",
    "source_df_decimals = df2.select(\n",
    "    round('costing rate',4)).show()\n",
    " \n",
    "# source_df_trailingzeros = df2.withColumn(lpad(source_df_trailingzeros.costing_rate,4, '0')).show()\n",
    "\n"
   ]
  },
  {
   "cell_type": "code",
   "execution_count": null,
   "id": "57944d7a",
   "metadata": {},
   "outputs": [],
   "source": [
    "# Data types as they are in the file\n",
    "source_df.printSchema()"
   ]
  },
  {
   "cell_type": "code",
   "execution_count": null,
   "id": "b679a729",
   "metadata": {},
   "outputs": [],
   "source": []
  }
 ],
 "metadata": {
  "kernelspec": {
   "display_name": "Sparkmagic (PySpark)",
   "language": "python",
   "name": "pysparkkernel"
  },
  "language_info": {
   "codemirror_mode": {
    "name": "python",
    "version": 3
   },
   "file_extension": ".py",
   "mimetype": "text/x-python",
   "name": "pyspark",
   "pygments_lexer": "python3"
  }
 },
 "nbformat": 4,
 "nbformat_minor": 5
}
