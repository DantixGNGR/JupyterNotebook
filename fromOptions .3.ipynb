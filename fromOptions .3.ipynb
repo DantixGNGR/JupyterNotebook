{
 "cells": [
  {
   "cell_type": "code",
   "execution_count": 1,
   "id": "24bc2c44",
   "metadata": {},
   "outputs": [
    {
     "name": "stdout",
     "output_type": "stream",
     "text": [
      "Starting Spark application\n"
     ]
    },
    {
     "data": {
      "text/html": [
       "<table>\n",
       "<tr><th>ID</th><th>YARN Application ID</th><th>Kind</th><th>State</th><th>Spark UI</th><th>Driver log</th><th>User</th><th>Current session?</th></tr><tr><td>4</td><td>application_1643278496746_0005</td><td>pyspark</td><td>idle</td><td><a target=\"_blank\" href=\"http://ip-172-31-100-62.eu-central-1.compute.internal:20888/proxy/application_1643278496746_0005/\">Link</a></td><td><a target=\"_blank\" href=\"http://ip-172-31-98-242.eu-central-1.compute.internal:8042/node/containerlogs/container_1643278496746_0005_01_000001/livy\">Link</a></td><td>None</td><td>✔</td></tr></table>"
      ],
      "text/plain": [
       "<IPython.core.display.HTML object>"
      ]
     },
     "metadata": {},
     "output_type": "display_data"
    },
    {
     "data": {
      "application/vnd.jupyter.widget-view+json": {
       "model_id": "",
       "version_major": 2,
       "version_minor": 0
      },
      "text/plain": [
       "FloatProgress(value=0.0, bar_style='info', description='Progress:', layout=Layout(height='25px', width='50%'),…"
      ]
     },
     "metadata": {},
     "output_type": "display_data"
    },
    {
     "name": "stdout",
     "output_type": "stream",
     "text": [
      "SparkSession available as 'spark'.\n"
     ]
    },
    {
     "data": {
      "application/vnd.jupyter.widget-view+json": {
       "model_id": "",
       "version_major": 2,
       "version_minor": 0
      },
      "text/plain": [
       "FloatProgress(value=0.0, bar_style='info', description='Progress:', layout=Layout(height='25px', width='50%'),…"
      ]
     },
     "metadata": {},
     "output_type": "display_data"
    }
   ],
   "source": [
    "import sys\n",
    "from pyspark.sql import functions as F\n",
    "from pyspark.sql.functions import * \n",
    "from awsglue.job import Job\n",
    "from awsglue.transforms import *\n",
    "from awsglue.utils import getResolvedOptions\n",
    "from pyspark.context import SparkContext\n",
    "from awsglue.context import GlueContext\n",
    "from functools import reduce\n",
    "\n",
    "sc = SparkContext.getOrCreate()\n",
    "gc = GlueContext(sc)\n",
    "\n"
   ]
  },
  {
   "cell_type": "code",
   "execution_count": 2,
   "id": "37071963",
   "metadata": {},
   "outputs": [
    {
     "data": {
      "application/vnd.jupyter.widget-view+json": {
       "model_id": "",
       "version_major": 2,
       "version_minor": 0
      },
      "text/plain": [
       "FloatProgress(value=0.0, bar_style='info', description='Progress:', layout=Layout(height='25px', width='50%'),…"
      ]
     },
     "metadata": {},
     "output_type": "display_data"
    }
   ],
   "source": [
    "# source_df=spark.read.option(\"header\",\"true\").csv(\"s3://sol-dev-source/TruCape-Invoices\")\n"
   ]
  },
  {
   "cell_type": "code",
   "execution_count": 2,
   "id": "6831d775",
   "metadata": {},
   "outputs": [
    {
     "data": {
      "application/vnd.jupyter.widget-view+json": {
       "model_id": "",
       "version_major": 2,
       "version_minor": 0
      },
      "text/plain": [
       "FloatProgress(value=0.0, bar_style='info', description='Progress:', layout=Layout(height='25px', width='50%'),…"
      ]
     },
     "metadata": {},
     "output_type": "display_data"
    }
   ],
   "source": [
    "\n",
    "source_dyf = gc.create_dynamic_frame.from_options(\n",
    "    's3',\n",
    "    {\n",
    "        \"paths\": [\n",
    "            's3://sol-dev-source/TruCape-Invoices'\n",
    "        ],\n",
    "        \"recurse\" : True\n",
    "    },\n",
    "    \"csv\",\n",
    "    transformation_ctx = \"source_dyf\",\n",
    "    headerText = True)"
   ]
  },
  {
   "cell_type": "code",
   "execution_count": 3,
   "id": "22d06afc",
   "metadata": {},
   "outputs": [
    {
     "data": {
      "application/vnd.jupyter.widget-view+json": {
       "model_id": "",
       "version_major": 2,
       "version_minor": 0
      },
      "text/plain": [
       "FloatProgress(value=0.0, bar_style='info', description='Progress:', layout=Layout(height='25px', width='50%'),…"
      ]
     },
     "metadata": {},
     "output_type": "display_data"
    }
   ],
   "source": [
    "source_df = source_dyf.toDF()"
   ]
  },
  {
   "cell_type": "code",
   "execution_count": 4,
   "id": "e3b4a01d",
   "metadata": {},
   "outputs": [
    {
     "data": {
      "application/vnd.jupyter.widget-view+json": {
       "model_id": "",
       "version_major": 2,
       "version_minor": 0
      },
      "text/plain": [
       "FloatProgress(value=0.0, bar_style='info', description='Progress:', layout=Layout(height='25px', width='50%'),…"
      ]
     },
     "metadata": {},
     "output_type": "display_data"
    }
   ],
   "source": [
    "# (b) Create array with desired columns\n",
    "old_columns = source_df.schema.names\n",
    "new_columns = [\n",
    "    field.lower().replace(\"col0\", \"External Reference\")\n",
    "    .replace(\"col1\", \"Number\")\n",
    "    .replace(\"col2\", \"Counterparty\")\n",
    "    .replace(\"col3\", \"Amount Due\")\n",
    "    .replace(\"col4\", \"Currency\")\n",
    "    .replace(\"col5\", \"Cost Currency\")\n",
    "    .replace(\"col6\", \"Costing Rate\")\n",
    "    .replace(\"col7\", \"Due Date\")\n",
    "    .replace(\"col8\", \"Issue Date\")\n",
    "    for field in old_columns\n",
    "]"
   ]
  },
  {
   "cell_type": "code",
   "execution_count": 5,
   "id": "e24b170f",
   "metadata": {},
   "outputs": [
    {
     "data": {
      "application/vnd.jupyter.widget-view+json": {
       "model_id": "",
       "version_major": 2,
       "version_minor": 0
      },
      "text/plain": [
       "FloatProgress(value=0.0, bar_style='info', description='Progress:', layout=Layout(height='25px', width='50%'),…"
      ]
     },
     "metadata": {},
     "output_type": "display_data"
    }
   ],
   "source": [
    "# (c) Overwrite and persist `new_columns`\n",
    "source_df = reduce(\n",
    "    lambda source_df, idx: source_df.withColumnRenamed(old_columns[idx], new_columns[idx]),\n",
    "    range(len(old_columns)),\n",
    "    source_df,\n",
    ")"
   ]
  },
  {
   "cell_type": "code",
   "execution_count": 6,
   "id": "19d0d060",
   "metadata": {},
   "outputs": [
    {
     "data": {
      "application/vnd.jupyter.widget-view+json": {
       "model_id": "",
       "version_major": 2,
       "version_minor": 0
      },
      "text/plain": [
       "FloatProgress(value=0.0, bar_style='info', description='Progress:', layout=Layout(height='25px', width='50%'),…"
      ]
     },
     "metadata": {},
     "output_type": "display_data"
    },
    {
     "name": "stdout",
     "output_type": "stream",
     "text": [
      "+------------------+------+--------------------+------------+--------+-------------+------------+--------+----------+\n",
      "|External Reference|Number|        Counterparty|  Amount Due|Currency|Cost Currency|Costing Rate|Due Date|Issue Date|\n",
      "+------------------+------+--------------------+------------+--------+-------------+------------+--------+----------+\n",
      "|External Reference|Number|        Counterparty| Amount Due |Currency|Cost Currency|Costing Rate|Due Date|Issue Date|\n",
      "|           SC23677|131527|Russian Venture I...|  17,401.50 |     USD|          ZAR|     15.2174|  17-Oct|    23-Aug|\n",
      "|           SC23678|131731|Russian Venture I...|  17,617.50 |     USD|          ZAR|     15.2174|  17-Oct|    23-Aug|\n",
      "|           SC23698|131722|        JWM Asia Ltd|  16,464.00 |     USD|          ZAR|     15.2174|  22-Oct|    23-Aug|\n",
      "|           SC23761|131984|        JWM Asia Ltd|  12,936.00 |     USD|          ZAR|     15.2174|  22-Oct|    23-Aug|\n",
      "|           SC23853|132113|        JWM Asia Ltd|  16,464.00 |     USD|          ZAR|     15.2174|  22-Oct|    23-Aug|\n",
      "|           SC23850|132135|        JWM Asia Ltd|  15,523.20 |     USD|          ZAR|     15.2174|  22-Oct|    23-Aug|\n",
      "|           SC23909|130402|Vanguard Internat...|  16,700.00 |     USD|          ZAR|     15.2174|  22-Oct|    23-Aug|\n",
      "|           SC23659|132039|     D Fresh SDB BHD|  18,958.52 |     USD|          ZAR|     15.2174|  22-Oct|    23-Aug|\n",
      "|           SC23685|131913|     D Fresh SDB BHD|  21,000.00 |     USD|          ZAR|     15.2174|  22-Oct|    23-Aug|\n",
      "|           SC23686|131914|     D Fresh SDB BHD|  22,232.00 |     USD|          ZAR|     15.2174|  22-Oct|    23-Aug|\n",
      "|           SC23691|131915|     D Fresh SDB BHD|  21,056.00 |     USD|          ZAR|     15.2174|  22-Oct|    23-Aug|\n",
      "|           SC23692|131916|     D Fresh SDB BHD|  18,088.00 |     USD|          ZAR|     15.2174|  22-Oct|    23-Aug|\n",
      "|           SC23696|131917|     D Fresh SDB BHD|  17,360.00 |     USD|          ZAR|     15.2174|  22-Oct|    23-Aug|\n",
      "|           SC23779|131747|Worldfruit Singapore|  22,841.00 |     USD|          ZAR|     15.2174|  23-Oct|    23-Aug|\n",
      "|           SC23777|131751|Worldfruit Singapore|  19,687.00 |     USD|          ZAR|     15.2174|  23-Oct|    23-Aug|\n",
      "|           SC23680|132173|Aartsenfruit Bred...|  23,800.00 |    EURO|          ZAR|     17.8758|  22-Oct|    23-Aug|\n",
      "|           SC23679|132188|Aartsenfruit Bred...|  20,328.00 |    EURO|          ZAR|     17.8758|  22-Oct|    23-Aug|\n",
      "|           SC23681|132170|Aartsenfruit Bred...|  23,715.00 |    EURO|          ZAR|     17.8758|  22-Oct|    23-Aug|\n",
      "|           SC23676|132109|      OGL Food Trade|  21,450.00 |    EURO|          ZAR|     17.9304|   6-Nov|    23-Aug|\n",
      "+------------------+------+--------------------+------------+--------+-------------+------------+--------+----------+\n",
      "only showing top 20 rows"
     ]
    }
   ],
   "source": [
    "source_df.show()"
   ]
  },
  {
   "cell_type": "code",
   "execution_count": 7,
   "id": "fb4be71f",
   "metadata": {},
   "outputs": [
    {
     "data": {
      "application/vnd.jupyter.widget-view+json": {
       "model_id": "",
       "version_major": 2,
       "version_minor": 0
      },
      "text/plain": [
       "FloatProgress(value=0.0, bar_style='info', description='Progress:', layout=Layout(height='25px', width='50%'),…"
      ]
     },
     "metadata": {},
     "output_type": "display_data"
    }
   ],
   "source": [
    "pandas_source_df = source_df.toPandas()\n"
   ]
  },
  {
   "cell_type": "code",
   "execution_count": 35,
   "id": "ed391eb5",
   "metadata": {},
   "outputs": [
    {
     "data": {
      "application/vnd.jupyter.widget-view+json": {
       "model_id": "",
       "version_major": 2,
       "version_minor": 0
      },
      "text/plain": [
       "FloatProgress(value=0.0, bar_style='info', description='Progress:', layout=Layout(height='25px', width='50%'),…"
      ]
     },
     "metadata": {},
     "output_type": "display_data"
    },
    {
     "name": "stdout",
     "output_type": "stream",
     "text": [
      "DataFrame[external reference: string, number: string, counterparty: string, amount due: string, currency: string, cost currency: string, costing rate: string, due date: string, Issue Date: string]"
     ]
    }
   ],
   "source": [
    "print(source_df)"
   ]
  },
  {
   "cell_type": "code",
   "execution_count": 8,
   "id": "210dff83",
   "metadata": {},
   "outputs": [
    {
     "data": {
      "application/vnd.jupyter.widget-view+json": {
       "model_id": "",
       "version_major": 2,
       "version_minor": 0
      },
      "text/plain": [
       "FloatProgress(value=0.0, bar_style='info', description='Progress:', layout=Layout(height='25px', width='50%'),…"
      ]
     },
     "metadata": {},
     "output_type": "display_data"
    }
   ],
   "source": [
    "source_df = pandas_source_df.iloc[1: , :]"
   ]
  },
  {
   "cell_type": "code",
   "execution_count": 9,
   "id": "b661622c",
   "metadata": {},
   "outputs": [
    {
     "data": {
      "application/vnd.jupyter.widget-view+json": {
       "model_id": "",
       "version_major": 2,
       "version_minor": 0
      },
      "text/plain": [
       "FloatProgress(value=0.0, bar_style='info', description='Progress:', layout=Layout(height='25px', width='50%'),…"
      ]
     },
     "metadata": {},
     "output_type": "display_data"
    }
   ],
   "source": [
    "source_df=spark.createDataFrame(source_df) "
   ]
  },
  {
   "cell_type": "code",
   "execution_count": 10,
   "id": "e3e00a91",
   "metadata": {},
   "outputs": [
    {
     "data": {
      "application/vnd.jupyter.widget-view+json": {
       "model_id": "",
       "version_major": 2,
       "version_minor": 0
      },
      "text/plain": [
       "FloatProgress(value=0.0, bar_style='info', description='Progress:', layout=Layout(height='25px', width='50%'),…"
      ]
     },
     "metadata": {},
     "output_type": "display_data"
    },
    {
     "name": "stdout",
     "output_type": "stream",
     "text": [
      "+------------------+------+--------------------+-----------+--------+-------------+------------+--------+----------+\n",
      "|External Reference|Number|        Counterparty| Amount Due|Currency|Cost Currency|Costing Rate|Due Date|Issue Date|\n",
      "+------------------+------+--------------------+-----------+--------+-------------+------------+--------+----------+\n",
      "|           SC23677|131527|Russian Venture I...| 17,401.50 |     USD|          ZAR|     15.2174|  17-Oct|    23-Aug|\n",
      "|           SC23678|131731|Russian Venture I...| 17,617.50 |     USD|          ZAR|     15.2174|  17-Oct|    23-Aug|\n",
      "|           SC23698|131722|        JWM Asia Ltd| 16,464.00 |     USD|          ZAR|     15.2174|  22-Oct|    23-Aug|\n",
      "|           SC23761|131984|        JWM Asia Ltd| 12,936.00 |     USD|          ZAR|     15.2174|  22-Oct|    23-Aug|\n",
      "|           SC23853|132113|        JWM Asia Ltd| 16,464.00 |     USD|          ZAR|     15.2174|  22-Oct|    23-Aug|\n",
      "|           SC23850|132135|        JWM Asia Ltd| 15,523.20 |     USD|          ZAR|     15.2174|  22-Oct|    23-Aug|\n",
      "|           SC23909|130402|Vanguard Internat...| 16,700.00 |     USD|          ZAR|     15.2174|  22-Oct|    23-Aug|\n",
      "|           SC23659|132039|     D Fresh SDB BHD| 18,958.52 |     USD|          ZAR|     15.2174|  22-Oct|    23-Aug|\n",
      "|           SC23685|131913|     D Fresh SDB BHD| 21,000.00 |     USD|          ZAR|     15.2174|  22-Oct|    23-Aug|\n",
      "|           SC23686|131914|     D Fresh SDB BHD| 22,232.00 |     USD|          ZAR|     15.2174|  22-Oct|    23-Aug|\n",
      "|           SC23691|131915|     D Fresh SDB BHD| 21,056.00 |     USD|          ZAR|     15.2174|  22-Oct|    23-Aug|\n",
      "|           SC23692|131916|     D Fresh SDB BHD| 18,088.00 |     USD|          ZAR|     15.2174|  22-Oct|    23-Aug|\n",
      "|           SC23696|131917|     D Fresh SDB BHD| 17,360.00 |     USD|          ZAR|     15.2174|  22-Oct|    23-Aug|\n",
      "|           SC23779|131747|Worldfruit Singapore| 22,841.00 |     USD|          ZAR|     15.2174|  23-Oct|    23-Aug|\n",
      "|           SC23777|131751|Worldfruit Singapore| 19,687.00 |     USD|          ZAR|     15.2174|  23-Oct|    23-Aug|\n",
      "|           SC23680|132173|Aartsenfruit Bred...| 23,800.00 |    EURO|          ZAR|     17.8758|  22-Oct|    23-Aug|\n",
      "|           SC23679|132188|Aartsenfruit Bred...| 20,328.00 |    EURO|          ZAR|     17.8758|  22-Oct|    23-Aug|\n",
      "|           SC23681|132170|Aartsenfruit Bred...| 23,715.00 |    EURO|          ZAR|     17.8758|  22-Oct|    23-Aug|\n",
      "|           SC23676|132109|      OGL Food Trade| 21,450.00 |    EURO|          ZAR|     17.9304|   6-Nov|    23-Aug|\n",
      "|           SC23675|132110|      OGL Food Trade| 21,450.00 |    EURO|          ZAR|     17.9304|   6-Nov|    23-Aug|\n",
      "+------------------+------+--------------------+-----------+--------+-------------+------------+--------+----------+\n",
      "only showing top 20 rows"
     ]
    }
   ],
   "source": [
    "source_df.show()"
   ]
  },
  {
   "cell_type": "code",
   "execution_count": 11,
   "id": "89359317",
   "metadata": {},
   "outputs": [
    {
     "data": {
      "application/vnd.jupyter.widget-view+json": {
       "model_id": "",
       "version_major": 2,
       "version_minor": 0
      },
      "text/plain": [
       "FloatProgress(value=0.0, bar_style='info', description='Progress:', layout=Layout(height='25px', width='50%'),…"
      ]
     },
     "metadata": {},
     "output_type": "display_data"
    }
   ],
   "source": [
    "# ADD YEAR TO DATE COLUMNS\n",
    "due_date=\"due date\"\n",
    "issue_date=\"issue date\"\n",
    "year = F.lit(\"-2022\")\n",
    "due_date_add_year = F.concat(col(due_date),year)\n",
    "issue_date_add_year = F.concat(col(issue_date),year)\n",
    "                               \n",
    "source_df = source_df.withColumn(due_date, due_date_add_year) \\\n",
    "    .withColumn(issue_date, issue_date_add_year)\n",
    "    \n"
   ]
  },
  {
   "cell_type": "code",
   "execution_count": 12,
   "id": "ac947cf1",
   "metadata": {},
   "outputs": [
    {
     "data": {
      "application/vnd.jupyter.widget-view+json": {
       "model_id": "",
       "version_major": 2,
       "version_minor": 0
      },
      "text/plain": [
       "FloatProgress(value=0.0, bar_style='info', description='Progress:', layout=Layout(height='25px', width='50%'),…"
      ]
     },
     "metadata": {},
     "output_type": "display_data"
    }
   ],
   "source": [
    "# SET DECIMAL PLACES\n",
    "costing_rate=\"costing rate\"\n",
    "format_costing_rate = format_number(round(costing_rate ,4), 4)\n",
    "amount_due=\"amount due\"\n",
    "format_amount_due=format_number(round(amount_due ,2), 2)\n",
    "\n",
    "source_df = source_df.withColumn(costing_rate, format_costing_rate) \\\n",
    "# amount due gives null value - not sure why"
   ]
  },
  {
   "cell_type": "raw",
   "id": "4db15e22",
   "metadata": {},
   "source": [
    "source_df.show()"
   ]
  },
  {
   "cell_type": "code",
   "execution_count": 14,
   "id": "54264e45",
   "metadata": {},
   "outputs": [
    {
     "data": {
      "application/vnd.jupyter.widget-view+json": {
       "model_id": "",
       "version_major": 2,
       "version_minor": 0
      },
      "text/plain": [
       "FloatProgress(value=0.0, bar_style='info', description='Progress:', layout=Layout(height='25px', width='50%'),…"
      ]
     },
     "metadata": {},
     "output_type": "display_data"
    }
   ],
   "source": [
    "# FORMAT DATES\n",
    "source_df = source_df.select(\n",
    "    col(\"external reference\"), \\\n",
    "    col(\"number\"), \\\n",
    "    col(\"counterparty\"), \\\n",
    "    col(\"amount due\"), \\\n",
    "    col(\"currency\"), \\\n",
    "    col(\"cost currency\"), \\\n",
    "    col(\"costing rate\"), \\\n",
    "    to_date(F.col(\"due date\"), \"d-MMM-yyy\").alias(\"due date\"), \\\n",
    "    to_date(F.col(\"issue date\"), \"d-MMM-yyy\").alias(\"issue date\")) \\\n",
    "    \n"
   ]
  },
  {
   "cell_type": "code",
   "execution_count": 15,
   "id": "5390784b",
   "metadata": {},
   "outputs": [
    {
     "data": {
      "application/vnd.jupyter.widget-view+json": {
       "model_id": "",
       "version_major": 2,
       "version_minor": 0
      },
      "text/plain": [
       "FloatProgress(value=0.0, bar_style='info', description='Progress:', layout=Layout(height='25px', width='50%'),…"
      ]
     },
     "metadata": {},
     "output_type": "display_data"
    },
    {
     "name": "stdout",
     "output_type": "stream",
     "text": [
      "+------------------+------+--------------------+-----------+--------+-------------+------------+----------+----------+\n",
      "|external reference|number|        counterparty| amount due|currency|cost currency|costing rate|  due date|issue date|\n",
      "+------------------+------+--------------------+-----------+--------+-------------+------------+----------+----------+\n",
      "|           SC23677|131527|Russian Venture I...| 17,401.50 |     USD|          ZAR|     15.2174|2022-10-17|2022-08-23|\n",
      "|           SC23678|131731|Russian Venture I...| 17,617.50 |     USD|          ZAR|     15.2174|2022-10-17|2022-08-23|\n",
      "|           SC23698|131722|        JWM Asia Ltd| 16,464.00 |     USD|          ZAR|     15.2174|2022-10-22|2022-08-23|\n",
      "|           SC23761|131984|        JWM Asia Ltd| 12,936.00 |     USD|          ZAR|     15.2174|2022-10-22|2022-08-23|\n",
      "|           SC23853|132113|        JWM Asia Ltd| 16,464.00 |     USD|          ZAR|     15.2174|2022-10-22|2022-08-23|\n",
      "|           SC23850|132135|        JWM Asia Ltd| 15,523.20 |     USD|          ZAR|     15.2174|2022-10-22|2022-08-23|\n",
      "|           SC23909|130402|Vanguard Internat...| 16,700.00 |     USD|          ZAR|     15.2174|2022-10-22|2022-08-23|\n",
      "|           SC23659|132039|     D Fresh SDB BHD| 18,958.52 |     USD|          ZAR|     15.2174|2022-10-22|2022-08-23|\n",
      "|           SC23685|131913|     D Fresh SDB BHD| 21,000.00 |     USD|          ZAR|     15.2174|2022-10-22|2022-08-23|\n",
      "|           SC23686|131914|     D Fresh SDB BHD| 22,232.00 |     USD|          ZAR|     15.2174|2022-10-22|2022-08-23|\n",
      "|           SC23691|131915|     D Fresh SDB BHD| 21,056.00 |     USD|          ZAR|     15.2174|2022-10-22|2022-08-23|\n",
      "|           SC23692|131916|     D Fresh SDB BHD| 18,088.00 |     USD|          ZAR|     15.2174|2022-10-22|2022-08-23|\n",
      "|           SC23696|131917|     D Fresh SDB BHD| 17,360.00 |     USD|          ZAR|     15.2174|2022-10-22|2022-08-23|\n",
      "|           SC23779|131747|Worldfruit Singapore| 22,841.00 |     USD|          ZAR|     15.2174|2022-10-23|2022-08-23|\n",
      "|           SC23777|131751|Worldfruit Singapore| 19,687.00 |     USD|          ZAR|     15.2174|2022-10-23|2022-08-23|\n",
      "|           SC23680|132173|Aartsenfruit Bred...| 23,800.00 |    EURO|          ZAR|     17.8758|2022-10-22|2022-08-23|\n",
      "|           SC23679|132188|Aartsenfruit Bred...| 20,328.00 |    EURO|          ZAR|     17.8758|2022-10-22|2022-08-23|\n",
      "|           SC23681|132170|Aartsenfruit Bred...| 23,715.00 |    EURO|          ZAR|     17.8758|2022-10-22|2022-08-23|\n",
      "|           SC23676|132109|      OGL Food Trade| 21,450.00 |    EURO|          ZAR|     17.9304|2022-11-06|2022-08-23|\n",
      "|           SC23675|132110|      OGL Food Trade| 21,450.00 |    EURO|          ZAR|     17.9304|2022-11-06|2022-08-23|\n",
      "+------------------+------+--------------------+-----------+--------+-------------+------------+----------+----------+\n",
      "only showing top 20 rows"
     ]
    }
   ],
   "source": [
    "source_df.show()"
   ]
  },
  {
   "cell_type": "code",
   "execution_count": 16,
   "id": "9b62ff2e",
   "metadata": {},
   "outputs": [
    {
     "data": {
      "application/vnd.jupyter.widget-view+json": {
       "model_id": "",
       "version_major": 2,
       "version_minor": 0
      },
      "text/plain": [
       "FloatProgress(value=0.0, bar_style='info', description='Progress:', layout=Layout(height='25px', width='50%'),…"
      ]
     },
     "metadata": {},
     "output_type": "display_data"
    }
   ],
   "source": [
    "# source_df.write.csv(path='s3://sol-dev-output/TruCape-Invoices', mode='overwrite')\n",
    "source_df.coalesce(1).write.csv(path='s3://sol-dev-output/TruCape-Invoices', mode='overwrite')"
   ]
  },
  {
   "cell_type": "code",
   "execution_count": null,
   "id": "b8d850d2",
   "metadata": {},
   "outputs": [],
   "source": []
  }
 ],
 "metadata": {
  "kernelspec": {
   "display_name": "Sparkmagic (PySpark)",
   "language": "python",
   "name": "pysparkkernel"
  },
  "language_info": {
   "codemirror_mode": {
    "name": "python",
    "version": 3
   },
   "file_extension": ".py",
   "mimetype": "text/x-python",
   "name": "pyspark",
   "pygments_lexer": "python3"
  }
 },
 "nbformat": 4,
 "nbformat_minor": 5
}
