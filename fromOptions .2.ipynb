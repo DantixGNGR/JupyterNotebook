{
 "cells": [
  {
   "cell_type": "code",
   "execution_count": 18,
   "id": "8325dc24",
   "metadata": {},
   "outputs": [
    {
     "data": {
      "application/vnd.jupyter.widget-view+json": {
       "model_id": "",
       "version_major": 2,
       "version_minor": 0
      },
      "text/plain": [
       "FloatProgress(value=0.0, bar_style='info', description='Progress:', layout=Layout(height='25px', width='50%'),…"
      ]
     },
     "metadata": {},
     "output_type": "display_data"
    }
   ],
   "source": [
    "import sys\n",
    "from pyspark.sql import functions as F\n",
    "from pyspark.sql.functions import * \n",
    "from awsglue.job import Job\n",
    "from awsglue.transforms import *\n",
    "from awsglue.utils import getResolvedOptions\n",
    "from pyspark.context import SparkContext\n",
    "from awsglue.context import GlueContext\n",
    "from functools import reduce\n",
    "\n",
    "sc = SparkContext.getOrCreate()\n",
    "gc = GlueContext(sc)\n",
    "\n"
   ]
  },
  {
   "cell_type": "code",
   "execution_count": 2,
   "id": "d734b111",
   "metadata": {},
   "outputs": [
    {
     "data": {
      "application/vnd.jupyter.widget-view+json": {
       "model_id": "",
       "version_major": 2,
       "version_minor": 0
      },
      "text/plain": [
       "FloatProgress(value=0.0, bar_style='info', description='Progress:', layout=Layout(height='25px', width='50%'),…"
      ]
     },
     "metadata": {},
     "output_type": "display_data"
    }
   ],
   "source": [
    "# source_df=spark.read.option(\"header\",\"true\").csv(\"s3://sol-dev-source/TruCape-Invoices\")\n"
   ]
  },
  {
   "cell_type": "code",
   "execution_count": 19,
   "id": "02aa4165",
   "metadata": {},
   "outputs": [
    {
     "data": {
      "application/vnd.jupyter.widget-view+json": {
       "model_id": "",
       "version_major": 2,
       "version_minor": 0
      },
      "text/plain": [
       "FloatProgress(value=0.0, bar_style='info', description='Progress:', layout=Layout(height='25px', width='50%'),…"
      ]
     },
     "metadata": {},
     "output_type": "display_data"
    }
   ],
   "source": [
    "\n",
    "source_dyf = gc.create_dynamic_frame.from_options(\n",
    "    's3',\n",
    "    {\n",
    "        \"paths\": [\n",
    "            's3://sol-dev-source/TruCape-Invoices'\n",
    "        ],\n",
    "        \"recurse\" : True\n",
    "    },\n",
    "    \"csv\",\n",
    "    transformation_ctx = \"source_dyf\",\n",
    "    headerText = True)"
   ]
  },
  {
   "cell_type": "code",
   "execution_count": 20,
   "id": "f23ab7ed",
   "metadata": {},
   "outputs": [
    {
     "data": {
      "application/vnd.jupyter.widget-view+json": {
       "model_id": "",
       "version_major": 2,
       "version_minor": 0
      },
      "text/plain": [
       "FloatProgress(value=0.0, bar_style='info', description='Progress:', layout=Layout(height='25px', width='50%'),…"
      ]
     },
     "metadata": {},
     "output_type": "display_data"
    }
   ],
   "source": [
    "source_df = source_dyf.toDF()"
   ]
  },
  {
   "cell_type": "code",
   "execution_count": 8,
   "id": "7870be06",
   "metadata": {},
   "outputs": [
    {
     "data": {
      "application/vnd.jupyter.widget-view+json": {
       "model_id": "",
       "version_major": 2,
       "version_minor": 0
      },
      "text/plain": [
       "FloatProgress(value=0.0, bar_style='info', description='Progress:', layout=Layout(height='25px', width='50%'),…"
      ]
     },
     "metadata": {},
     "output_type": "display_data"
    },
    {
     "name": "stdout",
     "output_type": "stream",
     "text": [
      "root\n",
      " |-- col0: string (nullable = true)\n",
      " |-- col1: string (nullable = true)\n",
      " |-- col2: string (nullable = true)\n",
      " |-- col3: string (nullable = true)\n",
      " |-- col4: string (nullable = true)\n",
      " |-- col5: string (nullable = true)\n",
      " |-- col6: string (nullable = true)\n",
      " |-- col7: string (nullable = true)\n",
      " |-- col8: string (nullable = true)"
     ]
    }
   ],
   "source": [
    "source_df.printSchema()"
   ]
  },
  {
   "cell_type": "code",
   "execution_count": 24,
   "id": "ae847e48",
   "metadata": {},
   "outputs": [
    {
     "data": {
      "application/vnd.jupyter.widget-view+json": {
       "model_id": "",
       "version_major": 2,
       "version_minor": 0
      },
      "text/plain": [
       "FloatProgress(value=0.0, bar_style='info', description='Progress:', layout=Layout(height='25px', width='50%'),…"
      ]
     },
     "metadata": {},
     "output_type": "display_data"
    }
   ],
   "source": [
    "# (b) Create array with desired columns\n",
    "old_columns = source_df.schema.names\n",
    "new_columns = [\n",
    "    field.lower().replace(\"col0\", \"External Reference\")\n",
    "    .replace(\"col1\", \"Number\")\n",
    "    .replace(\"col2\", \"Counterparty\")\n",
    "    .replace(\"col3\", \"Amount Due\")\n",
    "    .replace(\"col4\", \"Currency\")\n",
    "    .replace(\"col5\", \"Cost Currency\")\n",
    "    .replace(\"col6\", \"Costing Rate\")\n",
    "    .replace(\"col7\", \"Due Date\")\n",
    "    .replace(\"col8\", \"Issue Date\")\n",
    "    for field in old_columns\n",
    "]"
   ]
  },
  {
   "cell_type": "code",
   "execution_count": 25,
   "id": "2c36f1e5",
   "metadata": {},
   "outputs": [
    {
     "data": {
      "application/vnd.jupyter.widget-view+json": {
       "model_id": "",
       "version_major": 2,
       "version_minor": 0
      },
      "text/plain": [
       "FloatProgress(value=0.0, bar_style='info', description='Progress:', layout=Layout(height='25px', width='50%'),…"
      ]
     },
     "metadata": {},
     "output_type": "display_data"
    }
   ],
   "source": [
    "# (c) Overwrite and persist `new_columns`\n",
    "source_df = reduce(\n",
    "    lambda source_df, idx: source_df.withColumnRenamed(old_columns[idx], new_columns[idx]),\n",
    "    range(len(old_columns)),\n",
    "    source_df,\n",
    ")"
   ]
  },
  {
   "cell_type": "code",
   "execution_count": 26,
   "id": "69b96932",
   "metadata": {},
   "outputs": [
    {
     "data": {
      "application/vnd.jupyter.widget-view+json": {
       "model_id": "",
       "version_major": 2,
       "version_minor": 0
      },
      "text/plain": [
       "FloatProgress(value=0.0, bar_style='info', description='Progress:', layout=Layout(height='25px', width='50%'),…"
      ]
     },
     "metadata": {},
     "output_type": "display_data"
    },
    {
     "name": "stdout",
     "output_type": "stream",
     "text": [
      "+------------------+------+-------------------+------------+--------+-------------+------------+--------+----------+\n",
      "|external reference|number|       counterparty|  amount due|currency|cost currency|costing rate|due date|Issue Date|\n",
      "+------------------+------+-------------------+------------+--------+-------------+------------+--------+----------+\n",
      "|External Reference|Number|       Counterparty| Amount Due |Currency|Cost Currency|Costing Rate|Due Date|Issue Date|\n",
      "|           SC25648|138099|         JSC TANDER|  21,124.80 |     USD|          ZAR|     15.5654|   7-Apr|    21-Jan|\n",
      "|           SC25646|138127|HORIZON FRESH FRUIT|  17,100.00 |     USD|          ZAR|     15.5142|  17-Mar|    21-Jan|\n",
      "|           SC25645|138129|HORIZON FRESH FRUIT|  17,100.00 |     USD|          ZAR|     15.5142|  17-Mar|    21-Jan|\n",
      "+------------------+------+-------------------+------------+--------+-------------+------------+--------+----------+"
     ]
    }
   ],
   "source": [
    "source_df.show()"
   ]
  },
  {
   "cell_type": "code",
   "execution_count": 34,
   "id": "7e2a10ba",
   "metadata": {},
   "outputs": [
    {
     "data": {
      "application/vnd.jupyter.widget-view+json": {
       "model_id": "",
       "version_major": 2,
       "version_minor": 0
      },
      "text/plain": [
       "FloatProgress(value=0.0, bar_style='info', description='Progress:', layout=Layout(height='25px', width='50%'),…"
      ]
     },
     "metadata": {},
     "output_type": "display_data"
    }
   ],
   "source": [
    "pandas_source_df = source_df.toPandas()\n"
   ]
  },
  {
   "cell_type": "code",
   "execution_count": 35,
   "id": "ac061f69",
   "metadata": {},
   "outputs": [
    {
     "data": {
      "application/vnd.jupyter.widget-view+json": {
       "model_id": "",
       "version_major": 2,
       "version_minor": 0
      },
      "text/plain": [
       "FloatProgress(value=0.0, bar_style='info', description='Progress:', layout=Layout(height='25px', width='50%'),…"
      ]
     },
     "metadata": {},
     "output_type": "display_data"
    },
    {
     "name": "stdout",
     "output_type": "stream",
     "text": [
      "DataFrame[external reference: string, number: string, counterparty: string, amount due: string, currency: string, cost currency: string, costing rate: string, due date: string, Issue Date: string]"
     ]
    }
   ],
   "source": [
    "print(source_df)"
   ]
  },
  {
   "cell_type": "code",
   "execution_count": 36,
   "id": "dfb195c8",
   "metadata": {},
   "outputs": [
    {
     "data": {
      "application/vnd.jupyter.widget-view+json": {
       "model_id": "",
       "version_major": 2,
       "version_minor": 0
      },
      "text/plain": [
       "FloatProgress(value=0.0, bar_style='info', description='Progress:', layout=Layout(height='25px', width='50%'),…"
      ]
     },
     "metadata": {},
     "output_type": "display_data"
    }
   ],
   "source": [
    "source_df = pandas_source_df.iloc[1: , :]"
   ]
  },
  {
   "cell_type": "code",
   "execution_count": 37,
   "id": "efe0a2a5",
   "metadata": {},
   "outputs": [
    {
     "data": {
      "application/vnd.jupyter.widget-view+json": {
       "model_id": "",
       "version_major": 2,
       "version_minor": 0
      },
      "text/plain": [
       "FloatProgress(value=0.0, bar_style='info', description='Progress:', layout=Layout(height='25px', width='50%'),…"
      ]
     },
     "metadata": {},
     "output_type": "display_data"
    }
   ],
   "source": [
    "source_df=spark.createDataFrame(source_df) "
   ]
  },
  {
   "cell_type": "code",
   "execution_count": 38,
   "id": "2dc8a9db",
   "metadata": {},
   "outputs": [
    {
     "data": {
      "application/vnd.jupyter.widget-view+json": {
       "model_id": "",
       "version_major": 2,
       "version_minor": 0
      },
      "text/plain": [
       "FloatProgress(value=0.0, bar_style='info', description='Progress:', layout=Layout(height='25px', width='50%'),…"
      ]
     },
     "metadata": {},
     "output_type": "display_data"
    },
    {
     "name": "stdout",
     "output_type": "stream",
     "text": [
      "+------------------+------+-------------------+-----------+--------+-------------+------------+--------+----------+\n",
      "|external reference|number|       counterparty| amount due|currency|cost currency|costing rate|due date|Issue Date|\n",
      "+------------------+------+-------------------+-----------+--------+-------------+------------+--------+----------+\n",
      "|           SC25648|138099|         JSC TANDER| 21,124.80 |     USD|          ZAR|     15.5654|   7-Apr|    21-Jan|\n",
      "|           SC25646|138127|HORIZON FRESH FRUIT| 17,100.00 |     USD|          ZAR|     15.5142|  17-Mar|    21-Jan|\n",
      "|           SC25645|138129|HORIZON FRESH FRUIT| 17,100.00 |     USD|          ZAR|     15.5142|  17-Mar|    21-Jan|\n",
      "+------------------+------+-------------------+-----------+--------+-------------+------------+--------+----------+"
     ]
    }
   ],
   "source": [
    "source_df.show()"
   ]
  },
  {
   "cell_type": "code",
   "execution_count": 39,
   "id": "77a5feaf",
   "metadata": {},
   "outputs": [
    {
     "data": {
      "application/vnd.jupyter.widget-view+json": {
       "model_id": "",
       "version_major": 2,
       "version_minor": 0
      },
      "text/plain": [
       "FloatProgress(value=0.0, bar_style='info', description='Progress:', layout=Layout(height='25px', width='50%'),…"
      ]
     },
     "metadata": {},
     "output_type": "display_data"
    }
   ],
   "source": [
    "# ADD YEAR TO DATE COLUMNS\n",
    "due_date=\"due date\"\n",
    "issue_date=\"issue date\"\n",
    "year = F.lit(\"-2022\")\n",
    "due_date_add_year = F.concat(col(due_date),year)\n",
    "issue_date_add_year = F.concat(col(issue_date),year)\n",
    "                               \n",
    "source_df = source_df.withColumn(due_date, due_date_add_year) \\\n",
    "    .withColumn(issue_date, issue_date_add_year)\n",
    "    \n"
   ]
  },
  {
   "cell_type": "raw",
   "id": "0aa778da",
   "metadata": {},
   "source": [
    "source_df.show()"
   ]
  },
  {
   "cell_type": "code",
   "execution_count": 41,
   "id": "a892a8ca",
   "metadata": {},
   "outputs": [
    {
     "data": {
      "application/vnd.jupyter.widget-view+json": {
       "model_id": "",
       "version_major": 2,
       "version_minor": 0
      },
      "text/plain": [
       "FloatProgress(value=0.0, bar_style='info', description='Progress:', layout=Layout(height='25px', width='50%'),…"
      ]
     },
     "metadata": {},
     "output_type": "display_data"
    }
   ],
   "source": [
    "# FORMAT DATES\n",
    "source_df = source_df.select(\n",
    "    col(\"external reference\"), \\\n",
    "    col(\"number\"), \\\n",
    "    col(\"counterparty\"), \\\n",
    "    col(\"amount due\"), \\\n",
    "    col(\"currency\"), \\\n",
    "    col(\"cost currency\"), \\\n",
    "    col(\"costing rate\"), \\\n",
    "    to_date(F.col(\"due date\"), \"d-MMM-yyy\").alias(\"due date\"), \\\n",
    "    to_date(F.col(\"issue date\"), \"d-MMM-yyy\").alias(\"issue date\")) \\\n",
    "    \n",
    "source_df.write.csv(path='s3://sol-dev-output/TruCape-Invoices', mode='overwrite')"
   ]
  },
  {
   "cell_type": "code",
   "execution_count": 42,
   "id": "62c6cc62",
   "metadata": {},
   "outputs": [
    {
     "data": {
      "application/vnd.jupyter.widget-view+json": {
       "model_id": "",
       "version_major": 2,
       "version_minor": 0
      },
      "text/plain": [
       "FloatProgress(value=0.0, bar_style='info', description='Progress:', layout=Layout(height='25px', width='50%'),…"
      ]
     },
     "metadata": {},
     "output_type": "display_data"
    },
    {
     "name": "stdout",
     "output_type": "stream",
     "text": [
      "+------------------+------+-------------------+-----------+--------+-------------+------------+----------+----------+\n",
      "|external reference|number|       counterparty| amount due|currency|cost currency|costing rate|  due date|issue date|\n",
      "+------------------+------+-------------------+-----------+--------+-------------+------------+----------+----------+\n",
      "|           SC25648|138099|         JSC TANDER| 21,124.80 |     USD|          ZAR|     15.5654|2022-04-07|2022-01-21|\n",
      "|           SC25646|138127|HORIZON FRESH FRUIT| 17,100.00 |     USD|          ZAR|     15.5142|2022-03-17|2022-01-21|\n",
      "|           SC25645|138129|HORIZON FRESH FRUIT| 17,100.00 |     USD|          ZAR|     15.5142|2022-03-17|2022-01-21|\n",
      "+------------------+------+-------------------+-----------+--------+-------------+------------+----------+----------+"
     ]
    }
   ],
   "source": [
    "source_df.show()"
   ]
  },
  {
   "cell_type": "code",
   "execution_count": null,
   "id": "60a824a0",
   "metadata": {},
   "outputs": [],
   "source": []
  }
 ],
 "metadata": {
  "kernelspec": {
   "display_name": "Sparkmagic (PySpark)",
   "language": "python",
   "name": "pysparkkernel"
  },
  "language_info": {
   "codemirror_mode": {
    "name": "python",
    "version": 3
   },
   "file_extension": ".py",
   "mimetype": "text/x-python",
   "name": "pyspark",
   "pygments_lexer": "python3"
  }
 },
 "nbformat": 4,
 "nbformat_minor": 5
}
